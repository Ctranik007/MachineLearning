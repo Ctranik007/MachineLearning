{
  "nbformat": 4,
  "nbformat_minor": 0,
  "metadata": {
    "colab": {
      "name": "ЛБ1.ipynb",
      "provenance": [],
      "collapsed_sections": []
    },
    "kernelspec": {
      "name": "python3",
      "display_name": "Python 3"
    },
    "language_info": {
      "name": "python"
    }
  },
  "cells": [
    {
      "cell_type": "code",
      "metadata": {
        "colab": {
          "base_uri": "https://localhost:8080/"
        },
        "id": "AjyZMBoxTUO3",
        "outputId": "6d1e2420-0ee7-46e9-8935-0d7035ce9dcc"
      },
      "source": [
        "from google.colab import drive\n",
        "drive.mount('/content/drive')"
      ],
      "execution_count": null,
      "outputs": [
        {
          "output_type": "stream",
          "name": "stdout",
          "text": [
            "Mounted at /content/drive\n"
          ]
        }
      ]
    },
    {
      "cell_type": "code",
      "metadata": {
        "id": "1x8_6okdVsja"
      },
      "source": [
        "import pandas as pd\n",
        "from sklearn.feature_selection import SelectKBest\n",
        "from sklearn.feature_selection import chi2\n",
        "import numpy as np\n",
        "import matplotlib.pyplot as plt"
      ],
      "execution_count": null,
      "outputs": []
    },
    {
      "cell_type": "code",
      "metadata": {
        "id": "DdPtYxCaaXxJ"
      },
      "source": [
        "import warnings\n",
        "\n",
        "warnings.filterwarnings('ignore')"
      ],
      "execution_count": null,
      "outputs": []
    },
    {
      "cell_type": "markdown",
      "metadata": {
        "id": "Tqa4sBz7V4cp"
      },
      "source": [
        "# Загрузка данных"
      ]
    },
    {
      "cell_type": "code",
      "metadata": {
        "id": "qbee93n2Vslx"
      },
      "source": [
        "df = pd.read_csv('drive/MyDrive/Heart_Disease_Prediction.csv')"
      ],
      "execution_count": null,
      "outputs": []
    },
    {
      "cell_type": "code",
      "metadata": {
        "colab": {
          "base_uri": "https://localhost:8080/",
          "height": 202
        },
        "id": "qFhN71NQVsqd",
        "outputId": "f3b08eba-dd3b-4da7-ef9b-078ae65c4e75"
      },
      "source": [
        "df.head()"
      ],
      "execution_count": null,
      "outputs": [
        {
          "output_type": "execute_result",
          "data": {
            "text/html": [
              "<div>\n",
              "<style scoped>\n",
              "    .dataframe tbody tr th:only-of-type {\n",
              "        vertical-align: middle;\n",
              "    }\n",
              "\n",
              "    .dataframe tbody tr th {\n",
              "        vertical-align: top;\n",
              "    }\n",
              "\n",
              "    .dataframe thead th {\n",
              "        text-align: right;\n",
              "    }\n",
              "</style>\n",
              "<table border=\"1\" class=\"dataframe\">\n",
              "  <thead>\n",
              "    <tr style=\"text-align: right;\">\n",
              "      <th></th>\n",
              "      <th>Age</th>\n",
              "      <th>Sex</th>\n",
              "      <th>Chest pain type</th>\n",
              "      <th>BP</th>\n",
              "      <th>Cholesterol</th>\n",
              "      <th>FBS over 120</th>\n",
              "      <th>EKG results</th>\n",
              "      <th>Max HR</th>\n",
              "      <th>Exercise angina</th>\n",
              "      <th>ST depression</th>\n",
              "      <th>Slope of ST</th>\n",
              "      <th>Number of vessels fluro</th>\n",
              "      <th>Thallium</th>\n",
              "      <th>Heart Disease</th>\n",
              "    </tr>\n",
              "  </thead>\n",
              "  <tbody>\n",
              "    <tr>\n",
              "      <th>0</th>\n",
              "      <td>70</td>\n",
              "      <td>1</td>\n",
              "      <td>4</td>\n",
              "      <td>130</td>\n",
              "      <td>322</td>\n",
              "      <td>0</td>\n",
              "      <td>2</td>\n",
              "      <td>109</td>\n",
              "      <td>0</td>\n",
              "      <td>2.4</td>\n",
              "      <td>2</td>\n",
              "      <td>3</td>\n",
              "      <td>3</td>\n",
              "      <td>Presence</td>\n",
              "    </tr>\n",
              "    <tr>\n",
              "      <th>1</th>\n",
              "      <td>67</td>\n",
              "      <td>0</td>\n",
              "      <td>3</td>\n",
              "      <td>115</td>\n",
              "      <td>564</td>\n",
              "      <td>0</td>\n",
              "      <td>2</td>\n",
              "      <td>160</td>\n",
              "      <td>0</td>\n",
              "      <td>1.6</td>\n",
              "      <td>2</td>\n",
              "      <td>0</td>\n",
              "      <td>7</td>\n",
              "      <td>Absence</td>\n",
              "    </tr>\n",
              "    <tr>\n",
              "      <th>2</th>\n",
              "      <td>57</td>\n",
              "      <td>1</td>\n",
              "      <td>2</td>\n",
              "      <td>124</td>\n",
              "      <td>261</td>\n",
              "      <td>0</td>\n",
              "      <td>0</td>\n",
              "      <td>141</td>\n",
              "      <td>0</td>\n",
              "      <td>0.3</td>\n",
              "      <td>1</td>\n",
              "      <td>0</td>\n",
              "      <td>7</td>\n",
              "      <td>Presence</td>\n",
              "    </tr>\n",
              "    <tr>\n",
              "      <th>3</th>\n",
              "      <td>64</td>\n",
              "      <td>1</td>\n",
              "      <td>4</td>\n",
              "      <td>128</td>\n",
              "      <td>263</td>\n",
              "      <td>0</td>\n",
              "      <td>0</td>\n",
              "      <td>105</td>\n",
              "      <td>1</td>\n",
              "      <td>0.2</td>\n",
              "      <td>2</td>\n",
              "      <td>1</td>\n",
              "      <td>7</td>\n",
              "      <td>Absence</td>\n",
              "    </tr>\n",
              "    <tr>\n",
              "      <th>4</th>\n",
              "      <td>74</td>\n",
              "      <td>0</td>\n",
              "      <td>2</td>\n",
              "      <td>120</td>\n",
              "      <td>269</td>\n",
              "      <td>0</td>\n",
              "      <td>2</td>\n",
              "      <td>121</td>\n",
              "      <td>1</td>\n",
              "      <td>0.2</td>\n",
              "      <td>1</td>\n",
              "      <td>1</td>\n",
              "      <td>3</td>\n",
              "      <td>Absence</td>\n",
              "    </tr>\n",
              "  </tbody>\n",
              "</table>\n",
              "</div>"
            ],
            "text/plain": [
              "   Age  Sex  Chest pain type  ...  Number of vessels fluro  Thallium  Heart Disease\n",
              "0   70    1                4  ...                        3         3       Presence\n",
              "1   67    0                3  ...                        0         7        Absence\n",
              "2   57    1                2  ...                        0         7       Presence\n",
              "3   64    1                4  ...                        1         7        Absence\n",
              "4   74    0                2  ...                        1         3        Absence\n",
              "\n",
              "[5 rows x 14 columns]"
            ]
          },
          "metadata": {},
          "execution_count": 5
        }
      ]
    },
    {
      "cell_type": "code",
      "metadata": {
        "colab": {
          "base_uri": "https://localhost:8080/"
        },
        "id": "1bQJeRULcEfq",
        "outputId": "7f6cf1b3-ca1c-4af3-a904-bc92d4454b63"
      },
      "source": [
        "print(df.info())"
      ],
      "execution_count": null,
      "outputs": [
        {
          "output_type": "stream",
          "name": "stdout",
          "text": [
            "<class 'pandas.core.frame.DataFrame'>\n",
            "RangeIndex: 270 entries, 0 to 269\n",
            "Data columns (total 14 columns):\n",
            " #   Column                   Non-Null Count  Dtype  \n",
            "---  ------                   --------------  -----  \n",
            " 0   Age                      270 non-null    int64  \n",
            " 1   Sex                      270 non-null    int64  \n",
            " 2   Chest pain type          270 non-null    int64  \n",
            " 3   BP                       270 non-null    int64  \n",
            " 4   Cholesterol              270 non-null    int64  \n",
            " 5   FBS over 120             270 non-null    int64  \n",
            " 6   EKG results              270 non-null    int64  \n",
            " 7   Max HR                   270 non-null    int64  \n",
            " 8   Exercise angina          270 non-null    int64  \n",
            " 9   ST depression            270 non-null    float64\n",
            " 10  Slope of ST              270 non-null    int64  \n",
            " 11  Number of vessels fluro  270 non-null    int64  \n",
            " 12  Thallium                 270 non-null    int64  \n",
            " 13  Heart Disease            270 non-null    object \n",
            "dtypes: float64(1), int64(12), object(1)\n",
            "memory usage: 29.7+ KB\n",
            "None\n"
          ]
        }
      ]
    },
    {
      "cell_type": "code",
      "metadata": {
        "colab": {
          "base_uri": "https://localhost:8080/",
          "height": 278
        },
        "id": "3Mr-2nZOUxs6",
        "outputId": "04e0b945-e662-423b-ec2b-64549d877ba0"
      },
      "source": [
        "plt.hist([df[df[\"Heart Disease\"]==\"Absence\"].Age, df[df[\"Heart Disease\"]==\"Presence\"].Age], bins = 20, alpha = 0.5, label = [\"no_heart_disease\",\"with heart disease\"])\n",
        "plt.xlabel(\"age\")\n",
        "plt.ylabel(\"percentage\")\n",
        "plt.legend()\n",
        "plt.show()"
      ],
      "execution_count": null,
      "outputs": [
        {
          "output_type": "display_data",
          "data": {
            "image/png": "[encoded data removed]",
            "text/plain": [
              "<Figure size 432x288 with 1 Axes>"
            ]
          },
          "metadata": {
            "needs_background": "light"
          }
        }
      ]
    },
    {
      "cell_type": "code",
      "metadata": {
        "colab": {
          "base_uri": "https://localhost:8080/"
        },
        "id": "wr0E9ycKjTUX",
        "outputId": "8b5f0984-cf9d-4acf-92ee-515807285cd3"
      },
      "source": [
        "y = df[\"Heart Disease\"]\n",
        "df.drop(\"Heart Disease\", axis=1, inplace=True)\n",
        "print(y.value_counts())"
      ],
      "execution_count": null,
      "outputs": [
        {
          "output_type": "stream",
          "name": "stdout",
          "text": [
            "Absence     150\n",
            "Presence    120\n",
            "Name: Heart Disease, dtype: int64\n"
          ]
        }
      ]
    },
    {
      "cell_type": "markdown",
      "metadata": {
        "id": "UvxC7XdXVdF4"
      },
      "source": [
        "Заменим название категории и разделим их на разные столбцы"
      ]
    },
    {
      "cell_type": "code",
      "metadata": {
        "id": "idZ0AkxqUxxX"
      },
      "source": [
        "categorical_features = [\"Sex\", \"Chest pain type\", \"FBS over 120\", \"EKG results\", \"Exercise angina\", \"ST depression\", \"Number of vessels fluro\", \"Thallium\"]\n",
        "df[categorical_features] = df[categorical_features].astype(\"category\")"
      ],
      "execution_count": null,
      "outputs": []
    },
    {
      "cell_type": "code",
      "metadata": {
        "id": "ykicbjwJkA-j"
      },
      "source": [
        "from sklearn.preprocessing import MinMaxScaler"
      ],
      "execution_count": null,
      "outputs": []
    },
    {
      "cell_type": "code",
      "metadata": {
        "id": "bcgRvCXyj6Te"
      },
      "source": [
        "continuous_features = set(df.columns) - set(categorical_features)\n",
        "scaler = MinMaxScaler()\n",
        "X = df.copy()\n",
        "X[list(continuous_features)] = scaler.fit_transform(df[list(continuous_features)])"
      ],
      "execution_count": null,
      "outputs": []
    },
    {
      "cell_type": "code",
      "metadata": {
        "colab": {
          "base_uri": "https://localhost:8080/",
          "height": 414
        },
        "id": "cre0RQ8erZFZ",
        "outputId": "c8344b48-514f-4150-c00c-28de2735da56"
      },
      "source": [
        "X"
      ],
      "execution_count": null,
      "outputs": [
        {
          "output_type": "execute_result",
          "data": {
            "text/html": [
              "<div>\n",
              "<style scoped>\n",
              "    .dataframe tbody tr th:only-of-type {\n",
              "        vertical-align: middle;\n",
              "    }\n",
              "\n",
              "    .dataframe tbody tr th {\n",
              "        vertical-align: top;\n",
              "    }\n",
              "\n",
              "    .dataframe thead th {\n",
              "        text-align: right;\n",
              "    }\n",
              "</style>\n",
              "<table border=\"1\" class=\"dataframe\">\n",
              "  <thead>\n",
              "    <tr style=\"text-align: right;\">\n",
              "      <th></th>\n",
              "      <th>Age</th>\n",
              "      <th>Sex</th>\n",
              "      <th>Chest pain type</th>\n",
              "      <th>BP</th>\n",
              "      <th>Cholesterol</th>\n",
              "      <th>FBS over 120</th>\n",
              "      <th>EKG results</th>\n",
              "      <th>Max HR</th>\n",
              "      <th>Exercise angina</th>\n",
              "      <th>ST depression</th>\n",
              "      <th>Slope of ST</th>\n",
              "      <th>Number of vessels fluro</th>\n",
              "      <th>Thallium</th>\n",
              "    </tr>\n",
              "  </thead>\n",
              "  <tbody>\n",
              "    <tr>\n",
              "      <th>0</th>\n",
              "      <td>0.854167</td>\n",
              "      <td>1</td>\n",
              "      <td>4</td>\n",
              "      <td>0.339623</td>\n",
              "      <td>0.447489</td>\n",
              "      <td>0</td>\n",
              "      <td>2</td>\n",
              "      <td>0.290076</td>\n",
              "      <td>0</td>\n",
              "      <td>2.4</td>\n",
              "      <td>0.5</td>\n",
              "      <td>3</td>\n",
              "      <td>3</td>\n",
              "    </tr>\n",
              "    <tr>\n",
              "      <th>1</th>\n",
              "      <td>0.791667</td>\n",
              "      <td>0</td>\n",
              "      <td>3</td>\n",
              "      <td>0.198113</td>\n",
              "      <td>1.000000</td>\n",
              "      <td>0</td>\n",
              "      <td>2</td>\n",
              "      <td>0.679389</td>\n",
              "      <td>0</td>\n",
              "      <td>1.6</td>\n",
              "      <td>0.5</td>\n",
              "      <td>0</td>\n",
              "      <td>7</td>\n",
              "    </tr>\n",
              "    <tr>\n",
              "      <th>2</th>\n",
              "      <td>0.583333</td>\n",
              "      <td>1</td>\n",
              "      <td>2</td>\n",
              "      <td>0.283019</td>\n",
              "      <td>0.308219</td>\n",
              "      <td>0</td>\n",
              "      <td>0</td>\n",
              "      <td>0.534351</td>\n",
              "      <td>0</td>\n",
              "      <td>0.3</td>\n",
              "      <td>0.0</td>\n",
              "      <td>0</td>\n",
              "      <td>7</td>\n",
              "    </tr>\n",
              "    <tr>\n",
              "      <th>3</th>\n",
              "      <td>0.729167</td>\n",
              "      <td>1</td>\n",
              "      <td>4</td>\n",
              "      <td>0.320755</td>\n",
              "      <td>0.312785</td>\n",
              "      <td>0</td>\n",
              "      <td>0</td>\n",
              "      <td>0.259542</td>\n",
              "      <td>1</td>\n",
              "      <td>0.2</td>\n",
              "      <td>0.5</td>\n",
              "      <td>1</td>\n",
              "      <td>7</td>\n",
              "    </tr>\n",
              "    <tr>\n",
              "      <th>4</th>\n",
              "      <td>0.937500</td>\n",
              "      <td>0</td>\n",
              "      <td>2</td>\n",
              "      <td>0.245283</td>\n",
              "      <td>0.326484</td>\n",
              "      <td>0</td>\n",
              "      <td>2</td>\n",
              "      <td>0.381679</td>\n",
              "      <td>1</td>\n",
              "      <td>0.2</td>\n",
              "      <td>0.0</td>\n",
              "      <td>1</td>\n",
              "      <td>3</td>\n",
              "    </tr>\n",
              "    <tr>\n",
              "      <th>...</th>\n",
              "      <td>...</td>\n",
              "      <td>...</td>\n",
              "      <td>...</td>\n",
              "      <td>...</td>\n",
              "      <td>...</td>\n",
              "      <td>...</td>\n",
              "      <td>...</td>\n",
              "      <td>...</td>\n",
              "      <td>...</td>\n",
              "      <td>...</td>\n",
              "      <td>...</td>\n",
              "      <td>...</td>\n",
              "      <td>...</td>\n",
              "    </tr>\n",
              "    <tr>\n",
              "      <th>265</th>\n",
              "      <td>0.479167</td>\n",
              "      <td>1</td>\n",
              "      <td>3</td>\n",
              "      <td>0.735849</td>\n",
              "      <td>0.166667</td>\n",
              "      <td>1</td>\n",
              "      <td>0</td>\n",
              "      <td>0.694656</td>\n",
              "      <td>0</td>\n",
              "      <td>0.5</td>\n",
              "      <td>0.0</td>\n",
              "      <td>0</td>\n",
              "      <td>7</td>\n",
              "    </tr>\n",
              "    <tr>\n",
              "      <th>266</th>\n",
              "      <td>0.312500</td>\n",
              "      <td>1</td>\n",
              "      <td>2</td>\n",
              "      <td>0.245283</td>\n",
              "      <td>0.312785</td>\n",
              "      <td>0</td>\n",
              "      <td>0</td>\n",
              "      <td>0.778626</td>\n",
              "      <td>0</td>\n",
              "      <td>0.0</td>\n",
              "      <td>0.0</td>\n",
              "      <td>0</td>\n",
              "      <td>7</td>\n",
              "    </tr>\n",
              "    <tr>\n",
              "      <th>267</th>\n",
              "      <td>0.562500</td>\n",
              "      <td>0</td>\n",
              "      <td>2</td>\n",
              "      <td>0.433962</td>\n",
              "      <td>0.383562</td>\n",
              "      <td>0</td>\n",
              "      <td>2</td>\n",
              "      <td>0.625954</td>\n",
              "      <td>0</td>\n",
              "      <td>1.3</td>\n",
              "      <td>0.5</td>\n",
              "      <td>0</td>\n",
              "      <td>3</td>\n",
              "    </tr>\n",
              "    <tr>\n",
              "      <th>268</th>\n",
              "      <td>0.583333</td>\n",
              "      <td>1</td>\n",
              "      <td>4</td>\n",
              "      <td>0.433962</td>\n",
              "      <td>0.150685</td>\n",
              "      <td>0</td>\n",
              "      <td>0</td>\n",
              "      <td>0.587786</td>\n",
              "      <td>0</td>\n",
              "      <td>0.4</td>\n",
              "      <td>0.5</td>\n",
              "      <td>0</td>\n",
              "      <td>6</td>\n",
              "    </tr>\n",
              "    <tr>\n",
              "      <th>269</th>\n",
              "      <td>0.791667</td>\n",
              "      <td>1</td>\n",
              "      <td>4</td>\n",
              "      <td>0.622642</td>\n",
              "      <td>0.365297</td>\n",
              "      <td>0</td>\n",
              "      <td>2</td>\n",
              "      <td>0.282443</td>\n",
              "      <td>1</td>\n",
              "      <td>1.5</td>\n",
              "      <td>0.5</td>\n",
              "      <td>3</td>\n",
              "      <td>3</td>\n",
              "    </tr>\n",
              "  </tbody>\n",
              "</table>\n",
              "<p>270 rows × 13 columns</p>\n",
              "</div>"
            ],
            "text/plain": [
              "          Age Sex Chest pain type  ...  Slope of ST  Number of vessels fluro Thallium\n",
              "0    0.854167   1               4  ...          0.5                        3        3\n",
              "1    0.791667   0               3  ...          0.5                        0        7\n",
              "2    0.583333   1               2  ...          0.0                        0        7\n",
              "3    0.729167   1               4  ...          0.5                        1        7\n",
              "4    0.937500   0               2  ...          0.0                        1        3\n",
              "..        ...  ..             ...  ...          ...                      ...      ...\n",
              "265  0.479167   1               3  ...          0.0                        0        7\n",
              "266  0.312500   1               2  ...          0.0                        0        7\n",
              "267  0.562500   0               2  ...          0.5                        0        3\n",
              "268  0.583333   1               4  ...          0.5                        0        6\n",
              "269  0.791667   1               4  ...          0.5                        3        3\n",
              "\n",
              "[270 rows x 13 columns]"
            ]
          },
          "metadata": {},
          "execution_count": 13
        }
      ]
    },
    {
      "cell_type": "markdown",
      "metadata": {
        "id": "1UTMQzawWMc6"
      },
      "source": [
        "# Одномерный отбор признаков"
      ]
    },
    {
      "cell_type": "code",
      "metadata": {
        "colab": {
          "base_uri": "https://localhost:8080/"
        },
        "id": "o7l-9ufEW6wU",
        "outputId": "85b2e2a3-6211-47f6-e8e1-9e4c08a91a92"
      },
      "source": [
        "X.columns.size"
      ],
      "execution_count": null,
      "outputs": [
        {
          "output_type": "execute_result",
          "data": {
            "text/plain": [
              "13"
            ]
          },
          "metadata": {},
          "execution_count": 53
        }
      ]
    },
    {
      "cell_type": "code",
      "metadata": {
        "colab": {
          "base_uri": "https://localhost:8080/"
        },
        "id": "8m32TZWHZeAu",
        "outputId": "1649432f-ee96-4f40-e8e2-5164823bc5b2"
      },
      "source": [
        "X.columns"
      ],
      "execution_count": null,
      "outputs": [
        {
          "output_type": "execute_result",
          "data": {
            "text/plain": [
              "Index(['Age', 'Sex', 'Chest pain type', 'BP', 'Cholesterol', 'FBS over 120',\n",
              "       'EKG results', 'Max HR', 'Exercise angina', 'ST depression',\n",
              "       'Slope of ST', 'Number of vessels fluro', 'Thallium'],\n",
              "      dtype='object')"
            ]
          },
          "metadata": {},
          "execution_count": 54
        }
      ]
    },
    {
      "cell_type": "code",
      "metadata": {
        "id": "hOT1eo09VsvE"
      },
      "source": [
        "skb = SelectKBest(k=2, score_func=chi2)\n",
        "X_new1 = skb.fit_transform(X, y)"
      ],
      "execution_count": null,
      "outputs": []
    },
    {
      "cell_type": "code",
      "metadata": {
        "colab": {
          "base_uri": "https://localhost:8080/",
          "height": 447
        },
        "id": "VDJfAalVrlVf",
        "outputId": "6735394f-f628-435a-c0b9-70de9a991fec"
      },
      "source": [
        "pd.DataFrame(data={'score':skb.scores_}, \n",
        "             index=X.columns).sort_values(by='score')"
      ],
      "execution_count": null,
      "outputs": [
        {
          "output_type": "execute_result",
          "data": {
            "text/html": [
              "<div>\n",
              "<style scoped>\n",
              "    .dataframe tbody tr th:only-of-type {\n",
              "        vertical-align: middle;\n",
              "    }\n",
              "\n",
              "    .dataframe tbody tr th {\n",
              "        vertical-align: top;\n",
              "    }\n",
              "\n",
              "    .dataframe thead th {\n",
              "        text-align: right;\n",
              "    }\n",
              "</style>\n",
              "<table border=\"1\" class=\"dataframe\">\n",
              "  <thead>\n",
              "    <tr style=\"text-align: right;\">\n",
              "      <th></th>\n",
              "      <th>score</th>\n",
              "    </tr>\n",
              "  </thead>\n",
              "  <tbody>\n",
              "    <tr>\n",
              "      <th>FBS over 120</th>\n",
              "      <td>0.061250</td>\n",
              "    </tr>\n",
              "    <tr>\n",
              "      <th>Cholesterol</th>\n",
              "      <td>0.184806</td>\n",
              "    </tr>\n",
              "    <tr>\n",
              "      <th>BP</th>\n",
              "      <td>0.523440</td>\n",
              "    </tr>\n",
              "    <tr>\n",
              "      <th>Age</th>\n",
              "      <td>0.824226</td>\n",
              "    </tr>\n",
              "    <tr>\n",
              "      <th>Max HR</th>\n",
              "      <td>2.453241</td>\n",
              "    </tr>\n",
              "    <tr>\n",
              "      <th>Sex</th>\n",
              "      <td>7.711475</td>\n",
              "    </tr>\n",
              "    <tr>\n",
              "      <th>EKG results</th>\n",
              "      <td>8.688587</td>\n",
              "    </tr>\n",
              "    <tr>\n",
              "      <th>Slope of ST</th>\n",
              "      <td>9.889241</td>\n",
              "    </tr>\n",
              "    <tr>\n",
              "      <th>Chest pain type</th>\n",
              "      <td>13.330455</td>\n",
              "    </tr>\n",
              "    <tr>\n",
              "      <th>Exercise angina</th>\n",
              "      <td>31.822472</td>\n",
              "    </tr>\n",
              "    <tr>\n",
              "      <th>ST depression</th>\n",
              "      <td>58.697286</td>\n",
              "    </tr>\n",
              "    <tr>\n",
              "      <th>Thallium</th>\n",
              "      <td>59.463091</td>\n",
              "    </tr>\n",
              "    <tr>\n",
              "      <th>Number of vessels fluro</th>\n",
              "      <td>74.122652</td>\n",
              "    </tr>\n",
              "  </tbody>\n",
              "</table>\n",
              "</div>"
            ],
            "text/plain": [
              "                             score\n",
              "FBS over 120              0.061250\n",
              "Cholesterol               0.184806\n",
              "BP                        0.523440\n",
              "Age                       0.824226\n",
              "Max HR                    2.453241\n",
              "Sex                       7.711475\n",
              "EKG results               8.688587\n",
              "Slope of ST               9.889241\n",
              "Chest pain type          13.330455\n",
              "Exercise angina          31.822472\n",
              "ST depression            58.697286\n",
              "Thallium                 59.463091\n",
              "Number of vessels fluro  74.122652"
            ]
          },
          "metadata": {},
          "execution_count": 56
        }
      ]
    },
    {
      "cell_type": "code",
      "metadata": {
        "colab": {
          "base_uri": "https://localhost:8080/"
        },
        "id": "1kkbztxxGw2T",
        "outputId": "a57e7c4a-9fb6-459a-bdf1-203fb220a1e4"
      },
      "source": [
        "X_new1.shape"
      ],
      "execution_count": null,
      "outputs": [
        {
          "output_type": "execute_result",
          "data": {
            "text/plain": [
              "(270, 6)"
            ]
          },
          "metadata": {},
          "execution_count": 18
        }
      ]
    },
    {
      "cell_type": "markdown",
      "metadata": {
        "id": "0bDnsN6DZW3x"
      },
      "source": [
        "# Рекурсивное исключение признаков"
      ]
    },
    {
      "cell_type": "code",
      "metadata": {
        "id": "z6qzWDYqZWPL"
      },
      "source": [
        "from sklearn.feature_selection import RFE\n",
        "from sklearn.linear_model import LogisticRegression\n",
        "from sklearn.ensemble import RandomForestClassifier"
      ],
      "execution_count": null,
      "outputs": []
    },
    {
      "cell_type": "code",
      "metadata": {
        "colab": {
          "base_uri": "https://localhost:8080/"
        },
        "id": "Sa7YrqgCZfUZ",
        "outputId": "167a6dad-7e5c-4f95-c24f-2970a662b559"
      },
      "source": [
        "rfe = RFE(estimator=RandomForestClassifier(), n_features_to_select=5)\n",
        "X_new2 = rfe.fit_transform(X, y)\n",
        "X_new2"
      ],
      "execution_count": null,
      "outputs": [
        {
          "output_type": "execute_result",
          "data": {
            "text/plain": [
              "array([[4.        , 0.44748858, 0.29007634, 2.4       , 3.        ],\n",
              "       [3.        , 1.        , 0.67938931, 1.6       , 7.        ],\n",
              "       [2.        , 0.30821918, 0.53435115, 0.3       , 7.        ],\n",
              "       ...,\n",
              "       [2.        , 0.38356164, 0.6259542 , 1.3       , 3.        ],\n",
              "       [4.        , 0.15068493, 0.58778626, 0.4       , 6.        ],\n",
              "       [4.        , 0.3652968 , 0.28244275, 1.5       , 3.        ]])"
            ]
          },
          "metadata": {},
          "execution_count": 20
        }
      ]
    },
    {
      "cell_type": "code",
      "metadata": {
        "colab": {
          "base_uri": "https://localhost:8080/",
          "height": 447
        },
        "id": "9VEXi6MmbXRA",
        "outputId": "672da19b-0176-4e6e-9be4-d1e389571f12"
      },
      "source": [
        "pd.DataFrame(data={'score':rfe.ranking_,\n",
        "                   'support':rfe.get_support()}, \n",
        "             index=X.columns).sort_values(by='score')"
      ],
      "execution_count": null,
      "outputs": [
        {
          "output_type": "execute_result",
          "data": {
            "text/html": [
              "<div>\n",
              "<style scoped>\n",
              "    .dataframe tbody tr th:only-of-type {\n",
              "        vertical-align: middle;\n",
              "    }\n",
              "\n",
              "    .dataframe tbody tr th {\n",
              "        vertical-align: top;\n",
              "    }\n",
              "\n",
              "    .dataframe thead th {\n",
              "        text-align: right;\n",
              "    }\n",
              "</style>\n",
              "<table border=\"1\" class=\"dataframe\">\n",
              "  <thead>\n",
              "    <tr style=\"text-align: right;\">\n",
              "      <th></th>\n",
              "      <th>score</th>\n",
              "      <th>support</th>\n",
              "    </tr>\n",
              "  </thead>\n",
              "  <tbody>\n",
              "    <tr>\n",
              "      <th>Chest pain type</th>\n",
              "      <td>1</td>\n",
              "      <td>True</td>\n",
              "    </tr>\n",
              "    <tr>\n",
              "      <th>Cholesterol</th>\n",
              "      <td>1</td>\n",
              "      <td>True</td>\n",
              "    </tr>\n",
              "    <tr>\n",
              "      <th>Max HR</th>\n",
              "      <td>1</td>\n",
              "      <td>True</td>\n",
              "    </tr>\n",
              "    <tr>\n",
              "      <th>ST depression</th>\n",
              "      <td>1</td>\n",
              "      <td>True</td>\n",
              "    </tr>\n",
              "    <tr>\n",
              "      <th>Thallium</th>\n",
              "      <td>1</td>\n",
              "      <td>True</td>\n",
              "    </tr>\n",
              "    <tr>\n",
              "      <th>Number of vessels fluro</th>\n",
              "      <td>2</td>\n",
              "      <td>False</td>\n",
              "    </tr>\n",
              "    <tr>\n",
              "      <th>BP</th>\n",
              "      <td>3</td>\n",
              "      <td>False</td>\n",
              "    </tr>\n",
              "    <tr>\n",
              "      <th>Age</th>\n",
              "      <td>4</td>\n",
              "      <td>False</td>\n",
              "    </tr>\n",
              "    <tr>\n",
              "      <th>Slope of ST</th>\n",
              "      <td>5</td>\n",
              "      <td>False</td>\n",
              "    </tr>\n",
              "    <tr>\n",
              "      <th>Exercise angina</th>\n",
              "      <td>6</td>\n",
              "      <td>False</td>\n",
              "    </tr>\n",
              "    <tr>\n",
              "      <th>Sex</th>\n",
              "      <td>7</td>\n",
              "      <td>False</td>\n",
              "    </tr>\n",
              "    <tr>\n",
              "      <th>EKG results</th>\n",
              "      <td>8</td>\n",
              "      <td>False</td>\n",
              "    </tr>\n",
              "    <tr>\n",
              "      <th>FBS over 120</th>\n",
              "      <td>9</td>\n",
              "      <td>False</td>\n",
              "    </tr>\n",
              "  </tbody>\n",
              "</table>\n",
              "</div>"
            ],
            "text/plain": [
              "                         score  support\n",
              "Chest pain type              1     True\n",
              "Cholesterol                  1     True\n",
              "Max HR                       1     True\n",
              "ST depression                1     True\n",
              "Thallium                     1     True\n",
              "Number of vessels fluro      2    False\n",
              "BP                           3    False\n",
              "Age                          4    False\n",
              "Slope of ST                  5    False\n",
              "Exercise angina              6    False\n",
              "Sex                          7    False\n",
              "EKG results                  8    False\n",
              "FBS over 120                 9    False"
            ]
          },
          "metadata": {},
          "execution_count": 21
        }
      ]
    },
    {
      "cell_type": "markdown",
      "metadata": {
        "id": "9d619L-gbp_g"
      },
      "source": [
        "Выбираем первые 6 признаков: sex_Male, cp_atypical angina, cp_non-anginal pain, cp_typical angina, eslope_upsloping, thal_reversable defect"
      ]
    },
    {
      "cell_type": "markdown",
      "metadata": {
        "id": "NCMpjKEsaQdT"
      },
      "source": [
        "# Метод главных компонент"
      ]
    },
    {
      "cell_type": "code",
      "metadata": {
        "id": "2n4TUwpJZfXB"
      },
      "source": [
        "from sklearn.decomposition import PCA"
      ],
      "execution_count": null,
      "outputs": []
    },
    {
      "cell_type": "code",
      "metadata": {
        "colab": {
          "base_uri": "https://localhost:8080/"
        },
        "id": "mqcIkwHLZfbS",
        "outputId": "b7cf8971-2f1a-4214-8f2c-a5ebcf6ce026"
      },
      "source": [
        "# feature extraction\n",
        "pca = PCA(n_components=6)\n",
        "X_new3 = pca.fit_transform(X, y)\n",
        "\n",
        "# summarize components\n",
        "print(\"Explained Variance: \",pca.explained_variance_ratio_)\n",
        "print(X_new3[0:5,:])"
      ],
      "execution_count": null,
      "outputs": [
        {
          "output_type": "stream",
          "name": "stdout",
          "text": [
            "Explained Variance:  [0.48895719 0.15234791 0.10744672 0.09865556 0.08055799 0.02258517]\n",
            "[[-0.62844628  2.93760075 -0.29766082 -1.06189992  1.17955083 -0.16931654]\n",
            " [ 2.08240403 -0.13133725 -0.37911578  1.28632622 -0.58032968  1.10202791]\n",
            " [ 1.57502857 -2.3126685   0.50344007  0.84614964  0.35055748  0.07415707]\n",
            " [ 2.17451635 -1.44892111 -0.24282888 -1.09671865 -0.0423531  -0.38077143]\n",
            " [-1.91262767  0.37215569 -0.82669794  0.67909252  0.86015243 -0.06053209]]\n"
          ]
        }
      ]
    },
    {
      "cell_type": "code",
      "metadata": {
        "colab": {
          "base_uri": "https://localhost:8080/",
          "height": 232
        },
        "id": "vur0QgBeb-bh",
        "outputId": "51a56953-8ef7-4fe2-93af-142e62d066e9"
      },
      "source": [
        "evr = pca.explained_variance_ratio_\n",
        "pca_df = pd.DataFrame()\n",
        "pca_df['Explained Variance Ratio'] = evr\n",
        "pca_df.head(10)"
      ],
      "execution_count": null,
      "outputs": [
        {
          "output_type": "execute_result",
          "data": {
            "text/html": [
              "<div>\n",
              "<style scoped>\n",
              "    .dataframe tbody tr th:only-of-type {\n",
              "        vertical-align: middle;\n",
              "    }\n",
              "\n",
              "    .dataframe tbody tr th {\n",
              "        vertical-align: top;\n",
              "    }\n",
              "\n",
              "    .dataframe thead th {\n",
              "        text-align: right;\n",
              "    }\n",
              "</style>\n",
              "<table border=\"1\" class=\"dataframe\">\n",
              "  <thead>\n",
              "    <tr style=\"text-align: right;\">\n",
              "      <th></th>\n",
              "      <th>Explained Variance Ratio</th>\n",
              "    </tr>\n",
              "  </thead>\n",
              "  <tbody>\n",
              "    <tr>\n",
              "      <th>0</th>\n",
              "      <td>0.488957</td>\n",
              "    </tr>\n",
              "    <tr>\n",
              "      <th>1</th>\n",
              "      <td>0.152348</td>\n",
              "    </tr>\n",
              "    <tr>\n",
              "      <th>2</th>\n",
              "      <td>0.107447</td>\n",
              "    </tr>\n",
              "    <tr>\n",
              "      <th>3</th>\n",
              "      <td>0.098656</td>\n",
              "    </tr>\n",
              "    <tr>\n",
              "      <th>4</th>\n",
              "      <td>0.080558</td>\n",
              "    </tr>\n",
              "    <tr>\n",
              "      <th>5</th>\n",
              "      <td>0.022585</td>\n",
              "    </tr>\n",
              "  </tbody>\n",
              "</table>\n",
              "</div>"
            ],
            "text/plain": [
              "   Explained Variance Ratio\n",
              "0                  0.488957\n",
              "1                  0.152348\n",
              "2                  0.107447\n",
              "3                  0.098656\n",
              "4                  0.080558\n",
              "5                  0.022585"
            ]
          },
          "metadata": {},
          "execution_count": 24
        }
      ]
    },
    {
      "cell_type": "markdown",
      "metadata": {
        "id": "hBXGQmWdplZb"
      },
      "source": [
        "# Отбор на основе важности признаков"
      ]
    },
    {
      "cell_type": "code",
      "metadata": {
        "id": "AMoRbY-wp447"
      },
      "source": [
        "from sklearn.ensemble import ExtraTreesClassifier "
      ],
      "execution_count": null,
      "outputs": []
    },
    {
      "cell_type": "code",
      "metadata": {
        "colab": {
          "base_uri": "https://localhost:8080/"
        },
        "id": "a39zUgIgpk8I",
        "outputId": "dcf570d4-71f8-461f-fb77-14b74b6b7f11"
      },
      "source": [
        "tree = ExtraTreesClassifier()\n",
        "tree.fit(X, y)\n",
        "print(tree.feature_importances_)"
      ],
      "execution_count": null,
      "outputs": [
        {
          "output_type": "stream",
          "name": "stdout",
          "text": [
            "[0.07414554 0.04662345 0.1095705  0.06373451 0.06479833 0.02156024\n",
            " 0.03602395 0.07287552 0.0859242  0.07618508 0.053847   0.13174955\n",
            " 0.16296212]\n"
          ]
        }
      ]
    },
    {
      "cell_type": "code",
      "metadata": {
        "colab": {
          "base_uri": "https://localhost:8080/",
          "height": 447
        },
        "id": "r9ERmIZ_qNdL",
        "outputId": "e0c74c76-5681-4dcd-8955-a9e19eb82f55"
      },
      "source": [
        "pd.DataFrame(data={'score':tree.feature_importances_}, \n",
        "             index=X.columns)"
      ],
      "execution_count": null,
      "outputs": [
        {
          "output_type": "execute_result",
          "data": {
            "text/html": [
              "<div>\n",
              "<style scoped>\n",
              "    .dataframe tbody tr th:only-of-type {\n",
              "        vertical-align: middle;\n",
              "    }\n",
              "\n",
              "    .dataframe tbody tr th {\n",
              "        vertical-align: top;\n",
              "    }\n",
              "\n",
              "    .dataframe thead th {\n",
              "        text-align: right;\n",
              "    }\n",
              "</style>\n",
              "<table border=\"1\" class=\"dataframe\">\n",
              "  <thead>\n",
              "    <tr style=\"text-align: right;\">\n",
              "      <th></th>\n",
              "      <th>score</th>\n",
              "    </tr>\n",
              "  </thead>\n",
              "  <tbody>\n",
              "    <tr>\n",
              "      <th>Age</th>\n",
              "      <td>0.074146</td>\n",
              "    </tr>\n",
              "    <tr>\n",
              "      <th>Sex</th>\n",
              "      <td>0.046623</td>\n",
              "    </tr>\n",
              "    <tr>\n",
              "      <th>Chest pain type</th>\n",
              "      <td>0.109571</td>\n",
              "    </tr>\n",
              "    <tr>\n",
              "      <th>BP</th>\n",
              "      <td>0.063735</td>\n",
              "    </tr>\n",
              "    <tr>\n",
              "      <th>Cholesterol</th>\n",
              "      <td>0.064798</td>\n",
              "    </tr>\n",
              "    <tr>\n",
              "      <th>FBS over 120</th>\n",
              "      <td>0.021560</td>\n",
              "    </tr>\n",
              "    <tr>\n",
              "      <th>EKG results</th>\n",
              "      <td>0.036024</td>\n",
              "    </tr>\n",
              "    <tr>\n",
              "      <th>Max HR</th>\n",
              "      <td>0.072876</td>\n",
              "    </tr>\n",
              "    <tr>\n",
              "      <th>Exercise angina</th>\n",
              "      <td>0.085924</td>\n",
              "    </tr>\n",
              "    <tr>\n",
              "      <th>ST depression</th>\n",
              "      <td>0.076185</td>\n",
              "    </tr>\n",
              "    <tr>\n",
              "      <th>Slope of ST</th>\n",
              "      <td>0.053847</td>\n",
              "    </tr>\n",
              "    <tr>\n",
              "      <th>Number of vessels fluro</th>\n",
              "      <td>0.131750</td>\n",
              "    </tr>\n",
              "    <tr>\n",
              "      <th>Thallium</th>\n",
              "      <td>0.162962</td>\n",
              "    </tr>\n",
              "  </tbody>\n",
              "</table>\n",
              "</div>"
            ],
            "text/plain": [
              "                            score\n",
              "Age                      0.074146\n",
              "Sex                      0.046623\n",
              "Chest pain type          0.109571\n",
              "BP                       0.063735\n",
              "Cholesterol              0.064798\n",
              "FBS over 120             0.021560\n",
              "EKG results              0.036024\n",
              "Max HR                   0.072876\n",
              "Exercise angina          0.085924\n",
              "ST depression            0.076185\n",
              "Slope of ST              0.053847\n",
              "Number of vessels fluro  0.131750\n",
              "Thallium                 0.162962"
            ]
          },
          "metadata": {},
          "execution_count": 27
        }
      ]
    },
    {
      "cell_type": "code",
      "metadata": {
        "colab": {
          "base_uri": "https://localhost:8080/"
        },
        "id": "wKoy4aRfsx-l",
        "outputId": "b7dc7a00-46cc-417a-993d-1779c8d294c1"
      },
      "source": [
        "X_new4 = X[[\"Age\",\"Sex\",\"Chest pain type\",\"BP\",\"Cholesterol\",\"FBS over 120\"]]\n",
        "X_new4.values"
      ],
      "execution_count": null,
      "outputs": [
        {
          "output_type": "execute_result",
          "data": {
            "text/plain": [
              "array([[0.85416667, 1.        , 4.        , 0.33962264, 0.44748858,\n",
              "        0.        ],\n",
              "       [0.79166667, 0.        , 3.        , 0.19811321, 1.        ,\n",
              "        0.        ],\n",
              "       [0.58333333, 1.        , 2.        , 0.28301887, 0.30821918,\n",
              "        0.        ],\n",
              "       ...,\n",
              "       [0.5625    , 0.        , 2.        , 0.43396226, 0.38356164,\n",
              "        0.        ],\n",
              "       [0.58333333, 1.        , 4.        , 0.43396226, 0.15068493,\n",
              "        0.        ],\n",
              "       [0.79166667, 1.        , 4.        , 0.62264151, 0.3652968 ,\n",
              "        0.        ]])"
            ]
          },
          "metadata": {},
          "execution_count": 28
        }
      ]
    },
    {
      "cell_type": "markdown",
      "metadata": {
        "id": "Wv-nQPzSnOQv"
      },
      "source": [
        "# Проверка на моделях"
      ]
    },
    {
      "cell_type": "code",
      "metadata": {
        "id": "FwRifLuyneB7"
      },
      "source": [
        "from sklearn.metrics import classification_report, confusion_matrix, accuracy_score\n",
        "from sklearn.naive_bayes import GaussianNB\n",
        "from sklearn import tree\n",
        "from sklearn.model_selection import train_test_split"
      ],
      "execution_count": null,
      "outputs": []
    },
    {
      "cell_type": "code",
      "metadata": {
        "colab": {
          "base_uri": "https://localhost:8080/"
        },
        "id": "omAcQOTxqoXv",
        "outputId": "674f2b39-bc07-40bb-b99c-acd705303664"
      },
      "source": [
        "print(X_new1)\n",
        "print(X_new2)\n",
        "print(X_new3)\n",
        "print(X_new4)"
      ],
      "execution_count": null,
      "outputs": [
        {
          "output_type": "stream",
          "name": "stdout",
          "text": [
            "[[4.  0.  2.4 0.5 3.  3. ]\n",
            " [3.  0.  1.6 0.5 0.  7. ]\n",
            " [2.  0.  0.3 0.  0.  7. ]\n",
            " ...\n",
            " [2.  0.  1.3 0.5 0.  3. ]\n",
            " [4.  0.  0.4 0.5 0.  6. ]\n",
            " [4.  1.  1.5 0.5 3.  3. ]]\n",
            "[[4.         0.44748858 0.29007634 2.4        3.        ]\n",
            " [3.         1.         0.67938931 1.6        7.        ]\n",
            " [2.         0.30821918 0.53435115 0.3        7.        ]\n",
            " ...\n",
            " [2.         0.38356164 0.6259542  1.3        3.        ]\n",
            " [4.         0.15068493 0.58778626 0.4        6.        ]\n",
            " [4.         0.3652968  0.28244275 1.5        3.        ]]\n",
            "[[-0.62844628  2.93760075 -0.29766082 -1.06189992  1.17955083 -0.16931654]\n",
            " [ 2.08240403 -0.13133725 -0.37911578  1.28632622 -0.58032968  1.10202791]\n",
            " [ 1.57502857 -2.3126685   0.50344007  0.84614964  0.35055748  0.07415707]\n",
            " ...\n",
            " [-1.8566845   0.7434512   0.04748313  1.4036111  -0.0377495   0.54168413]\n",
            " [ 1.03819711 -1.42686864  0.12519662 -0.69186482 -0.77473087  0.08070713]\n",
            " [-0.77725087  2.40139679 -0.86313251 -1.28396519  1.19716713 -0.74318723]]\n",
            "          Age Sex Chest pain type        BP  Cholesterol FBS over 120\n",
            "0    0.854167   1               4  0.339623     0.447489            0\n",
            "1    0.791667   0               3  0.198113     1.000000            0\n",
            "2    0.583333   1               2  0.283019     0.308219            0\n",
            "3    0.729167   1               4  0.320755     0.312785            0\n",
            "4    0.937500   0               2  0.245283     0.326484            0\n",
            "..        ...  ..             ...       ...          ...          ...\n",
            "265  0.479167   1               3  0.735849     0.166667            1\n",
            "266  0.312500   1               2  0.245283     0.312785            0\n",
            "267  0.562500   0               2  0.433962     0.383562            0\n",
            "268  0.583333   1               4  0.433962     0.150685            0\n",
            "269  0.791667   1               4  0.622642     0.365297            0\n",
            "\n",
            "[270 rows x 6 columns]\n"
          ]
        }
      ]
    },
    {
      "cell_type": "markdown",
      "metadata": {
        "id": "aG-DG_6bnWmv"
      },
      "source": [
        "## До отбора признаков"
      ]
    },
    {
      "cell_type": "code",
      "metadata": {
        "id": "iCSk5NGqfsoN"
      },
      "source": [
        "X_train, X_test, y_train, y_test = train_test_split(X, y, test_size=0.3, shuffle = False)"
      ],
      "execution_count": null,
      "outputs": []
    },
    {
      "cell_type": "code",
      "metadata": {
        "colab": {
          "base_uri": "https://localhost:8080/"
        },
        "id": "cyO3jDrufsqc",
        "outputId": "7b8e78b4-9169-4cd3-9f18-7bb10841fb59"
      },
      "source": [
        "nb = GaussianNB()\n",
        "nb.fit(X_train, y_train)"
      ],
      "execution_count": null,
      "outputs": [
        {
          "output_type": "execute_result",
          "data": {
            "text/plain": [
              "GaussianNB(priors=None, var_smoothing=1e-09)"
            ]
          },
          "metadata": {},
          "execution_count": 32
        }
      ]
    },
    {
      "cell_type": "code",
      "metadata": {
        "colab": {
          "base_uri": "https://localhost:8080/"
        },
        "id": "CsK-yOhNnhF_",
        "outputId": "6c51719b-4982-4020-ff43-914f705b422c"
      },
      "source": [
        "y_pred = nb.predict(X_test)\n",
        "print(\"Confusion Matrix:\")\n",
        "print(confusion_matrix(y_test, y_pred))\n",
        "print(\"Classification Report:\",)\n",
        "print (classification_report(y_test, y_pred))\n",
        "print(\"Accuracy:\",accuracy_score(y_test,y_pred))"
      ],
      "execution_count": null,
      "outputs": [
        {
          "output_type": "stream",
          "name": "stdout",
          "text": [
            "Confusion Matrix:\n",
            "[[39  7]\n",
            " [ 7 28]]\n",
            "Classification Report:\n",
            "              precision    recall  f1-score   support\n",
            "\n",
            "     Absence       0.85      0.85      0.85        46\n",
            "    Presence       0.80      0.80      0.80        35\n",
            "\n",
            "    accuracy                           0.83        81\n",
            "   macro avg       0.82      0.82      0.82        81\n",
            "weighted avg       0.83      0.83      0.83        81\n",
            "\n",
            "Accuracy: 0.8271604938271605\n"
          ]
        }
      ]
    },
    {
      "cell_type": "code",
      "metadata": {
        "id": "I5wQmXWGnhKy"
      },
      "source": [
        "dtc = tree.DecisionTreeClassifier()\n",
        "dtc = dtc.fit(X_train, y_train)"
      ],
      "execution_count": null,
      "outputs": []
    },
    {
      "cell_type": "code",
      "metadata": {
        "colab": {
          "base_uri": "https://localhost:8080/"
        },
        "id": "sO3beF_BnhNH",
        "outputId": "9d68cef8-876b-40cc-d1bd-c1a5f64d4177"
      },
      "source": [
        "y_pred = dtc.predict(X_test)\n",
        "print(\"Confusion Matrix:\")\n",
        "print(confusion_matrix(y_test, y_pred))\n",
        "print(\"Classification Report:\",)\n",
        "print (classification_report(y_test, y_pred))\n",
        "print(\"Accuracy:\",accuracy_score(y_test,y_pred))"
      ],
      "execution_count": null,
      "outputs": [
        {
          "output_type": "stream",
          "name": "stdout",
          "text": [
            "Confusion Matrix:\n",
            "[[38  8]\n",
            " [ 8 27]]\n",
            "Classification Report:\n",
            "              precision    recall  f1-score   support\n",
            "\n",
            "     Absence       0.83      0.83      0.83        46\n",
            "    Presence       0.77      0.77      0.77        35\n",
            "\n",
            "    accuracy                           0.80        81\n",
            "   macro avg       0.80      0.80      0.80        81\n",
            "weighted avg       0.80      0.80      0.80        81\n",
            "\n",
            "Accuracy: 0.8024691358024691\n"
          ]
        }
      ]
    },
    {
      "cell_type": "markdown",
      "metadata": {
        "id": "lcuui-zkn9Gd"
      },
      "source": [
        "## После отбора"
      ]
    },
    {
      "cell_type": "code",
      "metadata": {
        "id": "IQJuo_nsnhPY"
      },
      "source": [
        "X_train, X_test, y_train, y_test = train_test_split(X_new1, y, test_size=0.3, shuffle = False)"
      ],
      "execution_count": null,
      "outputs": []
    },
    {
      "cell_type": "code",
      "metadata": {
        "colab": {
          "base_uri": "https://localhost:8080/"
        },
        "id": "dddVL1dTnhRc",
        "outputId": "e76a3e8f-7021-46e6-e433-bc0e12308973"
      },
      "source": [
        "nb = GaussianNB()\n",
        "nb.fit(X_train, y_train)\n",
        "y_pred = nb.predict(X_test)\n",
        "print(\"Confusion Matrix:\")\n",
        "print(confusion_matrix(y_test, y_pred))\n",
        "print(\"Classification Report:\",)\n",
        "print (classification_report(y_test, y_pred))\n",
        "print(\"Accuracy:\",accuracy_score(y_test,y_pred))"
      ],
      "execution_count": null,
      "outputs": [
        {
          "output_type": "stream",
          "name": "stdout",
          "text": [
            "Confusion Matrix:\n",
            "[[42  4]\n",
            " [ 5 30]]\n",
            "Classification Report:\n",
            "              precision    recall  f1-score   support\n",
            "\n",
            "     Absence       0.89      0.91      0.90        46\n",
            "    Presence       0.88      0.86      0.87        35\n",
            "\n",
            "    accuracy                           0.89        81\n",
            "   macro avg       0.89      0.89      0.89        81\n",
            "weighted avg       0.89      0.89      0.89        81\n",
            "\n",
            "Accuracy: 0.8888888888888888\n"
          ]
        }
      ]
    },
    {
      "cell_type": "code",
      "metadata": {
        "colab": {
          "base_uri": "https://localhost:8080/"
        },
        "id": "6aMrD2H2n7AP",
        "outputId": "24f6dd92-0bd8-4405-830a-95cdcc3c30cf"
      },
      "source": [
        "dtc = tree.DecisionTreeClassifier()\n",
        "dtc = dtc.fit(X_train, y_train)\n",
        "y_pred = dtc.predict(X_test)\n",
        "print(\"Confusion Matrix:\")\n",
        "print(confusion_matrix(y_test, y_pred))\n",
        "print(\"Classification Report:\",)\n",
        "print (classification_report(y_test, y_pred))\n",
        "print(\"Accuracy:\",accuracy_score(y_test,y_pred))"
      ],
      "execution_count": null,
      "outputs": [
        {
          "output_type": "stream",
          "name": "stdout",
          "text": [
            "Confusion Matrix:\n",
            "[[38  8]\n",
            " [ 9 26]]\n",
            "Classification Report:\n",
            "              precision    recall  f1-score   support\n",
            "\n",
            "     Absence       0.81      0.83      0.82        46\n",
            "    Presence       0.76      0.74      0.75        35\n",
            "\n",
            "    accuracy                           0.79        81\n",
            "   macro avg       0.79      0.78      0.79        81\n",
            "weighted avg       0.79      0.79      0.79        81\n",
            "\n",
            "Accuracy: 0.7901234567901234\n"
          ]
        }
      ]
    },
    {
      "cell_type": "code",
      "metadata": {
        "id": "kzb0pv-PoTTJ"
      },
      "source": [
        "X_train, X_test, y_train, y_test = train_test_split(X_new2, y, test_size=0.3, shuffle = False)"
      ],
      "execution_count": null,
      "outputs": []
    },
    {
      "cell_type": "code",
      "metadata": {
        "colab": {
          "base_uri": "https://localhost:8080/"
        },
        "id": "b30oEOcBpSM9",
        "outputId": "73092cd1-fb5b-4486-d461-cb3a97566c0c"
      },
      "source": [
        "nb = GaussianNB()\n",
        "nb.fit(X_train, y_train)\n",
        "y_pred = nb.predict(X_test)\n",
        "print(\"Confusion Matrix:\")\n",
        "print(confusion_matrix(y_test, y_pred))\n",
        "print(\"Classification Report:\",)\n",
        "print (classification_report(y_test, y_pred))\n",
        "print(\"Accuracy:\",accuracy_score(y_test,y_pred))"
      ],
      "execution_count": null,
      "outputs": [
        {
          "output_type": "stream",
          "name": "stdout",
          "text": [
            "Confusion Matrix:\n",
            "[[37  9]\n",
            " [ 6 29]]\n",
            "Classification Report:\n",
            "              precision    recall  f1-score   support\n",
            "\n",
            "     Absence       0.86      0.80      0.83        46\n",
            "    Presence       0.76      0.83      0.79        35\n",
            "\n",
            "    accuracy                           0.81        81\n",
            "   macro avg       0.81      0.82      0.81        81\n",
            "weighted avg       0.82      0.81      0.82        81\n",
            "\n",
            "Accuracy: 0.8148148148148148\n"
          ]
        }
      ]
    },
    {
      "cell_type": "code",
      "metadata": {
        "colab": {
          "base_uri": "https://localhost:8080/"
        },
        "id": "oVTk0F-rpSQV",
        "outputId": "54cb79c0-b2ff-48eb-aae1-6eb43a9e189f"
      },
      "source": [
        "dtc = tree.DecisionTreeClassifier()\n",
        "dtc = dtc.fit(X_train, y_train)\n",
        "y_pred = dtc.predict(X_test)\n",
        "print(\"Confusion Matrix:\")\n",
        "print(confusion_matrix(y_test, y_pred))\n",
        "print(\"Classification Report:\",)\n",
        "print (classification_report(y_test, y_pred))\n",
        "print(\"Accuracy:\",accuracy_score(y_test,y_pred))"
      ],
      "execution_count": null,
      "outputs": [
        {
          "output_type": "stream",
          "name": "stdout",
          "text": [
            "Confusion Matrix:\n",
            "[[39  7]\n",
            " [ 9 26]]\n",
            "Classification Report:\n",
            "              precision    recall  f1-score   support\n",
            "\n",
            "     Absence       0.81      0.85      0.83        46\n",
            "    Presence       0.79      0.74      0.76        35\n",
            "\n",
            "    accuracy                           0.80        81\n",
            "   macro avg       0.80      0.80      0.80        81\n",
            "weighted avg       0.80      0.80      0.80        81\n",
            "\n",
            "Accuracy: 0.8024691358024691\n"
          ]
        }
      ]
    },
    {
      "cell_type": "code",
      "metadata": {
        "id": "hWhNO9NJpSSt"
      },
      "source": [
        "X_train, X_test, y_train, y_test = train_test_split(X_new3, y, test_size=0.3, shuffle = False)"
      ],
      "execution_count": null,
      "outputs": []
    },
    {
      "cell_type": "code",
      "metadata": {
        "colab": {
          "base_uri": "https://localhost:8080/"
        },
        "id": "-UI92gEjpSVC",
        "outputId": "675b8311-6dc4-4613-9646-cb269d550f60"
      },
      "source": [
        "nb = GaussianNB()\n",
        "nb.fit(X_train, y_train)\n",
        "y_pred = nb.predict(X_test)\n",
        "print(\"Confusion Matrix:\")\n",
        "print(confusion_matrix(y_test, y_pred))\n",
        "print(\"Classification Report:\",)\n",
        "print (classification_report(y_test, y_pred))\n",
        "print(\"Accuracy:\",accuracy_score(y_test,y_pred))"
      ],
      "execution_count": null,
      "outputs": [
        {
          "output_type": "stream",
          "name": "stdout",
          "text": [
            "Confusion Matrix:\n",
            "[[36 10]\n",
            " [ 4 31]]\n",
            "Classification Report:\n",
            "              precision    recall  f1-score   support\n",
            "\n",
            "     Absence       0.90      0.78      0.84        46\n",
            "    Presence       0.76      0.89      0.82        35\n",
            "\n",
            "    accuracy                           0.83        81\n",
            "   macro avg       0.83      0.83      0.83        81\n",
            "weighted avg       0.84      0.83      0.83        81\n",
            "\n",
            "Accuracy: 0.8271604938271605\n"
          ]
        }
      ]
    },
    {
      "cell_type": "code",
      "metadata": {
        "colab": {
          "base_uri": "https://localhost:8080/"
        },
        "id": "QnxFGvHKpSW0",
        "outputId": "e2f8bdc5-8f46-4308-8d29-2ca66455856f"
      },
      "source": [
        "dtc = tree.DecisionTreeClassifier()\n",
        "dtc = dtc.fit(X_train, y_train)\n",
        "y_pred = dtc.predict(X_test)\n",
        "print(\"Confusion Matrix:\")\n",
        "print(confusion_matrix(y_test, y_pred))\n",
        "print(\"Classification Report:\",)\n",
        "print (classification_report(y_test, y_pred))\n",
        "print(\"Accuracy:\",accuracy_score(y_test,y_pred))"
      ],
      "execution_count": null,
      "outputs": [
        {
          "output_type": "stream",
          "name": "stdout",
          "text": [
            "Confusion Matrix:\n",
            "[[35 11]\n",
            " [10 25]]\n",
            "Classification Report:\n",
            "              precision    recall  f1-score   support\n",
            "\n",
            "     Absence       0.78      0.76      0.77        46\n",
            "    Presence       0.69      0.71      0.70        35\n",
            "\n",
            "    accuracy                           0.74        81\n",
            "   macro avg       0.74      0.74      0.74        81\n",
            "weighted avg       0.74      0.74      0.74        81\n",
            "\n",
            "Accuracy: 0.7407407407407407\n"
          ]
        }
      ]
    },
    {
      "cell_type": "code",
      "metadata": {
        "id": "f38cXi1cumWz"
      },
      "source": [
        "X_train, X_test, y_train, y_test = train_test_split(X_new4, y, test_size=0.3, shuffle = False)"
      ],
      "execution_count": null,
      "outputs": []
    },
    {
      "cell_type": "code",
      "metadata": {
        "colab": {
          "base_uri": "https://localhost:8080/"
        },
        "id": "JXYitebvun8s",
        "outputId": "c7083b6c-4da4-4689-c9b1-a8bac11ebaf2"
      },
      "source": [
        "nb = GaussianNB()\n",
        "nb.fit(X_train, y_train)\n",
        "y_pred = nb.predict(X_test)\n",
        "print(\"Confusion Matrix:\")\n",
        "print(confusion_matrix(y_test, y_pred))\n",
        "print(\"Classification Report:\",)\n",
        "print (classification_report(y_test, y_pred))\n",
        "print(\"Accuracy:\",accuracy_score(y_test,y_pred))"
      ],
      "execution_count": null,
      "outputs": [
        {
          "output_type": "stream",
          "name": "stdout",
          "text": [
            "Confusion Matrix:\n",
            "[[30 16]\n",
            " [11 24]]\n",
            "Classification Report:\n",
            "              precision    recall  f1-score   support\n",
            "\n",
            "     Absence       0.73      0.65      0.69        46\n",
            "    Presence       0.60      0.69      0.64        35\n",
            "\n",
            "    accuracy                           0.67        81\n",
            "   macro avg       0.67      0.67      0.66        81\n",
            "weighted avg       0.67      0.67      0.67        81\n",
            "\n",
            "Accuracy: 0.6666666666666666\n"
          ]
        }
      ]
    },
    {
      "cell_type": "code",
      "metadata": {
        "colab": {
          "base_uri": "https://localhost:8080/"
        },
        "id": "i7f0RQxLuoC5",
        "outputId": "1afe1f89-e3a7-48f1-dae1-ee4f1ea12235"
      },
      "source": [
        "dtc = tree.DecisionTreeClassifier()\n",
        "dtc = dtc.fit(X_train, y_train)\n",
        "y_pred = dtc.predict(X_test)\n",
        "print(\"Confusion Matrix:\")\n",
        "print(confusion_matrix(y_test, y_pred))\n",
        "print(\"Classification Report:\",)\n",
        "print (classification_report(y_test, y_pred))\n",
        "print(\"Accuracy:\",accuracy_score(y_test,y_pred))"
      ],
      "execution_count": null,
      "outputs": [
        {
          "output_type": "stream",
          "name": "stdout",
          "text": [
            "Confusion Matrix:\n",
            "[[31 15]\n",
            " [ 7 28]]\n",
            "Classification Report:\n",
            "              precision    recall  f1-score   support\n",
            "\n",
            "     Absence       0.82      0.67      0.74        46\n",
            "    Presence       0.65      0.80      0.72        35\n",
            "\n",
            "    accuracy                           0.73        81\n",
            "   macro avg       0.73      0.74      0.73        81\n",
            "weighted avg       0.74      0.73      0.73        81\n",
            "\n",
            "Accuracy: 0.7283950617283951\n"
          ]
        }
      ]
    }
  ]
}