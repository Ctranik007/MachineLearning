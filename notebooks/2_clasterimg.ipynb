{
  "nbformat": 4,
  "nbformat_minor": 0,
  "metadata": {
    "colab": {
      "name": "ЛБ2.ipynb",
      "provenance": [],
      "collapsed_sections": []
    },
    "kernelspec": {
      "name": "python3",
      "display_name": "Python 3"
    },
    "language_info": {
      "name": "python"
    }
  },
  "cells": [
    {
      "cell_type": "code",
      "metadata": {
        "colab": {
          "base_uri": "https://localhost:8080/"
        },
        "id": "GJBtxo51xfib",
        "outputId": "6acf39e3-af18-4ef3-d347-becf65306169"
      },
      "source": [
        "from google.colab import drive\n",
        "drive.mount('/content/drive')"
      ],
      "execution_count": 1,
      "outputs": [
        {
          "output_type": "stream",
          "name": "stdout",
          "text": [
            "Mounted at /content/drive\n"
          ]
        }
      ]
    },
    {
      "cell_type": "code",
      "metadata": {
        "id": "VZw4m1Khx6Yg"
      },
      "source": [
        "import pandas as pd\n",
        "import numpy as np\n",
        "import matplotlib.pyplot as plt\n",
        "from sklearn.preprocessing import MinMaxScaler"
      ],
      "execution_count": 2,
      "outputs": []
    },
    {
      "cell_type": "code",
      "metadata": {
        "id": "sXFvrimCx7lw"
      },
      "source": [
        "import warnings\n",
        "warnings.filterwarnings('ignore')"
      ],
      "execution_count": 3,
      "outputs": []
    },
    {
      "cell_type": "markdown",
      "metadata": {
        "id": "TOHKgLy9x-WI"
      },
      "source": [
        "# Загрузка данных"
      ]
    },
    {
      "cell_type": "code",
      "metadata": {
        "id": "nvanKT3Nx7oI"
      },
      "source": [
        "df = pd.read_csv('drive/MyDrive/Heart_Disease_Prediction.csv')"
      ],
      "execution_count": 219,
      "outputs": []
    },
    {
      "cell_type": "code",
      "metadata": {
        "colab": {
          "base_uri": "https://localhost:8080/",
          "height": 206
        },
        "id": "Cc5n_70Bx7qQ",
        "outputId": "017f3c34-e828-4901-aa61-c3f8361370c0"
      },
      "source": [
        "df.head()"
      ],
      "execution_count": 220,
      "outputs": [
        {
          "output_type": "execute_result",
          "data": {
            "text/html": [
              "<div>\n",
              "<style scoped>\n",
              "    .dataframe tbody tr th:only-of-type {\n",
              "        vertical-align: middle;\n",
              "    }\n",
              "\n",
              "    .dataframe tbody tr th {\n",
              "        vertical-align: top;\n",
              "    }\n",
              "\n",
              "    .dataframe thead th {\n",
              "        text-align: right;\n",
              "    }\n",
              "</style>\n",
              "<table border=\"1\" class=\"dataframe\">\n",
              "  <thead>\n",
              "    <tr style=\"text-align: right;\">\n",
              "      <th></th>\n",
              "      <th>Age</th>\n",
              "      <th>Sex</th>\n",
              "      <th>Chest pain type</th>\n",
              "      <th>BP</th>\n",
              "      <th>Cholesterol</th>\n",
              "      <th>FBS over 120</th>\n",
              "      <th>EKG results</th>\n",
              "      <th>Max HR</th>\n",
              "      <th>Exercise angina</th>\n",
              "      <th>ST depression</th>\n",
              "      <th>Slope of ST</th>\n",
              "      <th>Number of vessels fluro</th>\n",
              "      <th>Thallium</th>\n",
              "      <th>Heart Disease</th>\n",
              "    </tr>\n",
              "  </thead>\n",
              "  <tbody>\n",
              "    <tr>\n",
              "      <th>0</th>\n",
              "      <td>70</td>\n",
              "      <td>1</td>\n",
              "      <td>4</td>\n",
              "      <td>130</td>\n",
              "      <td>322</td>\n",
              "      <td>0</td>\n",
              "      <td>2</td>\n",
              "      <td>109</td>\n",
              "      <td>0</td>\n",
              "      <td>2.4</td>\n",
              "      <td>2</td>\n",
              "      <td>3</td>\n",
              "      <td>3</td>\n",
              "      <td>Presence</td>\n",
              "    </tr>\n",
              "    <tr>\n",
              "      <th>1</th>\n",
              "      <td>67</td>\n",
              "      <td>0</td>\n",
              "      <td>3</td>\n",
              "      <td>115</td>\n",
              "      <td>564</td>\n",
              "      <td>0</td>\n",
              "      <td>2</td>\n",
              "      <td>160</td>\n",
              "      <td>0</td>\n",
              "      <td>1.6</td>\n",
              "      <td>2</td>\n",
              "      <td>0</td>\n",
              "      <td>7</td>\n",
              "      <td>Absence</td>\n",
              "    </tr>\n",
              "    <tr>\n",
              "      <th>2</th>\n",
              "      <td>57</td>\n",
              "      <td>1</td>\n",
              "      <td>2</td>\n",
              "      <td>124</td>\n",
              "      <td>261</td>\n",
              "      <td>0</td>\n",
              "      <td>0</td>\n",
              "      <td>141</td>\n",
              "      <td>0</td>\n",
              "      <td>0.3</td>\n",
              "      <td>1</td>\n",
              "      <td>0</td>\n",
              "      <td>7</td>\n",
              "      <td>Presence</td>\n",
              "    </tr>\n",
              "    <tr>\n",
              "      <th>3</th>\n",
              "      <td>64</td>\n",
              "      <td>1</td>\n",
              "      <td>4</td>\n",
              "      <td>128</td>\n",
              "      <td>263</td>\n",
              "      <td>0</td>\n",
              "      <td>0</td>\n",
              "      <td>105</td>\n",
              "      <td>1</td>\n",
              "      <td>0.2</td>\n",
              "      <td>2</td>\n",
              "      <td>1</td>\n",
              "      <td>7</td>\n",
              "      <td>Absence</td>\n",
              "    </tr>\n",
              "    <tr>\n",
              "      <th>4</th>\n",
              "      <td>74</td>\n",
              "      <td>0</td>\n",
              "      <td>2</td>\n",
              "      <td>120</td>\n",
              "      <td>269</td>\n",
              "      <td>0</td>\n",
              "      <td>2</td>\n",
              "      <td>121</td>\n",
              "      <td>1</td>\n",
              "      <td>0.2</td>\n",
              "      <td>1</td>\n",
              "      <td>1</td>\n",
              "      <td>3</td>\n",
              "      <td>Absence</td>\n",
              "    </tr>\n",
              "  </tbody>\n",
              "</table>\n",
              "</div>"
            ],
            "text/plain": [
              "   Age  Sex  Chest pain type  ...  Number of vessels fluro  Thallium  Heart Disease\n",
              "0   70    1                4  ...                        3         3       Presence\n",
              "1   67    0                3  ...                        0         7        Absence\n",
              "2   57    1                2  ...                        0         7       Presence\n",
              "3   64    1                4  ...                        1         7        Absence\n",
              "4   74    0                2  ...                        1         3        Absence\n",
              "\n",
              "[5 rows x 14 columns]"
            ]
          },
          "metadata": {},
          "execution_count": 220
        }
      ]
    },
    {
      "cell_type": "code",
      "metadata": {
        "colab": {
          "base_uri": "https://localhost:8080/",
          "height": 300
        },
        "id": "nPJCKwRC0lwo",
        "outputId": "07bd0fae-d345-4d68-d346-3dbc95bcd870"
      },
      "source": [
        "df.describe()"
      ],
      "execution_count": 221,
      "outputs": [
        {
          "output_type": "execute_result",
          "data": {
            "text/html": [
              "<div>\n",
              "<style scoped>\n",
              "    .dataframe tbody tr th:only-of-type {\n",
              "        vertical-align: middle;\n",
              "    }\n",
              "\n",
              "    .dataframe tbody tr th {\n",
              "        vertical-align: top;\n",
              "    }\n",
              "\n",
              "    .dataframe thead th {\n",
              "        text-align: right;\n",
              "    }\n",
              "</style>\n",
              "<table border=\"1\" class=\"dataframe\">\n",
              "  <thead>\n",
              "    <tr style=\"text-align: right;\">\n",
              "      <th></th>\n",
              "      <th>Age</th>\n",
              "      <th>Sex</th>\n",
              "      <th>Chest pain type</th>\n",
              "      <th>BP</th>\n",
              "      <th>Cholesterol</th>\n",
              "      <th>FBS over 120</th>\n",
              "      <th>EKG results</th>\n",
              "      <th>Max HR</th>\n",
              "      <th>Exercise angina</th>\n",
              "      <th>ST depression</th>\n",
              "      <th>Slope of ST</th>\n",
              "      <th>Number of vessels fluro</th>\n",
              "      <th>Thallium</th>\n",
              "    </tr>\n",
              "  </thead>\n",
              "  <tbody>\n",
              "    <tr>\n",
              "      <th>count</th>\n",
              "      <td>270.000000</td>\n",
              "      <td>270.000000</td>\n",
              "      <td>270.000000</td>\n",
              "      <td>270.000000</td>\n",
              "      <td>270.000000</td>\n",
              "      <td>270.000000</td>\n",
              "      <td>270.000000</td>\n",
              "      <td>270.000000</td>\n",
              "      <td>270.000000</td>\n",
              "      <td>270.00000</td>\n",
              "      <td>270.000000</td>\n",
              "      <td>270.000000</td>\n",
              "      <td>270.000000</td>\n",
              "    </tr>\n",
              "    <tr>\n",
              "      <th>mean</th>\n",
              "      <td>54.433333</td>\n",
              "      <td>0.677778</td>\n",
              "      <td>3.174074</td>\n",
              "      <td>131.344444</td>\n",
              "      <td>249.659259</td>\n",
              "      <td>0.148148</td>\n",
              "      <td>1.022222</td>\n",
              "      <td>149.677778</td>\n",
              "      <td>0.329630</td>\n",
              "      <td>1.05000</td>\n",
              "      <td>1.585185</td>\n",
              "      <td>0.670370</td>\n",
              "      <td>4.696296</td>\n",
              "    </tr>\n",
              "    <tr>\n",
              "      <th>std</th>\n",
              "      <td>9.109067</td>\n",
              "      <td>0.468195</td>\n",
              "      <td>0.950090</td>\n",
              "      <td>17.861608</td>\n",
              "      <td>51.686237</td>\n",
              "      <td>0.355906</td>\n",
              "      <td>0.997891</td>\n",
              "      <td>23.165717</td>\n",
              "      <td>0.470952</td>\n",
              "      <td>1.14521</td>\n",
              "      <td>0.614390</td>\n",
              "      <td>0.943896</td>\n",
              "      <td>1.940659</td>\n",
              "    </tr>\n",
              "    <tr>\n",
              "      <th>min</th>\n",
              "      <td>29.000000</td>\n",
              "      <td>0.000000</td>\n",
              "      <td>1.000000</td>\n",
              "      <td>94.000000</td>\n",
              "      <td>126.000000</td>\n",
              "      <td>0.000000</td>\n",
              "      <td>0.000000</td>\n",
              "      <td>71.000000</td>\n",
              "      <td>0.000000</td>\n",
              "      <td>0.00000</td>\n",
              "      <td>1.000000</td>\n",
              "      <td>0.000000</td>\n",
              "      <td>3.000000</td>\n",
              "    </tr>\n",
              "    <tr>\n",
              "      <th>25%</th>\n",
              "      <td>48.000000</td>\n",
              "      <td>0.000000</td>\n",
              "      <td>3.000000</td>\n",
              "      <td>120.000000</td>\n",
              "      <td>213.000000</td>\n",
              "      <td>0.000000</td>\n",
              "      <td>0.000000</td>\n",
              "      <td>133.000000</td>\n",
              "      <td>0.000000</td>\n",
              "      <td>0.00000</td>\n",
              "      <td>1.000000</td>\n",
              "      <td>0.000000</td>\n",
              "      <td>3.000000</td>\n",
              "    </tr>\n",
              "    <tr>\n",
              "      <th>50%</th>\n",
              "      <td>55.000000</td>\n",
              "      <td>1.000000</td>\n",
              "      <td>3.000000</td>\n",
              "      <td>130.000000</td>\n",
              "      <td>245.000000</td>\n",
              "      <td>0.000000</td>\n",
              "      <td>2.000000</td>\n",
              "      <td>153.500000</td>\n",
              "      <td>0.000000</td>\n",
              "      <td>0.80000</td>\n",
              "      <td>2.000000</td>\n",
              "      <td>0.000000</td>\n",
              "      <td>3.000000</td>\n",
              "    </tr>\n",
              "    <tr>\n",
              "      <th>75%</th>\n",
              "      <td>61.000000</td>\n",
              "      <td>1.000000</td>\n",
              "      <td>4.000000</td>\n",
              "      <td>140.000000</td>\n",
              "      <td>280.000000</td>\n",
              "      <td>0.000000</td>\n",
              "      <td>2.000000</td>\n",
              "      <td>166.000000</td>\n",
              "      <td>1.000000</td>\n",
              "      <td>1.60000</td>\n",
              "      <td>2.000000</td>\n",
              "      <td>1.000000</td>\n",
              "      <td>7.000000</td>\n",
              "    </tr>\n",
              "    <tr>\n",
              "      <th>max</th>\n",
              "      <td>77.000000</td>\n",
              "      <td>1.000000</td>\n",
              "      <td>4.000000</td>\n",
              "      <td>200.000000</td>\n",
              "      <td>564.000000</td>\n",
              "      <td>1.000000</td>\n",
              "      <td>2.000000</td>\n",
              "      <td>202.000000</td>\n",
              "      <td>1.000000</td>\n",
              "      <td>6.20000</td>\n",
              "      <td>3.000000</td>\n",
              "      <td>3.000000</td>\n",
              "      <td>7.000000</td>\n",
              "    </tr>\n",
              "  </tbody>\n",
              "</table>\n",
              "</div>"
            ],
            "text/plain": [
              "              Age         Sex  ...  Number of vessels fluro    Thallium\n",
              "count  270.000000  270.000000  ...               270.000000  270.000000\n",
              "mean    54.433333    0.677778  ...                 0.670370    4.696296\n",
              "std      9.109067    0.468195  ...                 0.943896    1.940659\n",
              "min     29.000000    0.000000  ...                 0.000000    3.000000\n",
              "25%     48.000000    0.000000  ...                 0.000000    3.000000\n",
              "50%     55.000000    1.000000  ...                 0.000000    3.000000\n",
              "75%     61.000000    1.000000  ...                 1.000000    7.000000\n",
              "max     77.000000    1.000000  ...                 3.000000    7.000000\n",
              "\n",
              "[8 rows x 13 columns]"
            ]
          },
          "metadata": {},
          "execution_count": 221
        }
      ]
    },
    {
      "cell_type": "code",
      "metadata": {
        "colab": {
          "base_uri": "https://localhost:8080/"
        },
        "id": "4ruKwkCaoChf",
        "outputId": "7c9a31ab-f76c-4a70-a286-860a9e18d94e"
      },
      "source": [
        "df[\"Heart Disease\"].unique() "
      ],
      "execution_count": 204,
      "outputs": [
        {
          "output_type": "execute_result",
          "data": {
            "text/plain": [
              "array(['Presence', 'Absence'], dtype=object)"
            ]
          },
          "metadata": {},
          "execution_count": 204
        }
      ]
    },
    {
      "cell_type": "code",
      "metadata": {
        "id": "TJ5RY2St1_6N"
      },
      "source": [
        "cleanup_nums = {\"Heart Disease\":   {\"Absence\": 0, \"Presence\": 1}}\n",
        "df = df.replace(cleanup_nums)"
      ],
      "execution_count": 205,
      "outputs": []
    },
    {
      "cell_type": "code",
      "metadata": {
        "colab": {
          "base_uri": "https://localhost:8080/",
          "height": 206
        },
        "id": "MTZQMBlB2f5W",
        "outputId": "af639408-29d7-4758-cefd-19b9c74f974c"
      },
      "source": [
        "df.head()"
      ],
      "execution_count": 206,
      "outputs": [
        {
          "output_type": "execute_result",
          "data": {
            "text/html": [
              "<div>\n",
              "<style scoped>\n",
              "    .dataframe tbody tr th:only-of-type {\n",
              "        vertical-align: middle;\n",
              "    }\n",
              "\n",
              "    .dataframe tbody tr th {\n",
              "        vertical-align: top;\n",
              "    }\n",
              "\n",
              "    .dataframe thead th {\n",
              "        text-align: right;\n",
              "    }\n",
              "</style>\n",
              "<table border=\"1\" class=\"dataframe\">\n",
              "  <thead>\n",
              "    <tr style=\"text-align: right;\">\n",
              "      <th></th>\n",
              "      <th>Age</th>\n",
              "      <th>Sex</th>\n",
              "      <th>Chest pain type</th>\n",
              "      <th>BP</th>\n",
              "      <th>Cholesterol</th>\n",
              "      <th>FBS over 120</th>\n",
              "      <th>EKG results</th>\n",
              "      <th>Max HR</th>\n",
              "      <th>Exercise angina</th>\n",
              "      <th>ST depression</th>\n",
              "      <th>Slope of ST</th>\n",
              "      <th>Number of vessels fluro</th>\n",
              "      <th>Thallium</th>\n",
              "      <th>Heart Disease</th>\n",
              "    </tr>\n",
              "  </thead>\n",
              "  <tbody>\n",
              "    <tr>\n",
              "      <th>0</th>\n",
              "      <td>70</td>\n",
              "      <td>1</td>\n",
              "      <td>4</td>\n",
              "      <td>130</td>\n",
              "      <td>322</td>\n",
              "      <td>0</td>\n",
              "      <td>2</td>\n",
              "      <td>109</td>\n",
              "      <td>0</td>\n",
              "      <td>2.4</td>\n",
              "      <td>2</td>\n",
              "      <td>3</td>\n",
              "      <td>3</td>\n",
              "      <td>1</td>\n",
              "    </tr>\n",
              "    <tr>\n",
              "      <th>1</th>\n",
              "      <td>67</td>\n",
              "      <td>0</td>\n",
              "      <td>3</td>\n",
              "      <td>115</td>\n",
              "      <td>564</td>\n",
              "      <td>0</td>\n",
              "      <td>2</td>\n",
              "      <td>160</td>\n",
              "      <td>0</td>\n",
              "      <td>1.6</td>\n",
              "      <td>2</td>\n",
              "      <td>0</td>\n",
              "      <td>7</td>\n",
              "      <td>0</td>\n",
              "    </tr>\n",
              "    <tr>\n",
              "      <th>2</th>\n",
              "      <td>57</td>\n",
              "      <td>1</td>\n",
              "      <td>2</td>\n",
              "      <td>124</td>\n",
              "      <td>261</td>\n",
              "      <td>0</td>\n",
              "      <td>0</td>\n",
              "      <td>141</td>\n",
              "      <td>0</td>\n",
              "      <td>0.3</td>\n",
              "      <td>1</td>\n",
              "      <td>0</td>\n",
              "      <td>7</td>\n",
              "      <td>1</td>\n",
              "    </tr>\n",
              "    <tr>\n",
              "      <th>3</th>\n",
              "      <td>64</td>\n",
              "      <td>1</td>\n",
              "      <td>4</td>\n",
              "      <td>128</td>\n",
              "      <td>263</td>\n",
              "      <td>0</td>\n",
              "      <td>0</td>\n",
              "      <td>105</td>\n",
              "      <td>1</td>\n",
              "      <td>0.2</td>\n",
              "      <td>2</td>\n",
              "      <td>1</td>\n",
              "      <td>7</td>\n",
              "      <td>0</td>\n",
              "    </tr>\n",
              "    <tr>\n",
              "      <th>4</th>\n",
              "      <td>74</td>\n",
              "      <td>0</td>\n",
              "      <td>2</td>\n",
              "      <td>120</td>\n",
              "      <td>269</td>\n",
              "      <td>0</td>\n",
              "      <td>2</td>\n",
              "      <td>121</td>\n",
              "      <td>1</td>\n",
              "      <td>0.2</td>\n",
              "      <td>1</td>\n",
              "      <td>1</td>\n",
              "      <td>3</td>\n",
              "      <td>0</td>\n",
              "    </tr>\n",
              "  </tbody>\n",
              "</table>\n",
              "</div>"
            ],
            "text/plain": [
              "   Age  Sex  Chest pain type  ...  Number of vessels fluro  Thallium  Heart Disease\n",
              "0   70    1                4  ...                        3         3              1\n",
              "1   67    0                3  ...                        0         7              0\n",
              "2   57    1                2  ...                        0         7              1\n",
              "3   64    1                4  ...                        1         7              0\n",
              "4   74    0                2  ...                        1         3              0\n",
              "\n",
              "[5 rows x 14 columns]"
            ]
          },
          "metadata": {},
          "execution_count": 206
        }
      ]
    },
    {
      "cell_type": "code",
      "metadata": {
        "id": "j141hnHdx7u4"
      },
      "source": [
        "categorical_features = [\"Sex\", \"Chest pain type\", \"FBS over 120\", \"EKG results\", \"Exercise angina\", \"ST depression\", \"Number of vessels fluro\", \"Thallium\",\"Heart Disease\"]\n",
        "df[categorical_features] = df[categorical_features].astype(\"category\")"
      ],
      "execution_count": 207,
      "outputs": []
    },
    {
      "cell_type": "code",
      "metadata": {
        "colab": {
          "base_uri": "https://localhost:8080/"
        },
        "id": "t1tZ9eyz0le3",
        "outputId": "07fe4105-e0bc-49e0-f114-ae3447f970e5"
      },
      "source": [
        "df.columns"
      ],
      "execution_count": 208,
      "outputs": [
        {
          "output_type": "execute_result",
          "data": {
            "text/plain": [
              "Index(['Age', 'Sex', 'Chest pain type', 'BP', 'Cholesterol', 'FBS over 120',\n",
              "       'EKG results', 'Max HR', 'Exercise angina', 'ST depression',\n",
              "       'Slope of ST', 'Number of vessels fluro', 'Thallium', 'Heart Disease'],\n",
              "      dtype='object')"
            ]
          },
          "metadata": {},
          "execution_count": 208
        }
      ]
    },
    {
      "cell_type": "code",
      "metadata": {
        "id": "6u8DKvyix7xY"
      },
      "source": [
        "continuous_features = set(df.columns) - set(categorical_features)\n",
        "scaler = MinMaxScaler()\n",
        "X = df.drop(\"Heart Disease\", axis=1)\n",
        "X[list(continuous_features)] = scaler.fit_transform(df[list(continuous_features)])"
      ],
      "execution_count": 209,
      "outputs": []
    },
    {
      "cell_type": "code",
      "metadata": {
        "colab": {
          "base_uri": "https://localhost:8080/",
          "height": 424
        },
        "id": "BHhd0fwSo2yz",
        "outputId": "f636139f-7548-4504-ae52-b88632d15664"
      },
      "source": [
        "X"
      ],
      "execution_count": 210,
      "outputs": [
        {
          "output_type": "execute_result",
          "data": {
            "text/html": [
              "<div>\n",
              "<style scoped>\n",
              "    .dataframe tbody tr th:only-of-type {\n",
              "        vertical-align: middle;\n",
              "    }\n",
              "\n",
              "    .dataframe tbody tr th {\n",
              "        vertical-align: top;\n",
              "    }\n",
              "\n",
              "    .dataframe thead th {\n",
              "        text-align: right;\n",
              "    }\n",
              "</style>\n",
              "<table border=\"1\" class=\"dataframe\">\n",
              "  <thead>\n",
              "    <tr style=\"text-align: right;\">\n",
              "      <th></th>\n",
              "      <th>Age</th>\n",
              "      <th>Sex</th>\n",
              "      <th>Chest pain type</th>\n",
              "      <th>BP</th>\n",
              "      <th>Cholesterol</th>\n",
              "      <th>FBS over 120</th>\n",
              "      <th>EKG results</th>\n",
              "      <th>Max HR</th>\n",
              "      <th>Exercise angina</th>\n",
              "      <th>ST depression</th>\n",
              "      <th>Slope of ST</th>\n",
              "      <th>Number of vessels fluro</th>\n",
              "      <th>Thallium</th>\n",
              "    </tr>\n",
              "  </thead>\n",
              "  <tbody>\n",
              "    <tr>\n",
              "      <th>0</th>\n",
              "      <td>0.854167</td>\n",
              "      <td>1</td>\n",
              "      <td>4</td>\n",
              "      <td>0.339623</td>\n",
              "      <td>0.447489</td>\n",
              "      <td>0</td>\n",
              "      <td>2</td>\n",
              "      <td>0.290076</td>\n",
              "      <td>0</td>\n",
              "      <td>2.4</td>\n",
              "      <td>0.5</td>\n",
              "      <td>3</td>\n",
              "      <td>3</td>\n",
              "    </tr>\n",
              "    <tr>\n",
              "      <th>1</th>\n",
              "      <td>0.791667</td>\n",
              "      <td>0</td>\n",
              "      <td>3</td>\n",
              "      <td>0.198113</td>\n",
              "      <td>1.000000</td>\n",
              "      <td>0</td>\n",
              "      <td>2</td>\n",
              "      <td>0.679389</td>\n",
              "      <td>0</td>\n",
              "      <td>1.6</td>\n",
              "      <td>0.5</td>\n",
              "      <td>0</td>\n",
              "      <td>7</td>\n",
              "    </tr>\n",
              "    <tr>\n",
              "      <th>2</th>\n",
              "      <td>0.583333</td>\n",
              "      <td>1</td>\n",
              "      <td>2</td>\n",
              "      <td>0.283019</td>\n",
              "      <td>0.308219</td>\n",
              "      <td>0</td>\n",
              "      <td>0</td>\n",
              "      <td>0.534351</td>\n",
              "      <td>0</td>\n",
              "      <td>0.3</td>\n",
              "      <td>0.0</td>\n",
              "      <td>0</td>\n",
              "      <td>7</td>\n",
              "    </tr>\n",
              "    <tr>\n",
              "      <th>3</th>\n",
              "      <td>0.729167</td>\n",
              "      <td>1</td>\n",
              "      <td>4</td>\n",
              "      <td>0.320755</td>\n",
              "      <td>0.312785</td>\n",
              "      <td>0</td>\n",
              "      <td>0</td>\n",
              "      <td>0.259542</td>\n",
              "      <td>1</td>\n",
              "      <td>0.2</td>\n",
              "      <td>0.5</td>\n",
              "      <td>1</td>\n",
              "      <td>7</td>\n",
              "    </tr>\n",
              "    <tr>\n",
              "      <th>4</th>\n",
              "      <td>0.937500</td>\n",
              "      <td>0</td>\n",
              "      <td>2</td>\n",
              "      <td>0.245283</td>\n",
              "      <td>0.326484</td>\n",
              "      <td>0</td>\n",
              "      <td>2</td>\n",
              "      <td>0.381679</td>\n",
              "      <td>1</td>\n",
              "      <td>0.2</td>\n",
              "      <td>0.0</td>\n",
              "      <td>1</td>\n",
              "      <td>3</td>\n",
              "    </tr>\n",
              "    <tr>\n",
              "      <th>...</th>\n",
              "      <td>...</td>\n",
              "      <td>...</td>\n",
              "      <td>...</td>\n",
              "      <td>...</td>\n",
              "      <td>...</td>\n",
              "      <td>...</td>\n",
              "      <td>...</td>\n",
              "      <td>...</td>\n",
              "      <td>...</td>\n",
              "      <td>...</td>\n",
              "      <td>...</td>\n",
              "      <td>...</td>\n",
              "      <td>...</td>\n",
              "    </tr>\n",
              "    <tr>\n",
              "      <th>265</th>\n",
              "      <td>0.479167</td>\n",
              "      <td>1</td>\n",
              "      <td>3</td>\n",
              "      <td>0.735849</td>\n",
              "      <td>0.166667</td>\n",
              "      <td>1</td>\n",
              "      <td>0</td>\n",
              "      <td>0.694656</td>\n",
              "      <td>0</td>\n",
              "      <td>0.5</td>\n",
              "      <td>0.0</td>\n",
              "      <td>0</td>\n",
              "      <td>7</td>\n",
              "    </tr>\n",
              "    <tr>\n",
              "      <th>266</th>\n",
              "      <td>0.312500</td>\n",
              "      <td>1</td>\n",
              "      <td>2</td>\n",
              "      <td>0.245283</td>\n",
              "      <td>0.312785</td>\n",
              "      <td>0</td>\n",
              "      <td>0</td>\n",
              "      <td>0.778626</td>\n",
              "      <td>0</td>\n",
              "      <td>0.0</td>\n",
              "      <td>0.0</td>\n",
              "      <td>0</td>\n",
              "      <td>7</td>\n",
              "    </tr>\n",
              "    <tr>\n",
              "      <th>267</th>\n",
              "      <td>0.562500</td>\n",
              "      <td>0</td>\n",
              "      <td>2</td>\n",
              "      <td>0.433962</td>\n",
              "      <td>0.383562</td>\n",
              "      <td>0</td>\n",
              "      <td>2</td>\n",
              "      <td>0.625954</td>\n",
              "      <td>0</td>\n",
              "      <td>1.3</td>\n",
              "      <td>0.5</td>\n",
              "      <td>0</td>\n",
              "      <td>3</td>\n",
              "    </tr>\n",
              "    <tr>\n",
              "      <th>268</th>\n",
              "      <td>0.583333</td>\n",
              "      <td>1</td>\n",
              "      <td>4</td>\n",
              "      <td>0.433962</td>\n",
              "      <td>0.150685</td>\n",
              "      <td>0</td>\n",
              "      <td>0</td>\n",
              "      <td>0.587786</td>\n",
              "      <td>0</td>\n",
              "      <td>0.4</td>\n",
              "      <td>0.5</td>\n",
              "      <td>0</td>\n",
              "      <td>6</td>\n",
              "    </tr>\n",
              "    <tr>\n",
              "      <th>269</th>\n",
              "      <td>0.791667</td>\n",
              "      <td>1</td>\n",
              "      <td>4</td>\n",
              "      <td>0.622642</td>\n",
              "      <td>0.365297</td>\n",
              "      <td>0</td>\n",
              "      <td>2</td>\n",
              "      <td>0.282443</td>\n",
              "      <td>1</td>\n",
              "      <td>1.5</td>\n",
              "      <td>0.5</td>\n",
              "      <td>3</td>\n",
              "      <td>3</td>\n",
              "    </tr>\n",
              "  </tbody>\n",
              "</table>\n",
              "<p>270 rows × 13 columns</p>\n",
              "</div>"
            ],
            "text/plain": [
              "          Age Sex Chest pain type  ...  Slope of ST  Number of vessels fluro Thallium\n",
              "0    0.854167   1               4  ...          0.5                        3        3\n",
              "1    0.791667   0               3  ...          0.5                        0        7\n",
              "2    0.583333   1               2  ...          0.0                        0        7\n",
              "3    0.729167   1               4  ...          0.5                        1        7\n",
              "4    0.937500   0               2  ...          0.0                        1        3\n",
              "..        ...  ..             ...  ...          ...                      ...      ...\n",
              "265  0.479167   1               3  ...          0.0                        0        7\n",
              "266  0.312500   1               2  ...          0.0                        0        7\n",
              "267  0.562500   0               2  ...          0.5                        0        3\n",
              "268  0.583333   1               4  ...          0.5                        0        6\n",
              "269  0.791667   1               4  ...          0.5                        3        3\n",
              "\n",
              "[270 rows x 13 columns]"
            ]
          },
          "metadata": {},
          "execution_count": 210
        }
      ]
    },
    {
      "cell_type": "markdown",
      "metadata": {
        "id": "81LXxnHsyS4o"
      },
      "source": [
        "# Метод k-средних"
      ]
    },
    {
      "cell_type": "code",
      "metadata": {
        "id": "L8N5cnIGvZwp"
      },
      "source": [
        "X1 = X"
      ],
      "execution_count": 168,
      "outputs": []
    },
    {
      "cell_type": "code",
      "metadata": {
        "colab": {
          "base_uri": "https://localhost:8080/"
        },
        "id": "JGCYuW-L12YN",
        "outputId": "1ff34f4a-8bb9-4d3b-f715-02797f777af9"
      },
      "source": [
        "print(X1.info())"
      ],
      "execution_count": 169,
      "outputs": [
        {
          "output_type": "stream",
          "name": "stdout",
          "text": [
            "<class 'pandas.core.frame.DataFrame'>\n",
            "RangeIndex: 270 entries, 0 to 269\n",
            "Data columns (total 13 columns):\n",
            " #   Column                   Non-Null Count  Dtype   \n",
            "---  ------                   --------------  -----   \n",
            " 0   Age                      270 non-null    float64 \n",
            " 1   Sex                      270 non-null    category\n",
            " 2   Chest pain type          270 non-null    category\n",
            " 3   BP                       270 non-null    float64 \n",
            " 4   Cholesterol              270 non-null    float64 \n",
            " 5   FBS over 120             270 non-null    category\n",
            " 6   EKG results              270 non-null    category\n",
            " 7   Max HR                   270 non-null    float64 \n",
            " 8   Exercise angina          270 non-null    category\n",
            " 9   ST depression            270 non-null    category\n",
            " 10  Slope of ST              270 non-null    float64 \n",
            " 11  Number of vessels fluro  270 non-null    category\n",
            " 12  Thallium                 270 non-null    category\n",
            "dtypes: category(8), float64(5)\n",
            "memory usage: 15.2 KB\n",
            "None\n"
          ]
        }
      ]
    },
    {
      "cell_type": "code",
      "metadata": {
        "id": "74E13kz2zJqO"
      },
      "source": [
        "from sklearn.cluster import KMeans\n",
        "import seaborn as sns"
      ],
      "execution_count": 102,
      "outputs": []
    },
    {
      "cell_type": "code",
      "metadata": {
        "id": "c43cwOkZyP_g"
      },
      "source": [
        "kmeans = KMeans(n_clusters=2)"
      ],
      "execution_count": 103,
      "outputs": []
    },
    {
      "cell_type": "code",
      "metadata": {
        "id": "S-JsPfONyQCg",
        "colab": {
          "base_uri": "https://localhost:8080/"
        },
        "outputId": "728af410-718d-4d11-e62a-31cb34c9e5ed"
      },
      "source": [
        "kmeans.fit(X1)\n",
        "y_kmeans = kmeans.predict(X1)\n",
        "y_kmeans"
      ],
      "execution_count": 170,
      "outputs": [
        {
          "output_type": "execute_result",
          "data": {
            "text/plain": [
              "array([1, 0, 0, 0, 1, 0, 0, 0, 0, 0, 0, 0, 1, 1, 1, 1, 0, 0, 1, 0, 0, 1,\n",
              "       1, 1, 1, 1, 1, 1, 0, 1, 0, 0, 1, 0, 0, 0, 0, 1, 1, 1, 0, 1, 1, 0,\n",
              "       0, 1, 1, 1, 0, 0, 0, 1, 1, 1, 1, 1, 1, 1, 1, 0, 0, 0, 1, 1, 0, 0,\n",
              "       1, 1, 1, 1, 0, 1, 1, 1, 1, 0, 1, 1, 1, 1, 0, 0, 0, 1, 0, 1, 1, 0,\n",
              "       1, 0, 1, 1, 0, 1, 0, 1, 1, 0, 0, 1, 1, 1, 1, 0, 0, 0, 1, 0, 0, 1,\n",
              "       1, 1, 1, 1, 1, 1, 0, 0, 1, 0, 0, 1, 0, 1, 1, 1, 0, 1, 1, 0, 1, 1,\n",
              "       1, 1, 0, 1, 1, 1, 1, 0, 0, 1, 0, 1, 0, 0, 1, 0, 0, 1, 1, 1, 1, 1,\n",
              "       1, 1, 0, 1, 0, 0, 0, 1, 1, 0, 0, 1, 1, 1, 1, 1, 1, 0, 1, 1, 1, 1,\n",
              "       0, 1, 0, 1, 0, 0, 0, 1, 1, 1, 0, 0, 1, 0, 1, 0, 0, 0, 1, 1, 1, 1,\n",
              "       1, 1, 0, 0, 0, 0, 0, 0, 1, 0, 0, 1, 0, 1, 1, 0, 1, 1, 1, 0, 0, 1,\n",
              "       0, 0, 1, 0, 1, 0, 0, 0, 1, 0, 0, 0, 1, 0, 0, 0, 1, 0, 1, 1, 0, 1,\n",
              "       1, 1, 1, 0, 0, 1, 1, 0, 0, 1, 1, 1, 1, 1, 1, 0, 1, 1, 1, 0, 1, 1,\n",
              "       0, 0, 0, 1, 0, 1], dtype=int32)"
            ]
          },
          "metadata": {},
          "execution_count": 170
        }
      ]
    },
    {
      "cell_type": "code",
      "metadata": {
        "id": "TCrCFGzCyQJI",
        "colab": {
          "base_uri": "https://localhost:8080/",
          "height": 424
        },
        "outputId": "3e409418-8b5c-40a3-8409-ab8be49f9deb"
      },
      "source": [
        "X1['cluster'] = y_kmeans\n",
        "X1"
      ],
      "execution_count": 171,
      "outputs": [
        {
          "output_type": "execute_result",
          "data": {
            "text/html": [
              "<div>\n",
              "<style scoped>\n",
              "    .dataframe tbody tr th:only-of-type {\n",
              "        vertical-align: middle;\n",
              "    }\n",
              "\n",
              "    .dataframe tbody tr th {\n",
              "        vertical-align: top;\n",
              "    }\n",
              "\n",
              "    .dataframe thead th {\n",
              "        text-align: right;\n",
              "    }\n",
              "</style>\n",
              "<table border=\"1\" class=\"dataframe\">\n",
              "  <thead>\n",
              "    <tr style=\"text-align: right;\">\n",
              "      <th></th>\n",
              "      <th>Age</th>\n",
              "      <th>Sex</th>\n",
              "      <th>Chest pain type</th>\n",
              "      <th>BP</th>\n",
              "      <th>Cholesterol</th>\n",
              "      <th>FBS over 120</th>\n",
              "      <th>EKG results</th>\n",
              "      <th>Max HR</th>\n",
              "      <th>Exercise angina</th>\n",
              "      <th>ST depression</th>\n",
              "      <th>Slope of ST</th>\n",
              "      <th>Number of vessels fluro</th>\n",
              "      <th>Thallium</th>\n",
              "      <th>cluster</th>\n",
              "    </tr>\n",
              "  </thead>\n",
              "  <tbody>\n",
              "    <tr>\n",
              "      <th>0</th>\n",
              "      <td>0.854167</td>\n",
              "      <td>1</td>\n",
              "      <td>4</td>\n",
              "      <td>0.339623</td>\n",
              "      <td>0.447489</td>\n",
              "      <td>0</td>\n",
              "      <td>2</td>\n",
              "      <td>0.290076</td>\n",
              "      <td>0</td>\n",
              "      <td>2.4</td>\n",
              "      <td>0.5</td>\n",
              "      <td>3</td>\n",
              "      <td>3</td>\n",
              "      <td>1</td>\n",
              "    </tr>\n",
              "    <tr>\n",
              "      <th>1</th>\n",
              "      <td>0.791667</td>\n",
              "      <td>0</td>\n",
              "      <td>3</td>\n",
              "      <td>0.198113</td>\n",
              "      <td>1.000000</td>\n",
              "      <td>0</td>\n",
              "      <td>2</td>\n",
              "      <td>0.679389</td>\n",
              "      <td>0</td>\n",
              "      <td>1.6</td>\n",
              "      <td>0.5</td>\n",
              "      <td>0</td>\n",
              "      <td>7</td>\n",
              "      <td>0</td>\n",
              "    </tr>\n",
              "    <tr>\n",
              "      <th>2</th>\n",
              "      <td>0.583333</td>\n",
              "      <td>1</td>\n",
              "      <td>2</td>\n",
              "      <td>0.283019</td>\n",
              "      <td>0.308219</td>\n",
              "      <td>0</td>\n",
              "      <td>0</td>\n",
              "      <td>0.534351</td>\n",
              "      <td>0</td>\n",
              "      <td>0.3</td>\n",
              "      <td>0.0</td>\n",
              "      <td>0</td>\n",
              "      <td>7</td>\n",
              "      <td>0</td>\n",
              "    </tr>\n",
              "    <tr>\n",
              "      <th>3</th>\n",
              "      <td>0.729167</td>\n",
              "      <td>1</td>\n",
              "      <td>4</td>\n",
              "      <td>0.320755</td>\n",
              "      <td>0.312785</td>\n",
              "      <td>0</td>\n",
              "      <td>0</td>\n",
              "      <td>0.259542</td>\n",
              "      <td>1</td>\n",
              "      <td>0.2</td>\n",
              "      <td>0.5</td>\n",
              "      <td>1</td>\n",
              "      <td>7</td>\n",
              "      <td>0</td>\n",
              "    </tr>\n",
              "    <tr>\n",
              "      <th>4</th>\n",
              "      <td>0.937500</td>\n",
              "      <td>0</td>\n",
              "      <td>2</td>\n",
              "      <td>0.245283</td>\n",
              "      <td>0.326484</td>\n",
              "      <td>0</td>\n",
              "      <td>2</td>\n",
              "      <td>0.381679</td>\n",
              "      <td>1</td>\n",
              "      <td>0.2</td>\n",
              "      <td>0.0</td>\n",
              "      <td>1</td>\n",
              "      <td>3</td>\n",
              "      <td>1</td>\n",
              "    </tr>\n",
              "    <tr>\n",
              "      <th>...</th>\n",
              "      <td>...</td>\n",
              "      <td>...</td>\n",
              "      <td>...</td>\n",
              "      <td>...</td>\n",
              "      <td>...</td>\n",
              "      <td>...</td>\n",
              "      <td>...</td>\n",
              "      <td>...</td>\n",
              "      <td>...</td>\n",
              "      <td>...</td>\n",
              "      <td>...</td>\n",
              "      <td>...</td>\n",
              "      <td>...</td>\n",
              "      <td>...</td>\n",
              "    </tr>\n",
              "    <tr>\n",
              "      <th>265</th>\n",
              "      <td>0.479167</td>\n",
              "      <td>1</td>\n",
              "      <td>3</td>\n",
              "      <td>0.735849</td>\n",
              "      <td>0.166667</td>\n",
              "      <td>1</td>\n",
              "      <td>0</td>\n",
              "      <td>0.694656</td>\n",
              "      <td>0</td>\n",
              "      <td>0.5</td>\n",
              "      <td>0.0</td>\n",
              "      <td>0</td>\n",
              "      <td>7</td>\n",
              "      <td>0</td>\n",
              "    </tr>\n",
              "    <tr>\n",
              "      <th>266</th>\n",
              "      <td>0.312500</td>\n",
              "      <td>1</td>\n",
              "      <td>2</td>\n",
              "      <td>0.245283</td>\n",
              "      <td>0.312785</td>\n",
              "      <td>0</td>\n",
              "      <td>0</td>\n",
              "      <td>0.778626</td>\n",
              "      <td>0</td>\n",
              "      <td>0.0</td>\n",
              "      <td>0.0</td>\n",
              "      <td>0</td>\n",
              "      <td>7</td>\n",
              "      <td>0</td>\n",
              "    </tr>\n",
              "    <tr>\n",
              "      <th>267</th>\n",
              "      <td>0.562500</td>\n",
              "      <td>0</td>\n",
              "      <td>2</td>\n",
              "      <td>0.433962</td>\n",
              "      <td>0.383562</td>\n",
              "      <td>0</td>\n",
              "      <td>2</td>\n",
              "      <td>0.625954</td>\n",
              "      <td>0</td>\n",
              "      <td>1.3</td>\n",
              "      <td>0.5</td>\n",
              "      <td>0</td>\n",
              "      <td>3</td>\n",
              "      <td>1</td>\n",
              "    </tr>\n",
              "    <tr>\n",
              "      <th>268</th>\n",
              "      <td>0.583333</td>\n",
              "      <td>1</td>\n",
              "      <td>4</td>\n",
              "      <td>0.433962</td>\n",
              "      <td>0.150685</td>\n",
              "      <td>0</td>\n",
              "      <td>0</td>\n",
              "      <td>0.587786</td>\n",
              "      <td>0</td>\n",
              "      <td>0.4</td>\n",
              "      <td>0.5</td>\n",
              "      <td>0</td>\n",
              "      <td>6</td>\n",
              "      <td>0</td>\n",
              "    </tr>\n",
              "    <tr>\n",
              "      <th>269</th>\n",
              "      <td>0.791667</td>\n",
              "      <td>1</td>\n",
              "      <td>4</td>\n",
              "      <td>0.622642</td>\n",
              "      <td>0.365297</td>\n",
              "      <td>0</td>\n",
              "      <td>2</td>\n",
              "      <td>0.282443</td>\n",
              "      <td>1</td>\n",
              "      <td>1.5</td>\n",
              "      <td>0.5</td>\n",
              "      <td>3</td>\n",
              "      <td>3</td>\n",
              "      <td>1</td>\n",
              "    </tr>\n",
              "  </tbody>\n",
              "</table>\n",
              "<p>270 rows × 14 columns</p>\n",
              "</div>"
            ],
            "text/plain": [
              "          Age Sex Chest pain type  ...  Number of vessels fluro  Thallium cluster\n",
              "0    0.854167   1               4  ...                        3         3       1\n",
              "1    0.791667   0               3  ...                        0         7       0\n",
              "2    0.583333   1               2  ...                        0         7       0\n",
              "3    0.729167   1               4  ...                        1         7       0\n",
              "4    0.937500   0               2  ...                        1         3       1\n",
              "..        ...  ..             ...  ...                      ...       ...     ...\n",
              "265  0.479167   1               3  ...                        0         7       0\n",
              "266  0.312500   1               2  ...                        0         7       0\n",
              "267  0.562500   0               2  ...                        0         3       1\n",
              "268  0.583333   1               4  ...                        0         6       0\n",
              "269  0.791667   1               4  ...                        3         3       1\n",
              "\n",
              "[270 rows x 14 columns]"
            ]
          },
          "metadata": {},
          "execution_count": 171
        }
      ]
    },
    {
      "cell_type": "code",
      "metadata": {
        "id": "gHpldfs7yQLZ",
        "colab": {
          "base_uri": "https://localhost:8080/",
          "height": 297
        },
        "outputId": "d157ca71-18bd-44d7-9390-51821a255887"
      },
      "source": [
        "sns.scatterplot(x = X1[\"Number of vessels fluro\"], y =X1.Thallium, s = 50, c = X1.cluster, marker = \"o\", hue = X1.cluster)\n",
        "sns.scatterplot(x = centers[:,11], y = centers[:,12], marker=\"o\", color='r', s = 70, label=\"centroid\")"
      ],
      "execution_count": 172,
      "outputs": [
        {
          "output_type": "execute_result",
          "data": {
            "text/plain": [
              "<matplotlib.axes._subplots.AxesSubplot at 0x7fa33b8b0a10>"
            ]
          },
          "metadata": {},
          "execution_count": 172
        },
        {
          "output_type": "display_data",
          "data": {
            "image/png": "[encoded data removed]",
            "text/plain": [
              "<Figure size 432x288 with 1 Axes>"
            ]
          },
          "metadata": {
            "needs_background": "light"
          }
        }
      ]
    },
    {
      "cell_type": "code",
      "metadata": {
        "id": "gTuA4VRDyQNn",
        "colab": {
          "base_uri": "https://localhost:8080/"
        },
        "outputId": "6ee8e51e-2625-4a8b-a4fa-5e954c29d196"
      },
      "source": [
        "print(df[\"Heart Disease\"].value_counts())\n",
        "print(X1[\"cluster\"].value_counts())"
      ],
      "execution_count": 173,
      "outputs": [
        {
          "output_type": "stream",
          "name": "stdout",
          "text": [
            "0    150\n",
            "1    120\n",
            "Name: Heart Disease, dtype: int64\n",
            "1    152\n",
            "0    118\n",
            "Name: cluster, dtype: int64\n"
          ]
        }
      ]
    },
    {
      "cell_type": "code",
      "metadata": {
        "id": "BOO4Lc4X7OaU"
      },
      "source": [
        "X1[\"isSame\"] = df[\"Heart Disease\"] == X1[\"cluster\"]"
      ],
      "execution_count": 174,
      "outputs": []
    },
    {
      "cell_type": "code",
      "metadata": {
        "colab": {
          "base_uri": "https://localhost:8080/",
          "height": 424
        },
        "id": "DQaT8Ccf8Y-r",
        "outputId": "bfc54609-8b0a-4730-cc2a-866cf668d4ab"
      },
      "source": [
        "X1"
      ],
      "execution_count": 175,
      "outputs": [
        {
          "output_type": "execute_result",
          "data": {
            "text/html": [
              "<div>\n",
              "<style scoped>\n",
              "    .dataframe tbody tr th:only-of-type {\n",
              "        vertical-align: middle;\n",
              "    }\n",
              "\n",
              "    .dataframe tbody tr th {\n",
              "        vertical-align: top;\n",
              "    }\n",
              "\n",
              "    .dataframe thead th {\n",
              "        text-align: right;\n",
              "    }\n",
              "</style>\n",
              "<table border=\"1\" class=\"dataframe\">\n",
              "  <thead>\n",
              "    <tr style=\"text-align: right;\">\n",
              "      <th></th>\n",
              "      <th>Age</th>\n",
              "      <th>Sex</th>\n",
              "      <th>Chest pain type</th>\n",
              "      <th>BP</th>\n",
              "      <th>Cholesterol</th>\n",
              "      <th>FBS over 120</th>\n",
              "      <th>EKG results</th>\n",
              "      <th>Max HR</th>\n",
              "      <th>Exercise angina</th>\n",
              "      <th>ST depression</th>\n",
              "      <th>Slope of ST</th>\n",
              "      <th>Number of vessels fluro</th>\n",
              "      <th>Thallium</th>\n",
              "      <th>cluster</th>\n",
              "      <th>isSame</th>\n",
              "    </tr>\n",
              "  </thead>\n",
              "  <tbody>\n",
              "    <tr>\n",
              "      <th>0</th>\n",
              "      <td>0.854167</td>\n",
              "      <td>1</td>\n",
              "      <td>4</td>\n",
              "      <td>0.339623</td>\n",
              "      <td>0.447489</td>\n",
              "      <td>0</td>\n",
              "      <td>2</td>\n",
              "      <td>0.290076</td>\n",
              "      <td>0</td>\n",
              "      <td>2.4</td>\n",
              "      <td>0.5</td>\n",
              "      <td>3</td>\n",
              "      <td>3</td>\n",
              "      <td>1</td>\n",
              "      <td>True</td>\n",
              "    </tr>\n",
              "    <tr>\n",
              "      <th>1</th>\n",
              "      <td>0.791667</td>\n",
              "      <td>0</td>\n",
              "      <td>3</td>\n",
              "      <td>0.198113</td>\n",
              "      <td>1.000000</td>\n",
              "      <td>0</td>\n",
              "      <td>2</td>\n",
              "      <td>0.679389</td>\n",
              "      <td>0</td>\n",
              "      <td>1.6</td>\n",
              "      <td>0.5</td>\n",
              "      <td>0</td>\n",
              "      <td>7</td>\n",
              "      <td>0</td>\n",
              "      <td>True</td>\n",
              "    </tr>\n",
              "    <tr>\n",
              "      <th>2</th>\n",
              "      <td>0.583333</td>\n",
              "      <td>1</td>\n",
              "      <td>2</td>\n",
              "      <td>0.283019</td>\n",
              "      <td>0.308219</td>\n",
              "      <td>0</td>\n",
              "      <td>0</td>\n",
              "      <td>0.534351</td>\n",
              "      <td>0</td>\n",
              "      <td>0.3</td>\n",
              "      <td>0.0</td>\n",
              "      <td>0</td>\n",
              "      <td>7</td>\n",
              "      <td>0</td>\n",
              "      <td>False</td>\n",
              "    </tr>\n",
              "    <tr>\n",
              "      <th>3</th>\n",
              "      <td>0.729167</td>\n",
              "      <td>1</td>\n",
              "      <td>4</td>\n",
              "      <td>0.320755</td>\n",
              "      <td>0.312785</td>\n",
              "      <td>0</td>\n",
              "      <td>0</td>\n",
              "      <td>0.259542</td>\n",
              "      <td>1</td>\n",
              "      <td>0.2</td>\n",
              "      <td>0.5</td>\n",
              "      <td>1</td>\n",
              "      <td>7</td>\n",
              "      <td>0</td>\n",
              "      <td>True</td>\n",
              "    </tr>\n",
              "    <tr>\n",
              "      <th>4</th>\n",
              "      <td>0.937500</td>\n",
              "      <td>0</td>\n",
              "      <td>2</td>\n",
              "      <td>0.245283</td>\n",
              "      <td>0.326484</td>\n",
              "      <td>0</td>\n",
              "      <td>2</td>\n",
              "      <td>0.381679</td>\n",
              "      <td>1</td>\n",
              "      <td>0.2</td>\n",
              "      <td>0.0</td>\n",
              "      <td>1</td>\n",
              "      <td>3</td>\n",
              "      <td>1</td>\n",
              "      <td>False</td>\n",
              "    </tr>\n",
              "    <tr>\n",
              "      <th>...</th>\n",
              "      <td>...</td>\n",
              "      <td>...</td>\n",
              "      <td>...</td>\n",
              "      <td>...</td>\n",
              "      <td>...</td>\n",
              "      <td>...</td>\n",
              "      <td>...</td>\n",
              "      <td>...</td>\n",
              "      <td>...</td>\n",
              "      <td>...</td>\n",
              "      <td>...</td>\n",
              "      <td>...</td>\n",
              "      <td>...</td>\n",
              "      <td>...</td>\n",
              "      <td>...</td>\n",
              "    </tr>\n",
              "    <tr>\n",
              "      <th>265</th>\n",
              "      <td>0.479167</td>\n",
              "      <td>1</td>\n",
              "      <td>3</td>\n",
              "      <td>0.735849</td>\n",
              "      <td>0.166667</td>\n",
              "      <td>1</td>\n",
              "      <td>0</td>\n",
              "      <td>0.694656</td>\n",
              "      <td>0</td>\n",
              "      <td>0.5</td>\n",
              "      <td>0.0</td>\n",
              "      <td>0</td>\n",
              "      <td>7</td>\n",
              "      <td>0</td>\n",
              "      <td>True</td>\n",
              "    </tr>\n",
              "    <tr>\n",
              "      <th>266</th>\n",
              "      <td>0.312500</td>\n",
              "      <td>1</td>\n",
              "      <td>2</td>\n",
              "      <td>0.245283</td>\n",
              "      <td>0.312785</td>\n",
              "      <td>0</td>\n",
              "      <td>0</td>\n",
              "      <td>0.778626</td>\n",
              "      <td>0</td>\n",
              "      <td>0.0</td>\n",
              "      <td>0.0</td>\n",
              "      <td>0</td>\n",
              "      <td>7</td>\n",
              "      <td>0</td>\n",
              "      <td>True</td>\n",
              "    </tr>\n",
              "    <tr>\n",
              "      <th>267</th>\n",
              "      <td>0.562500</td>\n",
              "      <td>0</td>\n",
              "      <td>2</td>\n",
              "      <td>0.433962</td>\n",
              "      <td>0.383562</td>\n",
              "      <td>0</td>\n",
              "      <td>2</td>\n",
              "      <td>0.625954</td>\n",
              "      <td>0</td>\n",
              "      <td>1.3</td>\n",
              "      <td>0.5</td>\n",
              "      <td>0</td>\n",
              "      <td>3</td>\n",
              "      <td>1</td>\n",
              "      <td>False</td>\n",
              "    </tr>\n",
              "    <tr>\n",
              "      <th>268</th>\n",
              "      <td>0.583333</td>\n",
              "      <td>1</td>\n",
              "      <td>4</td>\n",
              "      <td>0.433962</td>\n",
              "      <td>0.150685</td>\n",
              "      <td>0</td>\n",
              "      <td>0</td>\n",
              "      <td>0.587786</td>\n",
              "      <td>0</td>\n",
              "      <td>0.4</td>\n",
              "      <td>0.5</td>\n",
              "      <td>0</td>\n",
              "      <td>6</td>\n",
              "      <td>0</td>\n",
              "      <td>True</td>\n",
              "    </tr>\n",
              "    <tr>\n",
              "      <th>269</th>\n",
              "      <td>0.791667</td>\n",
              "      <td>1</td>\n",
              "      <td>4</td>\n",
              "      <td>0.622642</td>\n",
              "      <td>0.365297</td>\n",
              "      <td>0</td>\n",
              "      <td>2</td>\n",
              "      <td>0.282443</td>\n",
              "      <td>1</td>\n",
              "      <td>1.5</td>\n",
              "      <td>0.5</td>\n",
              "      <td>3</td>\n",
              "      <td>3</td>\n",
              "      <td>1</td>\n",
              "      <td>True</td>\n",
              "    </tr>\n",
              "  </tbody>\n",
              "</table>\n",
              "<p>270 rows × 15 columns</p>\n",
              "</div>"
            ],
            "text/plain": [
              "          Age Sex Chest pain type  ...  Thallium  cluster isSame\n",
              "0    0.854167   1               4  ...         3        1   True\n",
              "1    0.791667   0               3  ...         7        0   True\n",
              "2    0.583333   1               2  ...         7        0  False\n",
              "3    0.729167   1               4  ...         7        0   True\n",
              "4    0.937500   0               2  ...         3        1  False\n",
              "..        ...  ..             ...  ...       ...      ...    ...\n",
              "265  0.479167   1               3  ...         7        0   True\n",
              "266  0.312500   1               2  ...         7        0   True\n",
              "267  0.562500   0               2  ...         3        1  False\n",
              "268  0.583333   1               4  ...         6        0   True\n",
              "269  0.791667   1               4  ...         3        1   True\n",
              "\n",
              "[270 rows x 15 columns]"
            ]
          },
          "metadata": {},
          "execution_count": 175
        }
      ]
    },
    {
      "cell_type": "code",
      "metadata": {
        "id": "pUl8yo0t85Nj"
      },
      "source": [
        "X1[\"isSame\"] = X1[\"isSame\"].astype(\"category\")"
      ],
      "execution_count": 176,
      "outputs": []
    },
    {
      "cell_type": "code",
      "metadata": {
        "id": "v7jlkn_F8gHh"
      },
      "source": [
        "cleanup_nums = {\"isSame\":   {\"False\": 0, \"True\": 1}}\n",
        "X1 = X1.replace(cleanup_nums)"
      ],
      "execution_count": 177,
      "outputs": []
    },
    {
      "cell_type": "code",
      "metadata": {
        "colab": {
          "base_uri": "https://localhost:8080/"
        },
        "id": "bPKtD3bx8gJ5",
        "outputId": "6f3ac9ea-7055-4ea1-81a1-0971eeed1fa2"
      },
      "source": [
        "print(X1[\"isSame\"].value_counts())"
      ],
      "execution_count": 178,
      "outputs": [
        {
          "output_type": "stream",
          "name": "stdout",
          "text": [
            "False    206\n",
            "True      64\n",
            "Name: isSame, dtype: int64\n"
          ]
        }
      ]
    },
    {
      "cell_type": "code",
      "metadata": {
        "colab": {
          "base_uri": "https://localhost:8080/"
        },
        "id": "Xw32h71E9IUr",
        "outputId": "9b3edd8c-3a11-47e0-bdcf-3fb460eb714e"
      },
      "source": [
        " 206/270"
      ],
      "execution_count": 79,
      "outputs": [
        {
          "output_type": "execute_result",
          "data": {
            "text/plain": [
              "0.762962962962963"
            ]
          },
          "metadata": {},
          "execution_count": 79
        }
      ]
    },
    {
      "cell_type": "markdown",
      "metadata": {
        "id": "piN1-47X9gIj"
      },
      "source": [
        "# Метод кластеризации на основе плотности DBSCAN"
      ]
    },
    {
      "cell_type": "code",
      "metadata": {
        "id": "y6vKEB4AvuKE"
      },
      "source": [
        "X2 = X"
      ],
      "execution_count": 211,
      "outputs": []
    },
    {
      "cell_type": "code",
      "metadata": {
        "id": "UKBlvkXNuKfN"
      },
      "source": [
        "import matplotlib.pyplot as plt\n",
        "from sklearn.cluster import DBSCAN\n",
        "from sklearn.decomposition import PCA"
      ],
      "execution_count": 212,
      "outputs": []
    },
    {
      "cell_type": "code",
      "metadata": {
        "colab": {
          "base_uri": "https://localhost:8080/"
        },
        "id": "KX0cE-dQtbGI",
        "outputId": "c7ab8b7f-d206-4ae4-fd97-06e99f947f9d"
      },
      "source": [
        "dbscan = DBSCAN()\n",
        "dbscan.fit(X2)"
      ],
      "execution_count": 213,
      "outputs": [
        {
          "output_type": "execute_result",
          "data": {
            "text/plain": [
              "DBSCAN(algorithm='auto', eps=0.5, leaf_size=30, metric='euclidean',\n",
              "       metric_params=None, min_samples=5, n_jobs=None, p=None)"
            ]
          },
          "metadata": {},
          "execution_count": 213
        }
      ]
    },
    {
      "cell_type": "markdown",
      "metadata": {
        "id": "7ugaT2wDumjw"
      },
      "source": [
        "Уменьшаем размерность при помощи метода главных компонент"
      ]
    },
    {
      "cell_type": "code",
      "metadata": {
        "id": "ajpLcLYXtbKc"
      },
      "source": [
        "pca = PCA(n_components=2).fit(X2)\n",
        "pca_2d = pca.transform(X2)"
      ],
      "execution_count": 214,
      "outputs": []
    },
    {
      "cell_type": "code",
      "metadata": {
        "colab": {
          "base_uri": "https://localhost:8080/",
          "height": 281
        },
        "id": "QbvZuwrTtbMe",
        "outputId": "253325b5-f6db-4d23-ede8-cb688f301893"
      },
      "source": [
        "for i in range(0, pca_2d.shape[0]):\n",
        "    if dbscan.labels_[i] == 0:\n",
        "        c1 = plt.scatter(pca_2d[i, 0], pca_2d[i, 1], c='r', marker='+')\n",
        "    elif dbscan.labels_[i] == 1:\n",
        "        c2 = plt.scatter(pca_2d[i, 0], pca_2d[i, 1], c='g', marker='o')\n",
        "    elif dbscan.labels_[i] == -1:\n",
        "        c3 = plt.scatter(pca_2d[i, 0], pca_2d[i, 1], c='b', marker='*')\n",
        "\n",
        "plt.legend([c1, c2, c3], ['Кластер 1', 'Кластер 2', 'Шум'])\n",
        "plt.title('DBSCAN нашел 2 кластера и шум')\n",
        "plt.show()"
      ],
      "execution_count": 215,
      "outputs": [
        {
          "output_type": "display_data",
          "data": {
            "image/png": "[encoded data removed]",
            "text/plain": [
              "<Figure size 432x288 with 1 Axes>"
            ]
          },
          "metadata": {
            "needs_background": "light"
          }
        }
      ]
    },
    {
      "cell_type": "code",
      "metadata": {
        "colab": {
          "base_uri": "https://localhost:8080/",
          "height": 281
        },
        "id": "COXbzGCHyjH_",
        "outputId": "9ff29aa9-32b8-448b-b36e-e71dd42dd3a2"
      },
      "source": [
        "for i in range(0, pca_2d.shape[0]):\n",
        "    if dbscan.labels_[i] == 0:\n",
        "        c1 = plt.scatter(pca_2d[i, 0], pca_2d[i, 1], c='r', marker='+')\n",
        "    elif dbscan.labels_[i] == 1:\n",
        "        c2 = plt.scatter(pca_2d[i, 0], pca_2d[i, 1], c='g', marker='o')\n",
        "\n",
        "plt.legend([c1, c2, c3], ['Кластер 1', 'Кластер 2'])\n",
        "plt.title('DBSCAN нашел 2 кластера')\n",
        "plt.show()"
      ],
      "execution_count": 216,
      "outputs": [
        {
          "output_type": "display_data",
          "data": {
            "image/png": "[encoded data removed]",
            "text/plain": [
              "<Figure size 432x288 with 1 Axes>"
            ]
          },
          "metadata": {
            "needs_background": "light"
          }
        }
      ]
    }
  ]
}