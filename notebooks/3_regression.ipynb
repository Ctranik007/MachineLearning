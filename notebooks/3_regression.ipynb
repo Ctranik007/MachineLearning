{
 "cells": [
  {
   "cell_type": "code",
   "execution_count": 38,
   "metadata": {},
   "outputs": [],
   "source": [
    "import pandas as pd\n",
    "from sklearn.model_selection import train_test_split\n",
    "from sklearn.preprocessing import StandardScaler\n",
    "import numpy as np\n",
    "import seaborn as sns\n",
    "import matplotlib.pyplot as plt"
   ]
  },
  {
   "cell_type": "code",
   "execution_count": 39,
   "metadata": {},
   "outputs": [],
   "source": [
    "df = pd.read_excel('extention_ZAlizadeh_san_preprocessed.xlsx') "
   ]
  },
  {
   "cell_type": "code",
   "execution_count": 40,
   "metadata": {},
   "outputs": [],
   "source": [
    "del df['Unnamed: 0']"
   ]
  },
  {
   "cell_type": "code",
   "execution_count": 41,
   "metadata": {},
   "outputs": [],
   "source": [
    "del df['Exertional CP']"
   ]
  },
  {
   "cell_type": "code",
   "execution_count": 42,
   "metadata": {
    "scrolled": true
   },
   "outputs": [],
   "source": [
    "df = pd.DataFrame(df) "
   ]
  },
  {
   "cell_type": "code",
   "execution_count": 43,
   "metadata": {},
   "outputs": [],
   "source": [
    "df.drop(df.iloc[:, 49:58], inplace = True, axis = 1)"
   ]
  },
  {
   "cell_type": "code",
   "execution_count": 44,
   "metadata": {},
   "outputs": [
    {
     "data": {
      "text/html": [
       "<div>\n",
       "<style scoped>\n",
       "    .dataframe tbody tr th:only-of-type {\n",
       "        vertical-align: middle;\n",
       "    }\n",
       "\n",
       "    .dataframe tbody tr th {\n",
       "        vertical-align: top;\n",
       "    }\n",
       "\n",
       "    .dataframe thead th {\n",
       "        text-align: right;\n",
       "    }\n",
       "</style>\n",
       "<table border=\"1\" class=\"dataframe\">\n",
       "  <thead>\n",
       "    <tr style=\"text-align: right;\">\n",
       "      <th></th>\n",
       "      <th>Age</th>\n",
       "      <th>Weight</th>\n",
       "      <th>Length</th>\n",
       "      <th>Sex</th>\n",
       "      <th>BMI</th>\n",
       "      <th>DM</th>\n",
       "      <th>HTN</th>\n",
       "      <th>Current Smoker</th>\n",
       "      <th>EX-Smoker</th>\n",
       "      <th>FH</th>\n",
       "      <th>...</th>\n",
       "      <th>TG</th>\n",
       "      <th>LDL</th>\n",
       "      <th>HDL</th>\n",
       "      <th>BUN</th>\n",
       "      <th>ESR</th>\n",
       "      <th>HB</th>\n",
       "      <th>K</th>\n",
       "      <th>Na</th>\n",
       "      <th>WBC</th>\n",
       "      <th>Lymph</th>\n",
       "    </tr>\n",
       "  </thead>\n",
       "  <tbody>\n",
       "    <tr>\n",
       "      <th>0</th>\n",
       "      <td>53</td>\n",
       "      <td>90</td>\n",
       "      <td>175</td>\n",
       "      <td>1</td>\n",
       "      <td>29.387755</td>\n",
       "      <td>0</td>\n",
       "      <td>1</td>\n",
       "      <td>1</td>\n",
       "      <td>0</td>\n",
       "      <td>0</td>\n",
       "      <td>...</td>\n",
       "      <td>250</td>\n",
       "      <td>155</td>\n",
       "      <td>30.0</td>\n",
       "      <td>8</td>\n",
       "      <td>7</td>\n",
       "      <td>15.6</td>\n",
       "      <td>4.7</td>\n",
       "      <td>141</td>\n",
       "      <td>5700</td>\n",
       "      <td>39</td>\n",
       "    </tr>\n",
       "    <tr>\n",
       "      <th>1</th>\n",
       "      <td>67</td>\n",
       "      <td>70</td>\n",
       "      <td>157</td>\n",
       "      <td>2</td>\n",
       "      <td>28.398718</td>\n",
       "      <td>0</td>\n",
       "      <td>1</td>\n",
       "      <td>0</td>\n",
       "      <td>0</td>\n",
       "      <td>0</td>\n",
       "      <td>...</td>\n",
       "      <td>309</td>\n",
       "      <td>121</td>\n",
       "      <td>36.0</td>\n",
       "      <td>30</td>\n",
       "      <td>26</td>\n",
       "      <td>13.9</td>\n",
       "      <td>4.7</td>\n",
       "      <td>156</td>\n",
       "      <td>7700</td>\n",
       "      <td>38</td>\n",
       "    </tr>\n",
       "    <tr>\n",
       "      <th>2</th>\n",
       "      <td>54</td>\n",
       "      <td>54</td>\n",
       "      <td>164</td>\n",
       "      <td>1</td>\n",
       "      <td>20.077335</td>\n",
       "      <td>0</td>\n",
       "      <td>0</td>\n",
       "      <td>1</td>\n",
       "      <td>0</td>\n",
       "      <td>0</td>\n",
       "      <td>...</td>\n",
       "      <td>103</td>\n",
       "      <td>70</td>\n",
       "      <td>45.0</td>\n",
       "      <td>17</td>\n",
       "      <td>10</td>\n",
       "      <td>13.5</td>\n",
       "      <td>4.7</td>\n",
       "      <td>139</td>\n",
       "      <td>7400</td>\n",
       "      <td>38</td>\n",
       "    </tr>\n",
       "    <tr>\n",
       "      <th>3</th>\n",
       "      <td>66</td>\n",
       "      <td>67</td>\n",
       "      <td>158</td>\n",
       "      <td>2</td>\n",
       "      <td>26.838648</td>\n",
       "      <td>0</td>\n",
       "      <td>1</td>\n",
       "      <td>0</td>\n",
       "      <td>0</td>\n",
       "      <td>0</td>\n",
       "      <td>...</td>\n",
       "      <td>63</td>\n",
       "      <td>55</td>\n",
       "      <td>27.0</td>\n",
       "      <td>30</td>\n",
       "      <td>76</td>\n",
       "      <td>12.1</td>\n",
       "      <td>4.4</td>\n",
       "      <td>142</td>\n",
       "      <td>13000</td>\n",
       "      <td>18</td>\n",
       "    </tr>\n",
       "    <tr>\n",
       "      <th>4</th>\n",
       "      <td>50</td>\n",
       "      <td>87</td>\n",
       "      <td>153</td>\n",
       "      <td>2</td>\n",
       "      <td>37.165193</td>\n",
       "      <td>0</td>\n",
       "      <td>1</td>\n",
       "      <td>0</td>\n",
       "      <td>0</td>\n",
       "      <td>0</td>\n",
       "      <td>...</td>\n",
       "      <td>170</td>\n",
       "      <td>110</td>\n",
       "      <td>50.0</td>\n",
       "      <td>16</td>\n",
       "      <td>27</td>\n",
       "      <td>13.2</td>\n",
       "      <td>4.0</td>\n",
       "      <td>140</td>\n",
       "      <td>9200</td>\n",
       "      <td>55</td>\n",
       "    </tr>\n",
       "    <tr>\n",
       "      <th>5</th>\n",
       "      <td>50</td>\n",
       "      <td>75</td>\n",
       "      <td>175</td>\n",
       "      <td>1</td>\n",
       "      <td>24.489796</td>\n",
       "      <td>0</td>\n",
       "      <td>0</td>\n",
       "      <td>1</td>\n",
       "      <td>0</td>\n",
       "      <td>0</td>\n",
       "      <td>...</td>\n",
       "      <td>139</td>\n",
       "      <td>119</td>\n",
       "      <td>34.0</td>\n",
       "      <td>13</td>\n",
       "      <td>18</td>\n",
       "      <td>15.6</td>\n",
       "      <td>4.2</td>\n",
       "      <td>141</td>\n",
       "      <td>7300</td>\n",
       "      <td>26</td>\n",
       "    </tr>\n",
       "    <tr>\n",
       "      <th>6</th>\n",
       "      <td>55</td>\n",
       "      <td>80</td>\n",
       "      <td>165</td>\n",
       "      <td>1</td>\n",
       "      <td>29.384757</td>\n",
       "      <td>0</td>\n",
       "      <td>0</td>\n",
       "      <td>0</td>\n",
       "      <td>1</td>\n",
       "      <td>0</td>\n",
       "      <td>...</td>\n",
       "      <td>83</td>\n",
       "      <td>85</td>\n",
       "      <td>34.0</td>\n",
       "      <td>12</td>\n",
       "      <td>38</td>\n",
       "      <td>14.1</td>\n",
       "      <td>4.8</td>\n",
       "      <td>139</td>\n",
       "      <td>9400</td>\n",
       "      <td>58</td>\n",
       "    </tr>\n",
       "    <tr>\n",
       "      <th>7</th>\n",
       "      <td>72</td>\n",
       "      <td>80</td>\n",
       "      <td>175</td>\n",
       "      <td>1</td>\n",
       "      <td>26.122449</td>\n",
       "      <td>1</td>\n",
       "      <td>0</td>\n",
       "      <td>1</td>\n",
       "      <td>0</td>\n",
       "      <td>0</td>\n",
       "      <td>...</td>\n",
       "      <td>80</td>\n",
       "      <td>90</td>\n",
       "      <td>55.0</td>\n",
       "      <td>19</td>\n",
       "      <td>4</td>\n",
       "      <td>16.1</td>\n",
       "      <td>4.3</td>\n",
       "      <td>142</td>\n",
       "      <td>12200</td>\n",
       "      <td>25</td>\n",
       "    </tr>\n",
       "    <tr>\n",
       "      <th>8</th>\n",
       "      <td>58</td>\n",
       "      <td>84</td>\n",
       "      <td>163</td>\n",
       "      <td>2</td>\n",
       "      <td>31.615793</td>\n",
       "      <td>0</td>\n",
       "      <td>0</td>\n",
       "      <td>0</td>\n",
       "      <td>0</td>\n",
       "      <td>0</td>\n",
       "      <td>...</td>\n",
       "      <td>79</td>\n",
       "      <td>90</td>\n",
       "      <td>59.0</td>\n",
       "      <td>15</td>\n",
       "      <td>5</td>\n",
       "      <td>11.6</td>\n",
       "      <td>3.4</td>\n",
       "      <td>139</td>\n",
       "      <td>5100</td>\n",
       "      <td>49</td>\n",
       "    </tr>\n",
       "    <tr>\n",
       "      <th>9</th>\n",
       "      <td>60</td>\n",
       "      <td>71</td>\n",
       "      <td>170</td>\n",
       "      <td>1</td>\n",
       "      <td>24.567474</td>\n",
       "      <td>1</td>\n",
       "      <td>0</td>\n",
       "      <td>0</td>\n",
       "      <td>0</td>\n",
       "      <td>0</td>\n",
       "      <td>...</td>\n",
       "      <td>80</td>\n",
       "      <td>90</td>\n",
       "      <td>44.0</td>\n",
       "      <td>16</td>\n",
       "      <td>8</td>\n",
       "      <td>13.9</td>\n",
       "      <td>4.6</td>\n",
       "      <td>140</td>\n",
       "      <td>4900</td>\n",
       "      <td>55</td>\n",
       "    </tr>\n",
       "  </tbody>\n",
       "</table>\n",
       "<p>10 rows × 49 columns</p>\n",
       "</div>"
      ],
      "text/plain": [
       "   Age  Weight  Length  Sex        BMI  DM  HTN  Current Smoker  EX-Smoker  \\\n",
       "0   53      90     175    1  29.387755   0    1               1          0   \n",
       "1   67      70     157    2  28.398718   0    1               0          0   \n",
       "2   54      54     164    1  20.077335   0    0               1          0   \n",
       "3   66      67     158    2  26.838648   0    1               0          0   \n",
       "4   50      87     153    2  37.165193   0    1               0          0   \n",
       "5   50      75     175    1  24.489796   0    0               1          0   \n",
       "6   55      80     165    1  29.384757   0    0               0          1   \n",
       "7   72      80     175    1  26.122449   1    0               1          0   \n",
       "8   58      84     163    2  31.615793   0    0               0          0   \n",
       "9   60      71     170    1  24.567474   1    0               0          0   \n",
       "\n",
       "   FH  ...   TG  LDL   HDL  BUN  ESR    HB    K   Na    WBC  Lymph  \n",
       "0   0  ...  250  155  30.0    8    7  15.6  4.7  141   5700     39  \n",
       "1   0  ...  309  121  36.0   30   26  13.9  4.7  156   7700     38  \n",
       "2   0  ...  103   70  45.0   17   10  13.5  4.7  139   7400     38  \n",
       "3   0  ...   63   55  27.0   30   76  12.1  4.4  142  13000     18  \n",
       "4   0  ...  170  110  50.0   16   27  13.2  4.0  140   9200     55  \n",
       "5   0  ...  139  119  34.0   13   18  15.6  4.2  141   7300     26  \n",
       "6   0  ...   83   85  34.0   12   38  14.1  4.8  139   9400     58  \n",
       "7   0  ...   80   90  55.0   19    4  16.1  4.3  142  12200     25  \n",
       "8   0  ...   79   90  59.0   15    5  11.6  3.4  139   5100     49  \n",
       "9   0  ...   80   90  44.0   16    8  13.9  4.6  140   4900     55  \n",
       "\n",
       "[10 rows x 49 columns]"
      ]
     },
     "execution_count": 44,
     "metadata": {},
     "output_type": "execute_result"
    }
   ],
   "source": [
    "df.head(10)"
   ]
  },
  {
   "cell_type": "code",
   "execution_count": 45,
   "metadata": {},
   "outputs": [],
   "source": [
    "X = np.array(df.iloc[:,1].values).reshape((-1, 1))\n",
    "y = np.array(df.iloc[:,47].values)#WBС - количество лейкоцитов"
   ]
  },
  {
   "cell_type": "code",
   "execution_count": 46,
   "metadata": {},
   "outputs": [
    {
     "name": "stdout",
     "output_type": "stream",
     "text": [
      "(303, 49) (303, 1) (303,)\n"
     ]
    }
   ],
   "source": [
    "print (df.shape, X.shape, y.shape)"
   ]
  },
  {
   "cell_type": "code",
   "execution_count": 47,
   "metadata": {},
   "outputs": [],
   "source": [
    "X_train, X_test, y_train, y_test = train_test_split(X, y, test_size=0.3, shuffle = False)"
   ]
  },
  {
   "cell_type": "code",
   "execution_count": 48,
   "metadata": {},
   "outputs": [],
   "source": [
    "scaler = StandardScaler()\n",
    "scaler.fit(X_train)\n",
    "\n",
    "X_train = scaler.transform(X_train)\n",
    "X_test = scaler.transform(X_test)"
   ]
  },
  {
   "cell_type": "code",
   "execution_count": 49,
   "metadata": {
    "scrolled": false
   },
   "outputs": [
    {
     "data": {
      "text/plain": [
       "<AxesSubplot:>"
      ]
     },
     "execution_count": 49,
     "metadata": {},
     "output_type": "execute_result"
    },
    {
     "data": {
      "image/png": "[encoded data removed]",
      "text/plain": [
       "<Figure size 936x720 with 2 Axes>"
      ]
     },
     "metadata": {
      "needs_background": "light"
     },
     "output_type": "display_data"
    }
   ],
   "source": [
    "plt.figure(figsize=(13,10))\n",
    "sns.heatmap(df.corr(), vmax=0.8)"
   ]
  },
  {
   "cell_type": "markdown",
   "metadata": {},
   "source": [
    "# Линейная регрессия"
   ]
  },
  {
   "cell_type": "code",
   "execution_count": 50,
   "metadata": {},
   "outputs": [],
   "source": [
    "from sklearn.linear_model import LinearRegression\n",
    "from sklearn.metrics import r2_score, mean_absolute_error, mean_squared_error\n",
    "from math import sqrt"
   ]
  },
  {
   "cell_type": "code",
   "execution_count": 51,
   "metadata": {},
   "outputs": [],
   "source": [
    "model = LinearRegression()\n",
    "model.fit(X_train, y_train)\n",
    "y_pred = model.predict(X_test)"
   ]
  },
  {
   "cell_type": "code",
   "execution_count": 52,
   "metadata": {},
   "outputs": [
    {
     "name": "stdout",
     "output_type": "stream",
     "text": [
      "R2: -0.00013320787388759747\n",
      "Mean Square Error(MSE): 2274.0877129890155\n",
      "Root Mean Square Error(RMSE): 47.68739574551137\n",
      "mean absolute error (MAE): 1768.3031208221555\n"
     ]
    }
   ],
   "source": [
    "print ('R2:',r2_score(y_test, y_pred))\n",
    "print ('Mean Square Error(MSE):',mean_squared_error(y_test, y_pred, squared=False))\n",
    "print ('Root Mean Square Error(RMSE):',sqrt(mean_squared_error(y_test, y_pred, squared=False)))\n",
    "print ('mean absolute error (MAE):',mean_absolute_error(y_test, y_pred))"
   ]
  },
  {
   "cell_type": "markdown",
   "metadata": {},
   "source": [
    "# Регрессия дерева решений"
   ]
  },
  {
   "cell_type": "code",
   "execution_count": 93,
   "metadata": {},
   "outputs": [],
   "source": [
    "from sklearn.tree import DecisionTreeRegressor"
   ]
  },
  {
   "cell_type": "code",
   "execution_count": 94,
   "metadata": {},
   "outputs": [
    {
     "data": {
      "text/plain": [
       "DecisionTreeRegressor(random_state=0)"
      ]
     },
     "execution_count": 94,
     "metadata": {},
     "output_type": "execute_result"
    }
   ],
   "source": [
    "model = DecisionTreeRegressor(random_state=0)\n",
    "model.fit(X_train, y_train)"
   ]
  },
  {
   "cell_type": "code",
   "execution_count": 95,
   "metadata": {},
   "outputs": [],
   "source": [
    "y_pred=model.predict(X_test)"
   ]
  },
  {
   "cell_type": "code",
   "execution_count": 96,
   "metadata": {},
   "outputs": [
    {
     "name": "stdout",
     "output_type": "stream",
     "text": [
      "R2: -0.5414670425921781\n",
      "Mean Square Error(MSE): 2823.224471129688\n",
      "Root Mean Square Error(RMSE): 53.134023667793954\n",
      "mean absolute error (MAE): 2166.051171051171\n"
     ]
    }
   ],
   "source": [
    "print ('R2:',r2_score(y_test, y_pred))\n",
    "print ('Mean Square Error(MSE):',mean_squared_error(y_test, y_pred, squared=False))\n",
    "print ('Root Mean Square Error(RMSE):',sqrt(mean_squared_error(y_test, y_pred, squared=False)))\n",
    "print ('mean absolute error (MAE):',mean_absolute_error(y_test, y_pred))"
   ]
  },
  {
   "cell_type": "markdown",
   "metadata": {},
   "source": [
    "# LASSO"
   ]
  },
  {
   "cell_type": "code",
   "execution_count": 57,
   "metadata": {},
   "outputs": [],
   "source": [
    "from sklearn.linear_model import Lasso\n",
    "from sklearn.metrics import mean_squared_error"
   ]
  },
  {
   "cell_type": "code",
   "execution_count": 90,
   "metadata": {},
   "outputs": [
    {
     "data": {
      "text/plain": [
       "Lasso()"
      ]
     },
     "execution_count": 90,
     "metadata": {},
     "output_type": "execute_result"
    }
   ],
   "source": [
    "model = Lasso(alpha=1.0)\n",
    "model.fit(X_train, y_train)"
   ]
  },
  {
   "cell_type": "code",
   "execution_count": 91,
   "metadata": {},
   "outputs": [],
   "source": [
    "y_pred=model.predict(X_test)"
   ]
  },
  {
   "cell_type": "code",
   "execution_count": 92,
   "metadata": {},
   "outputs": [
    {
     "name": "stdout",
     "output_type": "stream",
     "text": [
      "R2: -0.00012185004137532651\n",
      "Mean Square Error(MSE): 2274.0748003187387\n",
      "Root Mean Square Error(RMSE): 47.68726035660613\n",
      "mean absolute error (MAE): 1768.1907848061842\n"
     ]
    }
   ],
   "source": [
    "print ('R2:',r2_score(y_test, y_pred))\n",
    "print ('Mean Square Error(MSE):',mean_squared_error(y_test, y_pred, squared=False))\n",
    "print ('Root Mean Square Error(RMSE):',sqrt(mean_squared_error(y_test, y_pred, squared=False)))\n",
    "print ('mean absolute error (MAE):',mean_absolute_error(y_test, y_pred))"
   ]
  },
  {
   "cell_type": "markdown",
   "metadata": {},
   "source": [
    "# Гребневая регрессия"
   ]
  },
  {
   "cell_type": "code",
   "execution_count": 61,
   "metadata": {},
   "outputs": [],
   "source": [
    "from sklearn.linear_model import Ridge"
   ]
  },
  {
   "cell_type": "code",
   "execution_count": 81,
   "metadata": {},
   "outputs": [
    {
     "data": {
      "text/plain": [
       "Ridge()"
      ]
     },
     "execution_count": 81,
     "metadata": {},
     "output_type": "execute_result"
    }
   ],
   "source": [
    "model=Ridge(alpha=1.0)\n",
    "model.fit(X_train, y_train)"
   ]
  },
  {
   "cell_type": "code",
   "execution_count": 82,
   "metadata": {},
   "outputs": [],
   "source": [
    "y_pred=model.predict(X_test)"
   ]
  },
  {
   "cell_type": "code",
   "execution_count": 83,
   "metadata": {},
   "outputs": [
    {
     "name": "stdout",
     "output_type": "stream",
     "text": [
      "R2: -0.000130083121311797\n",
      "Mean Square Error(MSE): 2274.0841604787433\n",
      "Root Mean Square Error(RMSE): 47.68735849760126\n",
      "mean absolute error (MAE): 1768.2725786414217\n"
     ]
    }
   ],
   "source": [
    "print ('R2:',r2_score(y_test, y_pred))\n",
    "print ('Mean Square Error(MSE):',mean_squared_error(y_test, y_pred, squared=False))\n",
    "print ('Root Mean Square Error(RMSE):',sqrt(mean_squared_error(y_test, y_pred, squared=False)))\n",
    "print ('mean absolute error (MAE):',mean_absolute_error(y_test, y_pred))"
   ]
  },
  {
   "cell_type": "markdown",
   "metadata": {},
   "source": [
    "# Elastic Net регрессия"
   ]
  },
  {
   "cell_type": "code",
   "execution_count": 75,
   "metadata": {},
   "outputs": [],
   "source": [
    "from sklearn.linear_model import ElasticNetCV"
   ]
  },
  {
   "cell_type": "code",
   "execution_count": 77,
   "metadata": {},
   "outputs": [
    {
     "data": {
      "text/plain": [
       "ElasticNetCV(cv=5, random_state=0)"
      ]
     },
     "execution_count": 77,
     "metadata": {},
     "output_type": "execute_result"
    }
   ],
   "source": [
    "model = ElasticNetCV(cv=5, random_state=0)\n",
    "model.fit(X_train, y_train)"
   ]
  },
  {
   "cell_type": "code",
   "execution_count": 78,
   "metadata": {},
   "outputs": [],
   "source": [
    "y_pred=model.predict(X_test)"
   ]
  },
  {
   "cell_type": "code",
   "execution_count": 79,
   "metadata": {},
   "outputs": [
    {
     "name": "stdout",
     "output_type": "stream",
     "text": [
      "R2: -8.74339763436982e-05\n",
      "Mean Square Error(MSE): 2274.03567239671\n",
      "Root Mean Square Error(RMSE): 47.68685009933777\n",
      "mean absolute error (MAE): 1761.7976363259381\n"
     ]
    }
   ],
   "source": [
    "print ('R2:',r2_score(y_test, y_pred))\n",
    "print ('Mean Square Error(MSE):',mean_squared_error(y_test, y_pred, squared=False))\n",
    "print ('Root Mean Square Error(RMSE):',sqrt(mean_squared_error(y_test, y_pred, squared=False)))\n",
    "print ('mean absolute error (MAE):',mean_absolute_error(y_test, y_pred))"
   ]
  },
  {
   "cell_type": "markdown",
   "metadata": {},
   "source": [
    "# Ссылки"
   ]
  },
  {
   "cell_type": "markdown",
   "metadata": {},
   "source": [
    "https://mcs.mail.ru/blog/-5-algoritmov-regressii-v-mashinnom-obuchenii \\\n",
    "https://scikit-learn.org/stable/modules/generated/sklearn.linear_model.LinearRegression.html \\\n",
    "https://scikit-learn.org/stable/modules/generated/sklearn.tree.DecisionTreeRegressor.html \\\n",
    "https://scikit-learn.org/stable/modules/generated/sklearn.linear_model.Lasso.html \\\n",
    "https://scikit-learn.org/stable/modules/generated/sklearn.linear_model.Ridge.html \\\n",
    "https://scikit-learn.org/stable/modules/generated/sklearn.linear_model.ElasticNetCV.html"
   ]
  },
  {
   "cell_type": "code",
   "execution_count": null,
   "metadata": {},
   "outputs": [],
   "source": []
  }
 ],
 "metadata": {
  "kernelspec": {
   "display_name": "Python 3",
   "language": "python",
   "name": "python3"
  },
  "language_info": {
   "codemirror_mode": {
    "name": "ipython",
    "version": 3
   },
   "file_extension": ".py",
   "mimetype": "text/x-python",
   "name": "python",
   "nbconvert_exporter": "python",
   "pygments_lexer": "ipython3",
   "version": "3.8.5"
  }
 },
 "nbformat": 4,
 "nbformat_minor": 4
}
