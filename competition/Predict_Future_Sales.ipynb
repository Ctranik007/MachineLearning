{
 "cells": [
  {
   "cell_type": "markdown",
   "metadata": {},
   "source": [
    "# Predict Future Sales"
   ]
  },
  {
   "cell_type": "markdown",
   "metadata": {},
   "source": [
    "Мы просим вас спрогнозировать общий объем продаж для каждого продукта и магазина в следующем месяце. Решив эту задачу, вы сможете улучшить свои навыки в области data science."
   ]
  },
  {
   "cell_type": "markdown",
   "metadata": {},
   "source": [
    "Поля данных\\\n",
    "ID - идентификатор, представляющий кортеж (Магазин, товар) в тестовом наборе\\\n",
    "shop_id - уникальный идентификатор магазина\\\n",
    "item_id - уникальный идентификатор продукта\\\n",
    "item_category_id - уникальный идентификатор категории товара\\\n",
    "item_cnt_day - количество проданных товаров. Вы прогнозируете ежемесячную сумму этого\\\n",
    "item_price - текущая цена товара\\\n",
    "date - дата в формате dd/mm/yyyy\n",
    "data_block_num - последовательный номер месяца, используемый для удобства. Январь 2013 года-0, Февраль 2013 года-1,..., Октябрь 2015 года-33\\\n",
    "item_name - название товара\\\n",
    "shop_name - название магазина\\\n",
    "item_category_name - имя категории товара"
   ]
  },
  {
   "cell_type": "code",
   "execution_count": 2,
   "metadata": {},
   "outputs": [],
   "source": [
    "import numpy as np \n",
    "import pandas as pd \n",
    "import seaborn as sns\n",
    "import matplotlib.pyplot as plt\n",
    "import warnings\n",
    "from sklearn import preprocessing\n",
    "warnings.filterwarnings('ignore')\n",
    "from pylab import rcParams\n",
    "rcParams['figure.figsize'] = 15, 12\n",
    "from sklearn.model_selection import train_test_split\n",
    "import xgboost as xgb\n",
    "from sklearn.metrics import mean_squared_error, mean_absolute_error, r2_score\n",
    "from catboost import CatBoostRegressor\n",
    "from sklearn.ensemble import RandomForestRegressor, GradientBoostingRegressor"
   ]
  },
  {
   "cell_type": "markdown",
   "metadata": {},
   "source": [
    "# 1 Подготовительный этап"
   ]
  },
  {
   "cell_type": "markdown",
   "metadata": {},
   "source": [
    "## Чтение данных"
   ]
  },
  {
   "cell_type": "markdown",
   "metadata": {},
   "source": [
    "sales_train.csv - обучающий набор. Ежедневные исторические данные с января 2013 года по октябрь 2015 года. \\\n",
    "test.csv - набор тестов. Вам необходимо спрогнозировать продажи этих магазинов и продуктов на ноябрь 2015 года.\\\n",
    "items.csv - дополнительная информация о товарах / продуктах.\\\n",
    "item_categories.csv - дополнительная информация о категориях элементов.\\\n",
    "shops.csv - дополнительная информация о магазинах."
   ]
  },
  {
   "cell_type": "code",
   "execution_count": 3,
   "metadata": {},
   "outputs": [],
   "source": [
    "items  = pd.read_csv('data/items.csv')\n",
    "train = pd.read_csv('data/sales_train.csv')\n",
    "test = pd.read_csv('data/test.csv')\n",
    "item_category = pd.read_csv('data/item_categories.csv')\n",
    "shops = pd.read_csv('data/shops.csv')"
   ]
  },
  {
   "cell_type": "markdown",
   "metadata": {},
   "source": [
    "## Вспомогательные функции"
   ]
  },
  {
   "cell_type": "markdown",
   "metadata": {},
   "source": [
    "Функция для анализа содержимого в dataframe"
   ]
  },
  {
   "cell_type": "code",
   "execution_count": 4,
   "metadata": {},
   "outputs": [],
   "source": [
    "def show_data_info(data):\n",
    "    print(\"-----------------Первые 7 записей----------------------\")\n",
    "    print(data.head(7))\n",
    "    print(\"--------------------Информация-------------------------\")\n",
    "    print(data.info())\n",
    "    print(\"-------------------Типы данных-------------------------\")\n",
    "    print(data.dtypes)\n",
    "    print(\"--------------------Пропуски---------------------------\")\n",
    "    print(data.isnull().sum())\n",
    "    print(\"-----------------Значнеия NULL-------------------------\")\n",
    "    print(data.isna().sum())\n",
    "    print(\"----------------Форма данных---------------------------\")\n",
    "    print(data.shape)"
   ]
  },
  {
   "cell_type": "markdown",
   "metadata": {},
   "source": [
    "Функция для удаления повторов"
   ]
  },
  {
   "cell_type": "code",
   "execution_count": 5,
   "metadata": {},
   "outputs": [],
   "source": [
    "def delete_duplicate(data, subset):\n",
    "    print('До удаления:', data.shape)\n",
    "    before = data.shape[0]\n",
    "    data.drop_duplicates(subset,keep='first', inplace=True)\n",
    "    data.reset_index(drop=True, inplace=True)\n",
    "    print('После удаления:', data.shape)\n",
    "    after = data.shape[0]\n",
    "    print('Удалено:', before-after)"
   ]
  },
  {
   "cell_type": "markdown",
   "metadata": {},
   "source": [
    " Функция для вывода на экран метрик модели"
   ]
  },
  {
   "cell_type": "code",
   "execution_count": 6,
   "metadata": {},
   "outputs": [],
   "source": [
    "def show_metrics(y_real, y_predicted):\n",
    "    print(f'MSE: {mean_squared_error(y_real, y_predicted)}')\n",
    "    print(f'RMSE: {mean_squared_error(y_real, y_predicted, squared=False)}')\n",
    "    print(f'MAE: {mean_absolute_error(y_real, y_predicted)}')\n",
    "    print(f'Коэффициент детерминации: {r2_score(y_real, y_predicted)}')"
   ]
  },
  {
   "cell_type": "markdown",
   "metadata": {},
   "source": [
    "Функция для вывода на экран визуализации качества модели"
   ]
  },
  {
   "cell_type": "code",
   "execution_count": 7,
   "metadata": {},
   "outputs": [],
   "source": [
    "def plot_model_results(model_name, y_real, y_predicted):\n",
    "    x_ax = range(len(y_predicted[:1000]))\n",
    "    plt.plot(x_ax, y_real[:1000], label=\"Реальное значение\")\n",
    "    plt.plot(x_ax,y_predicted[:1000], label=\"Предсказанное значение\")\n",
    "\n",
    "    plt.title(model_name)\n",
    "    plt.ylabel('Количество проданных товаров')\n",
    "    plt.xlabel('Объекты')\n",
    "    plt.legend()\n",
    "    plt.show()"
   ]
  },
  {
   "cell_type": "markdown",
   "metadata": {},
   "source": [
    "# 2. Анализ данных"
   ]
  },
  {
   "cell_type": "markdown",
   "metadata": {},
   "source": [
    "## 2.1 Sales Train Data"
   ]
  },
  {
   "cell_type": "code",
   "execution_count": 8,
   "metadata": {
    "scrolled": true
   },
   "outputs": [
    {
     "name": "stdout",
     "output_type": "stream",
     "text": [
      "-----------------Первые 7 записей----------------------\n",
      "         date  date_block_num  shop_id  item_id  item_price  item_cnt_day\n",
      "0  02.01.2013               0       59    22154      999.00           1.0\n",
      "1  03.01.2013               0       25     2552      899.00           1.0\n",
      "2  05.01.2013               0       25     2552      899.00          -1.0\n",
      "3  06.01.2013               0       25     2554     1709.05           1.0\n",
      "4  15.01.2013               0       25     2555     1099.00           1.0\n",
      "5  10.01.2013               0       25     2564      349.00           1.0\n",
      "6  02.01.2013               0       25     2565      549.00           1.0\n",
      "--------------------Информация-------------------------\n",
      "<class 'pandas.core.frame.DataFrame'>\n",
      "RangeIndex: 2935849 entries, 0 to 2935848\n",
      "Data columns (total 6 columns):\n",
      " #   Column          Dtype  \n",
      "---  ------          -----  \n",
      " 0   date            object \n",
      " 1   date_block_num  int64  \n",
      " 2   shop_id         int64  \n",
      " 3   item_id         int64  \n",
      " 4   item_price      float64\n",
      " 5   item_cnt_day    float64\n",
      "dtypes: float64(2), int64(3), object(1)\n",
      "memory usage: 134.4+ MB\n",
      "None\n",
      "-------------------Типы данных-------------------------\n",
      "date               object\n",
      "date_block_num      int64\n",
      "shop_id             int64\n",
      "item_id             int64\n",
      "item_price        float64\n",
      "item_cnt_day      float64\n",
      "dtype: object\n",
      "--------------------Пропуски---------------------------\n",
      "date              0\n",
      "date_block_num    0\n",
      "shop_id           0\n",
      "item_id           0\n",
      "item_price        0\n",
      "item_cnt_day      0\n",
      "dtype: int64\n",
      "-----------------Значнеия NULL-------------------------\n",
      "date              0\n",
      "date_block_num    0\n",
      "shop_id           0\n",
      "item_id           0\n",
      "item_price        0\n",
      "item_cnt_day      0\n",
      "dtype: int64\n",
      "----------------Форма данных---------------------------\n",
      "(2935849, 6)\n"
     ]
    }
   ],
   "source": [
    "show_data_info(train)"
   ]
  },
  {
   "cell_type": "markdown",
   "metadata": {},
   "source": [
    "## 2.2 Test Data"
   ]
  },
  {
   "cell_type": "code",
   "execution_count": 9,
   "metadata": {
    "scrolled": true
   },
   "outputs": [
    {
     "name": "stdout",
     "output_type": "stream",
     "text": [
      "-----------------Первые 7 записей----------------------\n",
      "   ID  shop_id  item_id\n",
      "0   0        5     5037\n",
      "1   1        5     5320\n",
      "2   2        5     5233\n",
      "3   3        5     5232\n",
      "4   4        5     5268\n",
      "5   5        5     5039\n",
      "6   6        5     5041\n",
      "--------------------Информация-------------------------\n",
      "<class 'pandas.core.frame.DataFrame'>\n",
      "RangeIndex: 214200 entries, 0 to 214199\n",
      "Data columns (total 3 columns):\n",
      " #   Column   Non-Null Count   Dtype\n",
      "---  ------   --------------   -----\n",
      " 0   ID       214200 non-null  int64\n",
      " 1   shop_id  214200 non-null  int64\n",
      " 2   item_id  214200 non-null  int64\n",
      "dtypes: int64(3)\n",
      "memory usage: 4.9 MB\n",
      "None\n",
      "-------------------Типы данных-------------------------\n",
      "ID         int64\n",
      "shop_id    int64\n",
      "item_id    int64\n",
      "dtype: object\n",
      "--------------------Пропуски---------------------------\n",
      "ID         0\n",
      "shop_id    0\n",
      "item_id    0\n",
      "dtype: int64\n",
      "-----------------Значнеия NULL-------------------------\n",
      "ID         0\n",
      "shop_id    0\n",
      "item_id    0\n",
      "dtype: int64\n",
      "----------------Форма данных---------------------------\n",
      "(214200, 3)\n"
     ]
    }
   ],
   "source": [
    "show_data_info(test)"
   ]
  },
  {
   "cell_type": "markdown",
   "metadata": {},
   "source": [
    "## 2.3 Item"
   ]
  },
  {
   "cell_type": "code",
   "execution_count": 10,
   "metadata": {
    "scrolled": true
   },
   "outputs": [
    {
     "name": "stdout",
     "output_type": "stream",
     "text": [
      "-----------------Первые 7 записей----------------------\n",
      "                                           item_name  item_id  \\\n",
      "0          ! ВО ВЛАСТИ НАВАЖДЕНИЯ (ПЛАСТ.)         D        0   \n",
      "1  !ABBYY FineReader 12 Professional Edition Full...        1   \n",
      "2      ***В ЛУЧАХ СЛАВЫ   (UNV)                    D        2   \n",
      "3    ***ГОЛУБАЯ ВОЛНА  (Univ)                      D        3   \n",
      "4        ***КОРОБКА (СТЕКЛО)                       D        4   \n",
      "5  ***НОВЫЕ АМЕРИКАНСКИЕ ГРАФФИТИ  (UNI)         ...        5   \n",
      "6           ***УДАР ПО ВОРОТАМ (UNI)               D        6   \n",
      "\n",
      "   item_category_id  \n",
      "0                40  \n",
      "1                76  \n",
      "2                40  \n",
      "3                40  \n",
      "4                40  \n",
      "5                40  \n",
      "6                40  \n",
      "--------------------Информация-------------------------\n",
      "<class 'pandas.core.frame.DataFrame'>\n",
      "RangeIndex: 22170 entries, 0 to 22169\n",
      "Data columns (total 3 columns):\n",
      " #   Column            Non-Null Count  Dtype \n",
      "---  ------            --------------  ----- \n",
      " 0   item_name         22170 non-null  object\n",
      " 1   item_id           22170 non-null  int64 \n",
      " 2   item_category_id  22170 non-null  int64 \n",
      "dtypes: int64(2), object(1)\n",
      "memory usage: 519.7+ KB\n",
      "None\n",
      "-------------------Типы данных-------------------------\n",
      "item_name           object\n",
      "item_id              int64\n",
      "item_category_id     int64\n",
      "dtype: object\n",
      "--------------------Пропуски---------------------------\n",
      "item_name           0\n",
      "item_id             0\n",
      "item_category_id    0\n",
      "dtype: int64\n",
      "-----------------Значнеия NULL-------------------------\n",
      "item_name           0\n",
      "item_id             0\n",
      "item_category_id    0\n",
      "dtype: int64\n",
      "----------------Форма данных---------------------------\n",
      "(22170, 3)\n"
     ]
    }
   ],
   "source": [
    "show_data_info(items)"
   ]
  },
  {
   "cell_type": "markdown",
   "metadata": {},
   "source": [
    "## 2.4 Item Category"
   ]
  },
  {
   "cell_type": "code",
   "execution_count": 11,
   "metadata": {
    "scrolled": true
   },
   "outputs": [
    {
     "name": "stdout",
     "output_type": "stream",
     "text": [
      "-----------------Первые 7 записей----------------------\n",
      "        item_category_name  item_category_id\n",
      "0  PC - Гарнитуры/Наушники                 0\n",
      "1         Аксессуары - PS2                 1\n",
      "2         Аксессуары - PS3                 2\n",
      "3         Аксессуары - PS4                 3\n",
      "4         Аксессуары - PSP                 4\n",
      "5      Аксессуары - PSVita                 5\n",
      "6    Аксессуары - XBOX 360                 6\n",
      "--------------------Информация-------------------------\n",
      "<class 'pandas.core.frame.DataFrame'>\n",
      "RangeIndex: 84 entries, 0 to 83\n",
      "Data columns (total 2 columns):\n",
      " #   Column              Non-Null Count  Dtype \n",
      "---  ------              --------------  ----- \n",
      " 0   item_category_name  84 non-null     object\n",
      " 1   item_category_id    84 non-null     int64 \n",
      "dtypes: int64(1), object(1)\n",
      "memory usage: 1.4+ KB\n",
      "None\n",
      "-------------------Типы данных-------------------------\n",
      "item_category_name    object\n",
      "item_category_id       int64\n",
      "dtype: object\n",
      "--------------------Пропуски---------------------------\n",
      "item_category_name    0\n",
      "item_category_id      0\n",
      "dtype: int64\n",
      "-----------------Значнеия NULL-------------------------\n",
      "item_category_name    0\n",
      "item_category_id      0\n",
      "dtype: int64\n",
      "----------------Форма данных---------------------------\n",
      "(84, 2)\n"
     ]
    }
   ],
   "source": [
    "show_data_info(item_category)"
   ]
  },
  {
   "cell_type": "markdown",
   "metadata": {},
   "source": [
    "## 2.5 Shops"
   ]
  },
  {
   "cell_type": "code",
   "execution_count": 12,
   "metadata": {
    "scrolled": true
   },
   "outputs": [
    {
     "name": "stdout",
     "output_type": "stream",
     "text": [
      "-----------------Первые 7 записей----------------------\n",
      "                        shop_name  shop_id\n",
      "0   !Якутск Орджоникидзе, 56 фран        0\n",
      "1   !Якутск ТЦ \"Центральный\" фран        1\n",
      "2                Адыгея ТЦ \"Мега\"        2\n",
      "3  Балашиха ТРК \"Октябрь-Киномир\"        3\n",
      "4        Волжский ТЦ \"Волга Молл\"        4\n",
      "5          Вологда ТРЦ \"Мармелад\"        5\n",
      "6      Воронеж (Плехановская, 13)        6\n",
      "--------------------Информация-------------------------\n",
      "<class 'pandas.core.frame.DataFrame'>\n",
      "RangeIndex: 60 entries, 0 to 59\n",
      "Data columns (total 2 columns):\n",
      " #   Column     Non-Null Count  Dtype \n",
      "---  ------     --------------  ----- \n",
      " 0   shop_name  60 non-null     object\n",
      " 1   shop_id    60 non-null     int64 \n",
      "dtypes: int64(1), object(1)\n",
      "memory usage: 1.1+ KB\n",
      "None\n",
      "-------------------Типы данных-------------------------\n",
      "shop_name    object\n",
      "shop_id       int64\n",
      "dtype: object\n",
      "--------------------Пропуски---------------------------\n",
      "shop_name    0\n",
      "shop_id      0\n",
      "dtype: int64\n",
      "-----------------Значнеия NULL-------------------------\n",
      "shop_name    0\n",
      "shop_id      0\n",
      "dtype: int64\n",
      "----------------Форма данных---------------------------\n",
      "(60, 2)\n"
     ]
    }
   ],
   "source": [
    "show_data_info(shops)"
   ]
  },
  {
   "cell_type": "markdown",
   "metadata": {},
   "source": [
    " Изучим продажу товаров в каждом из магазинов"
   ]
  },
  {
   "cell_type": "code",
   "execution_count": 13,
   "metadata": {
    "scrolled": true
   },
   "outputs": [
    {
     "data": {
      "image/png": "[encoded data removed]",
      "text/plain": [
       "<Figure size 1080x864 with 1 Axes>"
      ]
     },
     "metadata": {},
     "output_type": "display_data"
    }
   ],
   "source": [
    "train[\"shop_id\"].value_counts().plot(kind='pie')\n",
    "plt.title('Распределение по магазинам');"
   ]
  },
  {
   "cell_type": "markdown",
   "metadata": {},
   "source": [
    "# 3. Удаление аномалий"
   ]
  },
  {
   "cell_type": "markdown",
   "metadata": {},
   "source": [
    "Из выше сказанного видно, что в дата сете отсутвуют пустые значения"
   ]
  },
  {
   "cell_type": "code",
   "execution_count": 14,
   "metadata": {
    "scrolled": false
   },
   "outputs": [
    {
     "data": {
      "text/html": [
       "<div>\n",
       "<style scoped>\n",
       "    .dataframe tbody tr th:only-of-type {\n",
       "        vertical-align: middle;\n",
       "    }\n",
       "\n",
       "    .dataframe tbody tr th {\n",
       "        vertical-align: top;\n",
       "    }\n",
       "\n",
       "    .dataframe thead th {\n",
       "        text-align: right;\n",
       "    }\n",
       "</style>\n",
       "<table border=\"1\" class=\"dataframe\">\n",
       "  <thead>\n",
       "    <tr style=\"text-align: right;\">\n",
       "      <th></th>\n",
       "      <th>count</th>\n",
       "      <th>mean</th>\n",
       "      <th>std</th>\n",
       "      <th>min</th>\n",
       "      <th>25%</th>\n",
       "      <th>50%</th>\n",
       "      <th>75%</th>\n",
       "      <th>max</th>\n",
       "    </tr>\n",
       "  </thead>\n",
       "  <tbody>\n",
       "    <tr>\n",
       "      <th>date_block_num</th>\n",
       "      <td>2935849.0</td>\n",
       "      <td>14.569911</td>\n",
       "      <td>9.422988</td>\n",
       "      <td>0.0</td>\n",
       "      <td>7.0</td>\n",
       "      <td>14.0</td>\n",
       "      <td>23.0</td>\n",
       "      <td>33.0</td>\n",
       "    </tr>\n",
       "    <tr>\n",
       "      <th>shop_id</th>\n",
       "      <td>2935849.0</td>\n",
       "      <td>33.001728</td>\n",
       "      <td>16.226973</td>\n",
       "      <td>0.0</td>\n",
       "      <td>22.0</td>\n",
       "      <td>31.0</td>\n",
       "      <td>47.0</td>\n",
       "      <td>59.0</td>\n",
       "    </tr>\n",
       "    <tr>\n",
       "      <th>item_id</th>\n",
       "      <td>2935849.0</td>\n",
       "      <td>10197.227057</td>\n",
       "      <td>6324.297354</td>\n",
       "      <td>0.0</td>\n",
       "      <td>4476.0</td>\n",
       "      <td>9343.0</td>\n",
       "      <td>15684.0</td>\n",
       "      <td>22169.0</td>\n",
       "    </tr>\n",
       "    <tr>\n",
       "      <th>item_price</th>\n",
       "      <td>2935849.0</td>\n",
       "      <td>890.853233</td>\n",
       "      <td>1729.799631</td>\n",
       "      <td>-1.0</td>\n",
       "      <td>249.0</td>\n",
       "      <td>399.0</td>\n",
       "      <td>999.0</td>\n",
       "      <td>307980.0</td>\n",
       "    </tr>\n",
       "    <tr>\n",
       "      <th>item_cnt_day</th>\n",
       "      <td>2935849.0</td>\n",
       "      <td>1.242641</td>\n",
       "      <td>2.618834</td>\n",
       "      <td>-22.0</td>\n",
       "      <td>1.0</td>\n",
       "      <td>1.0</td>\n",
       "      <td>1.0</td>\n",
       "      <td>2169.0</td>\n",
       "    </tr>\n",
       "  </tbody>\n",
       "</table>\n",
       "</div>"
      ],
      "text/plain": [
       "                    count          mean          std   min     25%     50%  \\\n",
       "date_block_num  2935849.0     14.569911     9.422988   0.0     7.0    14.0   \n",
       "shop_id         2935849.0     33.001728    16.226973   0.0    22.0    31.0   \n",
       "item_id         2935849.0  10197.227057  6324.297354   0.0  4476.0  9343.0   \n",
       "item_price      2935849.0    890.853233  1729.799631  -1.0   249.0   399.0   \n",
       "item_cnt_day    2935849.0      1.242641     2.618834 -22.0     1.0     1.0   \n",
       "\n",
       "                    75%       max  \n",
       "date_block_num     23.0      33.0  \n",
       "shop_id            47.0      59.0  \n",
       "item_id         15684.0   22169.0  \n",
       "item_price        999.0  307980.0  \n",
       "item_cnt_day        1.0    2169.0  "
      ]
     },
     "execution_count": 14,
     "metadata": {},
     "output_type": "execute_result"
    }
   ],
   "source": [
    "train.describe().T"
   ]
  },
  {
   "cell_type": "code",
   "execution_count": 15,
   "metadata": {
    "scrolled": false
   },
   "outputs": [
    {
     "data": {
      "image/png": "[encoded data removed]",
      "text/plain": [
       "<Figure size 1080x864 with 1 Axes>"
      ]
     },
     "metadata": {
      "needs_background": "light"
     },
     "output_type": "display_data"
    }
   ],
   "source": [
    " sns.boxplot(train[\"item_price\"]);"
   ]
  },
  {
   "cell_type": "markdown",
   "metadata": {},
   "source": [
    "Удалим повторы"
   ]
  },
  {
   "cell_type": "code",
   "execution_count": 16,
   "metadata": {},
   "outputs": [
    {
     "name": "stdout",
     "output_type": "stream",
     "text": [
      "До удаления: (2935849, 6)\n",
      "После удаления: (2935825, 6)\n",
      "Удалено: 24\n"
     ]
    }
   ],
   "source": [
    "subset = ['date', 'date_block_num', 'shop_id', 'item_id','item_cnt_day']\n",
    "delete_duplicate(train, subset = subset)"
   ]
  },
  {
   "cell_type": "markdown",
   "metadata": {},
   "source": [
    "Удалим аномалии."
   ]
  },
  {
   "cell_type": "code",
   "execution_count": 17,
   "metadata": {},
   "outputs": [
    {
     "name": "stdout",
     "output_type": "stream",
     "text": [
      "До удаления аномалий: (2935825, 6)\n"
     ]
    }
   ],
   "source": [
    "quantile_down = train[\"item_price\"].quantile(0.0001)\n",
    "quantile_up = train[\"item_price\"].quantile(0.9999)\n",
    "print('До удаления аномалий:',train.shape)"
   ]
  },
  {
   "cell_type": "code",
   "execution_count": 18,
   "metadata": {},
   "outputs": [
    {
     "data": {
      "image/png": "[encoded data removed]",
      "text/plain": [
       "<Figure size 1080x864 with 1 Axes>"
      ]
     },
     "metadata": {
      "needs_background": "light"
     },
     "output_type": "display_data"
    }
   ],
   "source": [
    "sns.histplot(train[\"item_price\"], bins=100);\n",
    "plt.title(\"Распределение цен до удаления аномалий\");"
   ]
  },
  {
   "cell_type": "code",
   "execution_count": 19,
   "metadata": {},
   "outputs": [],
   "source": [
    "train = train[(quantile_down < train[\"item_price\"]) & (quantile_up > train[\"item_price\"])]"
   ]
  },
  {
   "cell_type": "code",
   "execution_count": 20,
   "metadata": {},
   "outputs": [
    {
     "data": {
      "image/png": "[encoded data removed]",
      "text/plain": [
       "<Figure size 1080x864 with 1 Axes>"
      ]
     },
     "metadata": {
      "needs_background": "light"
     },
     "output_type": "display_data"
    }
   ],
   "source": [
    "sns.histplot(train[\"item_price\"], bins=100);\n",
    "plt.title(\"Распределение цен после удаления аномалий\");"
   ]
  },
  {
   "cell_type": "code",
   "execution_count": 21,
   "metadata": {},
   "outputs": [
    {
     "name": "stdout",
     "output_type": "stream",
     "text": [
      "Размер после удаления аномалий: (2932444, 6)\n"
     ]
    }
   ],
   "source": [
    "print('Размер после удаления аномалий:',train.shape)"
   ]
  },
  {
   "cell_type": "code",
   "execution_count": 22,
   "metadata": {},
   "outputs": [
    {
     "data": {
      "text/html": [
       "<div>\n",
       "<style scoped>\n",
       "    .dataframe tbody tr th:only-of-type {\n",
       "        vertical-align: middle;\n",
       "    }\n",
       "\n",
       "    .dataframe tbody tr th {\n",
       "        vertical-align: top;\n",
       "    }\n",
       "\n",
       "    .dataframe thead th {\n",
       "        text-align: right;\n",
       "    }\n",
       "</style>\n",
       "<table border=\"1\" class=\"dataframe\">\n",
       "  <thead>\n",
       "    <tr style=\"text-align: right;\">\n",
       "      <th></th>\n",
       "      <th>count</th>\n",
       "      <th>mean</th>\n",
       "      <th>std</th>\n",
       "      <th>min</th>\n",
       "      <th>25%</th>\n",
       "      <th>50%</th>\n",
       "      <th>75%</th>\n",
       "      <th>max</th>\n",
       "    </tr>\n",
       "  </thead>\n",
       "  <tbody>\n",
       "    <tr>\n",
       "      <th>date_block_num</th>\n",
       "      <td>2932444.0</td>\n",
       "      <td>14.576620</td>\n",
       "      <td>9.422087</td>\n",
       "      <td>0.0</td>\n",
       "      <td>7.0</td>\n",
       "      <td>14.0</td>\n",
       "      <td>23.0</td>\n",
       "      <td>33.0</td>\n",
       "    </tr>\n",
       "    <tr>\n",
       "      <th>shop_id</th>\n",
       "      <td>2932444.0</td>\n",
       "      <td>33.002187</td>\n",
       "      <td>16.226068</td>\n",
       "      <td>0.0</td>\n",
       "      <td>22.0</td>\n",
       "      <td>31.0</td>\n",
       "      <td>47.0</td>\n",
       "      <td>59.0</td>\n",
       "    </tr>\n",
       "    <tr>\n",
       "      <th>item_id</th>\n",
       "      <td>2932444.0</td>\n",
       "      <td>10193.631587</td>\n",
       "      <td>6325.854378</td>\n",
       "      <td>0.0</td>\n",
       "      <td>4474.0</td>\n",
       "      <td>9305.0</td>\n",
       "      <td>15687.0</td>\n",
       "      <td>22169.0</td>\n",
       "    </tr>\n",
       "    <tr>\n",
       "      <th>item_price</th>\n",
       "      <td>2932444.0</td>\n",
       "      <td>886.987527</td>\n",
       "      <td>1678.660993</td>\n",
       "      <td>0.2</td>\n",
       "      <td>249.0</td>\n",
       "      <td>399.0</td>\n",
       "      <td>999.0</td>\n",
       "      <td>29989.5</td>\n",
       "    </tr>\n",
       "    <tr>\n",
       "      <th>item_cnt_day</th>\n",
       "      <td>2932444.0</td>\n",
       "      <td>1.242569</td>\n",
       "      <td>2.620192</td>\n",
       "      <td>-22.0</td>\n",
       "      <td>1.0</td>\n",
       "      <td>1.0</td>\n",
       "      <td>1.0</td>\n",
       "      <td>2169.0</td>\n",
       "    </tr>\n",
       "  </tbody>\n",
       "</table>\n",
       "</div>"
      ],
      "text/plain": [
       "                    count          mean          std   min     25%     50%  \\\n",
       "date_block_num  2932444.0     14.576620     9.422087   0.0     7.0    14.0   \n",
       "shop_id         2932444.0     33.002187    16.226068   0.0    22.0    31.0   \n",
       "item_id         2932444.0  10193.631587  6325.854378   0.0  4474.0  9305.0   \n",
       "item_price      2932444.0    886.987527  1678.660993   0.2   249.0   399.0   \n",
       "item_cnt_day    2932444.0      1.242569     2.620192 -22.0     1.0     1.0   \n",
       "\n",
       "                    75%      max  \n",
       "date_block_num     23.0     33.0  \n",
       "shop_id            47.0     59.0  \n",
       "item_id         15687.0  22169.0  \n",
       "item_price        999.0  29989.5  \n",
       "item_cnt_day        1.0   2169.0  "
      ]
     },
     "execution_count": 22,
     "metadata": {},
     "output_type": "execute_result"
    }
   ],
   "source": [
    "train.describe().T"
   ]
  },
  {
   "cell_type": "markdown",
   "metadata": {},
   "source": [
    "Изучим взаимную корреляцию признаков"
   ]
  },
  {
   "cell_type": "code",
   "execution_count": 23,
   "metadata": {
    "scrolled": false
   },
   "outputs": [
    {
     "data": {
      "text/html": [
       "<div>\n",
       "<style scoped>\n",
       "    .dataframe tbody tr th:only-of-type {\n",
       "        vertical-align: middle;\n",
       "    }\n",
       "\n",
       "    .dataframe tbody tr th {\n",
       "        vertical-align: top;\n",
       "    }\n",
       "\n",
       "    .dataframe thead th {\n",
       "        text-align: right;\n",
       "    }\n",
       "</style>\n",
       "<table border=\"1\" class=\"dataframe\">\n",
       "  <thead>\n",
       "    <tr style=\"text-align: right;\">\n",
       "      <th></th>\n",
       "      <th>date_block_num</th>\n",
       "      <th>shop_id</th>\n",
       "      <th>item_id</th>\n",
       "      <th>item_price</th>\n",
       "      <th>item_cnt_day</th>\n",
       "    </tr>\n",
       "  </thead>\n",
       "  <tbody>\n",
       "    <tr>\n",
       "      <th>date_block_num</th>\n",
       "      <td>1.000000</td>\n",
       "      <td>0.019351</td>\n",
       "      <td>0.009885</td>\n",
       "      <td>0.093115</td>\n",
       "      <td>0.009453</td>\n",
       "    </tr>\n",
       "    <tr>\n",
       "      <th>shop_id</th>\n",
       "      <td>0.019351</td>\n",
       "      <td>1.000000</td>\n",
       "      <td>0.029413</td>\n",
       "      <td>-0.024062</td>\n",
       "      <td>-0.005251</td>\n",
       "    </tr>\n",
       "    <tr>\n",
       "      <th>item_id</th>\n",
       "      <td>0.009885</td>\n",
       "      <td>0.029413</td>\n",
       "      <td>1.000000</td>\n",
       "      <td>-0.138121</td>\n",
       "      <td>0.016622</td>\n",
       "    </tr>\n",
       "    <tr>\n",
       "      <th>item_price</th>\n",
       "      <td>0.093115</td>\n",
       "      <td>-0.024062</td>\n",
       "      <td>-0.138121</td>\n",
       "      <td>1.000000</td>\n",
       "      <td>0.011668</td>\n",
       "    </tr>\n",
       "    <tr>\n",
       "      <th>item_cnt_day</th>\n",
       "      <td>0.009453</td>\n",
       "      <td>-0.005251</td>\n",
       "      <td>0.016622</td>\n",
       "      <td>0.011668</td>\n",
       "      <td>1.000000</td>\n",
       "    </tr>\n",
       "  </tbody>\n",
       "</table>\n",
       "</div>"
      ],
      "text/plain": [
       "                date_block_num   shop_id   item_id  item_price  item_cnt_day\n",
       "date_block_num        1.000000  0.019351  0.009885    0.093115      0.009453\n",
       "shop_id               0.019351  1.000000  0.029413   -0.024062     -0.005251\n",
       "item_id               0.009885  0.029413  1.000000   -0.138121      0.016622\n",
       "item_price            0.093115 -0.024062 -0.138121    1.000000      0.011668\n",
       "item_cnt_day          0.009453 -0.005251  0.016622    0.011668      1.000000"
      ]
     },
     "execution_count": 23,
     "metadata": {},
     "output_type": "execute_result"
    }
   ],
   "source": [
    "train.corr()"
   ]
  },
  {
   "cell_type": "markdown",
   "metadata": {},
   "source": [
    "Сильных зависимостей нет"
   ]
  },
  {
   "cell_type": "markdown",
   "metadata": {},
   "source": [
    "# 3. Количество продаж в месяц"
   ]
  },
  {
   "cell_type": "markdown",
   "metadata": {},
   "source": [
    "Покажим сумму продаж в каждом месяце"
   ]
  },
  {
   "cell_type": "code",
   "execution_count": 24,
   "metadata": {
    "scrolled": false
   },
   "outputs": [
    {
     "name": "stdout",
     "output_type": "stream",
     "text": [
      "date_block_num\n",
      "0     131475.0\n",
      "1     128088.0\n",
      "2     147139.0\n",
      "3     107189.0\n",
      "4     106969.0\n",
      "5     123075.0\n",
      "6     116018.0\n",
      "7     124640.0\n",
      "8     133329.0\n",
      "9     127540.0\n",
      "10    130008.0\n",
      "11    183340.0\n",
      "12    116899.0\n",
      "13    109685.0\n",
      "14    115293.0\n",
      "15     96555.0\n",
      "16     97788.0\n",
      "17     97429.0\n",
      "18     91278.0\n",
      "19    102719.0\n",
      "20     99207.0\n",
      "21    107422.0\n",
      "22    117843.0\n",
      "23    168751.0\n",
      "24    110918.0\n",
      "25     84142.0\n",
      "26     81991.0\n",
      "27     77821.0\n",
      "28     72294.0\n",
      "29     64104.0\n",
      "30     63137.0\n",
      "31     66005.0\n",
      "32     72730.0\n",
      "33     70943.0\n",
      "Name: item_cnt_day, dtype: float64\n"
     ]
    }
   ],
   "source": [
    "print(train.groupby('date_block_num').sum()['item_cnt_day'])"
   ]
  },
  {
   "cell_type": "markdown",
   "metadata": {},
   "source": [
    "Покажем сумму продаж в месяц в виде гистраграммы "
   ]
  },
  {
   "cell_type": "code",
   "execution_count": 25,
   "metadata": {},
   "outputs": [
    {
     "data": {
      "text/plain": [
       "Text(0.5, 0, 'Цена')"
      ]
     },
     "execution_count": 25,
     "metadata": {},
     "output_type": "execute_result"
    },
    {
     "data": {
      "image/png": "[encoded data removed]",
      "text/plain": [
       "<Figure size 1440x360 with 1 Axes>"
      ]
     },
     "metadata": {
      "needs_background": "light"
     },
     "output_type": "display_data"
    }
   ],
   "source": [
    "train.groupby('date_block_num').sum()['item_cnt_day'].hist(figsize = (20,5))\n",
    "plt.title('Гистограмма количества продаж в месяц')\n",
    "plt.xlabel('Цена')"
   ]
  },
  {
   "cell_type": "markdown",
   "metadata": {},
   "source": [
    "# 4. Сопоставьте элементов"
   ]
  },
  {
   "cell_type": "code",
   "execution_count": 26,
   "metadata": {},
   "outputs": [
    {
     "data": {
      "text/html": [
       "<div>\n",
       "<style scoped>\n",
       "    .dataframe tbody tr th:only-of-type {\n",
       "        vertical-align: middle;\n",
       "    }\n",
       "\n",
       "    .dataframe tbody tr th {\n",
       "        vertical-align: top;\n",
       "    }\n",
       "\n",
       "    .dataframe thead th {\n",
       "        text-align: right;\n",
       "    }\n",
       "</style>\n",
       "<table border=\"1\" class=\"dataframe\">\n",
       "  <thead>\n",
       "    <tr style=\"text-align: right;\">\n",
       "      <th></th>\n",
       "      <th>item_category_name</th>\n",
       "      <th>item_category_id</th>\n",
       "      <th>category</th>\n",
       "    </tr>\n",
       "  </thead>\n",
       "  <tbody>\n",
       "    <tr>\n",
       "      <th>0</th>\n",
       "      <td>PC - Гарнитуры/Наушники</td>\n",
       "      <td>0</td>\n",
       "      <td>PC - Гарнитуры/Наушники</td>\n",
       "    </tr>\n",
       "    <tr>\n",
       "      <th>1</th>\n",
       "      <td>Аксессуары - PS2</td>\n",
       "      <td>1</td>\n",
       "      <td>Аксессуары</td>\n",
       "    </tr>\n",
       "    <tr>\n",
       "      <th>2</th>\n",
       "      <td>Аксессуары - PS3</td>\n",
       "      <td>2</td>\n",
       "      <td>Аксессуары</td>\n",
       "    </tr>\n",
       "    <tr>\n",
       "      <th>3</th>\n",
       "      <td>Аксессуары - PS4</td>\n",
       "      <td>3</td>\n",
       "      <td>Аксессуары</td>\n",
       "    </tr>\n",
       "    <tr>\n",
       "      <th>4</th>\n",
       "      <td>Аксессуары - PSP</td>\n",
       "      <td>4</td>\n",
       "      <td>Аксессуары</td>\n",
       "    </tr>\n",
       "  </tbody>\n",
       "</table>\n",
       "</div>"
      ],
      "text/plain": [
       "        item_category_name  item_category_id                 category\n",
       "0  PC - Гарнитуры/Наушники                 0  PC - Гарнитуры/Наушники\n",
       "1         Аксессуары - PS2                 1              Аксессуары \n",
       "2         Аксессуары - PS3                 2              Аксессуары \n",
       "3         Аксессуары - PS4                 3              Аксессуары \n",
       "4         Аксессуары - PSP                 4              Аксессуары "
      ]
     },
     "execution_count": 26,
     "metadata": {},
     "output_type": "execute_result"
    }
   ],
   "source": [
    "category_list = list(item_category.item_category_name)\n",
    "\n",
    "for i in range(1,8):\n",
    "    category_list[i] = 'Аксессуары '\n",
    "\n",
    "for i in range(10,18):\n",
    "    category_list[i] = 'Консоли'\n",
    "\n",
    "for i in range(18,25):\n",
    "    category_list[i] = 'Игры для консолей'\n",
    "\n",
    "for i in range(26,28):\n",
    "    category_list[i] = 'Мобильные игры'\n",
    "\n",
    "for i in range(28,32):\n",
    "    category_list[i] = 'CD игры'\n",
    "\n",
    "for i in range(32,37):\n",
    "    category_list[i] = 'Карточки'\n",
    "\n",
    "for i in range(37,43):\n",
    "    category_list[i] = 'Кино'\n",
    "\n",
    "for i in range(43,55):\n",
    "    category_list[i] = 'Книги'\n",
    "\n",
    "for i in range(55,61):\n",
    "    category_list[i] = 'Музыка'\n",
    "\n",
    "for i in range(61,73):\n",
    "    category_list[i] = 'Подарки'\n",
    "\n",
    "for ind in range(73,79):\n",
    "    category_list[i] = 'ПО'\n",
    "\n",
    "\n",
    "item_category['category'] = category_list\n",
    "item_category.head()"
   ]
  },
  {
   "cell_type": "markdown",
   "metadata": {},
   "source": [
    "# 5. Преобразование типов данных "
   ]
  },
  {
   "cell_type": "markdown",
   "metadata": {},
   "source": [
    "Конвертируем столбец \"дата\" из типа \"object\" в тип \"дата\""
   ]
  },
  {
   "cell_type": "code",
   "execution_count": 27,
   "metadata": {
    "scrolled": true
   },
   "outputs": [
    {
     "data": {
      "text/html": [
       "<div>\n",
       "<style scoped>\n",
       "    .dataframe tbody tr th:only-of-type {\n",
       "        vertical-align: middle;\n",
       "    }\n",
       "\n",
       "    .dataframe tbody tr th {\n",
       "        vertical-align: top;\n",
       "    }\n",
       "\n",
       "    .dataframe thead th {\n",
       "        text-align: right;\n",
       "    }\n",
       "</style>\n",
       "<table border=\"1\" class=\"dataframe\">\n",
       "  <thead>\n",
       "    <tr style=\"text-align: right;\">\n",
       "      <th></th>\n",
       "      <th>date</th>\n",
       "      <th>date_block_num</th>\n",
       "      <th>shop_id</th>\n",
       "      <th>item_id</th>\n",
       "      <th>item_price</th>\n",
       "      <th>item_cnt_day</th>\n",
       "    </tr>\n",
       "  </thead>\n",
       "  <tbody>\n",
       "    <tr>\n",
       "      <th>0</th>\n",
       "      <td>2013-01-02</td>\n",
       "      <td>0</td>\n",
       "      <td>59</td>\n",
       "      <td>22154</td>\n",
       "      <td>999.00</td>\n",
       "      <td>1.0</td>\n",
       "    </tr>\n",
       "    <tr>\n",
       "      <th>1</th>\n",
       "      <td>2013-01-03</td>\n",
       "      <td>0</td>\n",
       "      <td>25</td>\n",
       "      <td>2552</td>\n",
       "      <td>899.00</td>\n",
       "      <td>1.0</td>\n",
       "    </tr>\n",
       "    <tr>\n",
       "      <th>2</th>\n",
       "      <td>2013-01-05</td>\n",
       "      <td>0</td>\n",
       "      <td>25</td>\n",
       "      <td>2552</td>\n",
       "      <td>899.00</td>\n",
       "      <td>-1.0</td>\n",
       "    </tr>\n",
       "    <tr>\n",
       "      <th>3</th>\n",
       "      <td>2013-01-06</td>\n",
       "      <td>0</td>\n",
       "      <td>25</td>\n",
       "      <td>2554</td>\n",
       "      <td>1709.05</td>\n",
       "      <td>1.0</td>\n",
       "    </tr>\n",
       "    <tr>\n",
       "      <th>4</th>\n",
       "      <td>2013-01-15</td>\n",
       "      <td>0</td>\n",
       "      <td>25</td>\n",
       "      <td>2555</td>\n",
       "      <td>1099.00</td>\n",
       "      <td>1.0</td>\n",
       "    </tr>\n",
       "  </tbody>\n",
       "</table>\n",
       "</div>"
      ],
      "text/plain": [
       "        date  date_block_num  shop_id  item_id  item_price  item_cnt_day\n",
       "0 2013-01-02               0       59    22154      999.00           1.0\n",
       "1 2013-01-03               0       25     2552      899.00           1.0\n",
       "2 2013-01-05               0       25     2552      899.00          -1.0\n",
       "3 2013-01-06               0       25     2554     1709.05           1.0\n",
       "4 2013-01-15               0       25     2555     1099.00           1.0"
      ]
     },
     "execution_count": 27,
     "metadata": {},
     "output_type": "execute_result"
    }
   ],
   "source": [
    "train['date'] = pd.to_datetime(train.date,format=\"%d.%m.%Y\")\n",
    "train.head()"
   ]
  },
  {
   "cell_type": "markdown",
   "metadata": {},
   "source": [
    "Сводка по месяцам"
   ]
  },
  {
   "cell_type": "code",
   "execution_count": 28,
   "metadata": {
    "scrolled": false
   },
   "outputs": [
    {
     "data": {
      "text/html": [
       "<div>\n",
       "<style scoped>\n",
       "    .dataframe tbody tr th:only-of-type {\n",
       "        vertical-align: middle;\n",
       "    }\n",
       "\n",
       "    .dataframe tbody tr th {\n",
       "        vertical-align: top;\n",
       "    }\n",
       "\n",
       "    .dataframe thead th {\n",
       "        text-align: right;\n",
       "    }\n",
       "</style>\n",
       "<table border=\"1\" class=\"dataframe\">\n",
       "  <thead>\n",
       "    <tr style=\"text-align: right;\">\n",
       "      <th></th>\n",
       "      <th>date_block_num</th>\n",
       "      <th>0</th>\n",
       "      <th>1</th>\n",
       "      <th>2</th>\n",
       "      <th>3</th>\n",
       "      <th>4</th>\n",
       "      <th>5</th>\n",
       "      <th>6</th>\n",
       "      <th>7</th>\n",
       "      <th>8</th>\n",
       "      <th>9</th>\n",
       "      <th>...</th>\n",
       "      <th>24</th>\n",
       "      <th>25</th>\n",
       "      <th>26</th>\n",
       "      <th>27</th>\n",
       "      <th>28</th>\n",
       "      <th>29</th>\n",
       "      <th>30</th>\n",
       "      <th>31</th>\n",
       "      <th>32</th>\n",
       "      <th>33</th>\n",
       "    </tr>\n",
       "    <tr>\n",
       "      <th>shop_id</th>\n",
       "      <th>item_id</th>\n",
       "      <th></th>\n",
       "      <th></th>\n",
       "      <th></th>\n",
       "      <th></th>\n",
       "      <th></th>\n",
       "      <th></th>\n",
       "      <th></th>\n",
       "      <th></th>\n",
       "      <th></th>\n",
       "      <th></th>\n",
       "      <th></th>\n",
       "      <th></th>\n",
       "      <th></th>\n",
       "      <th></th>\n",
       "      <th></th>\n",
       "      <th></th>\n",
       "      <th></th>\n",
       "      <th></th>\n",
       "      <th></th>\n",
       "      <th></th>\n",
       "      <th></th>\n",
       "    </tr>\n",
       "  </thead>\n",
       "  <tbody>\n",
       "    <tr>\n",
       "      <th rowspan=\"5\" valign=\"top\">0</th>\n",
       "      <th>30</th>\n",
       "      <td>0.0</td>\n",
       "      <td>31.0</td>\n",
       "      <td>0.0</td>\n",
       "      <td>0.0</td>\n",
       "      <td>0.0</td>\n",
       "      <td>0.0</td>\n",
       "      <td>0.0</td>\n",
       "      <td>0.0</td>\n",
       "      <td>0.0</td>\n",
       "      <td>0.0</td>\n",
       "      <td>...</td>\n",
       "      <td>0.0</td>\n",
       "      <td>0.0</td>\n",
       "      <td>0.0</td>\n",
       "      <td>0.0</td>\n",
       "      <td>0.0</td>\n",
       "      <td>0.0</td>\n",
       "      <td>0.0</td>\n",
       "      <td>0.0</td>\n",
       "      <td>0.0</td>\n",
       "      <td>0.0</td>\n",
       "    </tr>\n",
       "    <tr>\n",
       "      <th>31</th>\n",
       "      <td>0.0</td>\n",
       "      <td>11.0</td>\n",
       "      <td>0.0</td>\n",
       "      <td>0.0</td>\n",
       "      <td>0.0</td>\n",
       "      <td>0.0</td>\n",
       "      <td>0.0</td>\n",
       "      <td>0.0</td>\n",
       "      <td>0.0</td>\n",
       "      <td>0.0</td>\n",
       "      <td>...</td>\n",
       "      <td>0.0</td>\n",
       "      <td>0.0</td>\n",
       "      <td>0.0</td>\n",
       "      <td>0.0</td>\n",
       "      <td>0.0</td>\n",
       "      <td>0.0</td>\n",
       "      <td>0.0</td>\n",
       "      <td>0.0</td>\n",
       "      <td>0.0</td>\n",
       "      <td>0.0</td>\n",
       "    </tr>\n",
       "    <tr>\n",
       "      <th>32</th>\n",
       "      <td>6.0</td>\n",
       "      <td>10.0</td>\n",
       "      <td>0.0</td>\n",
       "      <td>0.0</td>\n",
       "      <td>0.0</td>\n",
       "      <td>0.0</td>\n",
       "      <td>0.0</td>\n",
       "      <td>0.0</td>\n",
       "      <td>0.0</td>\n",
       "      <td>0.0</td>\n",
       "      <td>...</td>\n",
       "      <td>0.0</td>\n",
       "      <td>0.0</td>\n",
       "      <td>0.0</td>\n",
       "      <td>0.0</td>\n",
       "      <td>0.0</td>\n",
       "      <td>0.0</td>\n",
       "      <td>0.0</td>\n",
       "      <td>0.0</td>\n",
       "      <td>0.0</td>\n",
       "      <td>0.0</td>\n",
       "    </tr>\n",
       "    <tr>\n",
       "      <th>33</th>\n",
       "      <td>3.0</td>\n",
       "      <td>3.0</td>\n",
       "      <td>0.0</td>\n",
       "      <td>0.0</td>\n",
       "      <td>0.0</td>\n",
       "      <td>0.0</td>\n",
       "      <td>0.0</td>\n",
       "      <td>0.0</td>\n",
       "      <td>0.0</td>\n",
       "      <td>0.0</td>\n",
       "      <td>...</td>\n",
       "      <td>0.0</td>\n",
       "      <td>0.0</td>\n",
       "      <td>0.0</td>\n",
       "      <td>0.0</td>\n",
       "      <td>0.0</td>\n",
       "      <td>0.0</td>\n",
       "      <td>0.0</td>\n",
       "      <td>0.0</td>\n",
       "      <td>0.0</td>\n",
       "      <td>0.0</td>\n",
       "    </tr>\n",
       "    <tr>\n",
       "      <th>35</th>\n",
       "      <td>1.0</td>\n",
       "      <td>14.0</td>\n",
       "      <td>0.0</td>\n",
       "      <td>0.0</td>\n",
       "      <td>0.0</td>\n",
       "      <td>0.0</td>\n",
       "      <td>0.0</td>\n",
       "      <td>0.0</td>\n",
       "      <td>0.0</td>\n",
       "      <td>0.0</td>\n",
       "      <td>...</td>\n",
       "      <td>0.0</td>\n",
       "      <td>0.0</td>\n",
       "      <td>0.0</td>\n",
       "      <td>0.0</td>\n",
       "      <td>0.0</td>\n",
       "      <td>0.0</td>\n",
       "      <td>0.0</td>\n",
       "      <td>0.0</td>\n",
       "      <td>0.0</td>\n",
       "      <td>0.0</td>\n",
       "    </tr>\n",
       "  </tbody>\n",
       "</table>\n",
       "<p>5 rows × 34 columns</p>\n",
       "</div>"
      ],
      "text/plain": [
       "date_block_num    0     1    2    3    4    5    6    7    8    9   ...   24  \\\n",
       "shop_id item_id                                                     ...        \n",
       "0       30       0.0  31.0  0.0  0.0  0.0  0.0  0.0  0.0  0.0  0.0  ...  0.0   \n",
       "        31       0.0  11.0  0.0  0.0  0.0  0.0  0.0  0.0  0.0  0.0  ...  0.0   \n",
       "        32       6.0  10.0  0.0  0.0  0.0  0.0  0.0  0.0  0.0  0.0  ...  0.0   \n",
       "        33       3.0   3.0  0.0  0.0  0.0  0.0  0.0  0.0  0.0  0.0  ...  0.0   \n",
       "        35       1.0  14.0  0.0  0.0  0.0  0.0  0.0  0.0  0.0  0.0  ...  0.0   \n",
       "\n",
       "date_block_num    25   26   27   28   29   30   31   32   33  \n",
       "shop_id item_id                                               \n",
       "0       30       0.0  0.0  0.0  0.0  0.0  0.0  0.0  0.0  0.0  \n",
       "        31       0.0  0.0  0.0  0.0  0.0  0.0  0.0  0.0  0.0  \n",
       "        32       0.0  0.0  0.0  0.0  0.0  0.0  0.0  0.0  0.0  \n",
       "        33       0.0  0.0  0.0  0.0  0.0  0.0  0.0  0.0  0.0  \n",
       "        35       0.0  0.0  0.0  0.0  0.0  0.0  0.0  0.0  0.0  \n",
       "\n",
       "[5 rows x 34 columns]"
      ]
     },
     "execution_count": 28,
     "metadata": {},
     "output_type": "execute_result"
    }
   ],
   "source": [
    "train_pivot_table = train.pivot_table(index=['shop_id','item_id'], columns='date_block_num', \n",
    "                         values='item_cnt_day',aggfunc='sum').fillna(0.0)\n",
    "train_pivot_table.head()"
   ]
  },
  {
   "cell_type": "markdown",
   "metadata": {},
   "source": [
    "Добавляем категории"
   ]
  },
  {
   "cell_type": "code",
   "execution_count": 29,
   "metadata": {},
   "outputs": [],
   "source": [
    "train_cleaned = train_pivot_table.reset_index()\n",
    "train_cleaned['shop_id']= pd.to_numeric(train_cleaned['shop_id'])\n",
    "train_cleaned['item_id']= pd.to_numeric(train_cleaned['item_id'])\n",
    "\n",
    "item_to_cat = items.merge(item_category[['item_category_id','category']], how=\"inner\",\n",
    "                             on=\"item_category_id\")[['item_id','category']]\n",
    "train_cleaned = train_cleaned.merge(item_to_cat, how=\"inner\", on=\"item_id\")"
   ]
  },
  {
   "cell_type": "markdown",
   "metadata": {},
   "source": [
    "Кодируем категории"
   ]
  },
  {
   "cell_type": "code",
   "execution_count": 30,
   "metadata": {
    "scrolled": true
   },
   "outputs": [
    {
     "data": {
      "text/html": [
       "<div>\n",
       "<style scoped>\n",
       "    .dataframe tbody tr th:only-of-type {\n",
       "        vertical-align: middle;\n",
       "    }\n",
       "\n",
       "    .dataframe tbody tr th {\n",
       "        vertical-align: top;\n",
       "    }\n",
       "\n",
       "    .dataframe thead th {\n",
       "        text-align: right;\n",
       "    }\n",
       "</style>\n",
       "<table border=\"1\" class=\"dataframe\">\n",
       "  <thead>\n",
       "    <tr style=\"text-align: right;\">\n",
       "      <th></th>\n",
       "      <th>shop_id</th>\n",
       "      <th>item_id</th>\n",
       "      <th>category</th>\n",
       "      <th>0</th>\n",
       "      <th>1</th>\n",
       "      <th>2</th>\n",
       "      <th>3</th>\n",
       "      <th>4</th>\n",
       "      <th>5</th>\n",
       "      <th>6</th>\n",
       "      <th>...</th>\n",
       "      <th>24</th>\n",
       "      <th>25</th>\n",
       "      <th>26</th>\n",
       "      <th>27</th>\n",
       "      <th>28</th>\n",
       "      <th>29</th>\n",
       "      <th>30</th>\n",
       "      <th>31</th>\n",
       "      <th>32</th>\n",
       "      <th>33</th>\n",
       "    </tr>\n",
       "  </thead>\n",
       "  <tbody>\n",
       "    <tr>\n",
       "      <th>0</th>\n",
       "      <td>0</td>\n",
       "      <td>30</td>\n",
       "      <td>8</td>\n",
       "      <td>0.0</td>\n",
       "      <td>31.0</td>\n",
       "      <td>0.0</td>\n",
       "      <td>0.0</td>\n",
       "      <td>0.0</td>\n",
       "      <td>0.0</td>\n",
       "      <td>0.0</td>\n",
       "      <td>...</td>\n",
       "      <td>0.0</td>\n",
       "      <td>0.0</td>\n",
       "      <td>0.0</td>\n",
       "      <td>0.0</td>\n",
       "      <td>0.0</td>\n",
       "      <td>0.0</td>\n",
       "      <td>0.0</td>\n",
       "      <td>0.0</td>\n",
       "      <td>0.0</td>\n",
       "      <td>0.0</td>\n",
       "    </tr>\n",
       "    <tr>\n",
       "      <th>1</th>\n",
       "      <td>1</td>\n",
       "      <td>30</td>\n",
       "      <td>8</td>\n",
       "      <td>0.0</td>\n",
       "      <td>10.0</td>\n",
       "      <td>0.0</td>\n",
       "      <td>0.0</td>\n",
       "      <td>0.0</td>\n",
       "      <td>0.0</td>\n",
       "      <td>0.0</td>\n",
       "      <td>...</td>\n",
       "      <td>0.0</td>\n",
       "      <td>0.0</td>\n",
       "      <td>0.0</td>\n",
       "      <td>0.0</td>\n",
       "      <td>0.0</td>\n",
       "      <td>0.0</td>\n",
       "      <td>0.0</td>\n",
       "      <td>0.0</td>\n",
       "      <td>0.0</td>\n",
       "      <td>0.0</td>\n",
       "    </tr>\n",
       "    <tr>\n",
       "      <th>2</th>\n",
       "      <td>2</td>\n",
       "      <td>30</td>\n",
       "      <td>8</td>\n",
       "      <td>0.0</td>\n",
       "      <td>0.0</td>\n",
       "      <td>1.0</td>\n",
       "      <td>0.0</td>\n",
       "      <td>0.0</td>\n",
       "      <td>1.0</td>\n",
       "      <td>0.0</td>\n",
       "      <td>...</td>\n",
       "      <td>0.0</td>\n",
       "      <td>0.0</td>\n",
       "      <td>0.0</td>\n",
       "      <td>0.0</td>\n",
       "      <td>0.0</td>\n",
       "      <td>0.0</td>\n",
       "      <td>0.0</td>\n",
       "      <td>0.0</td>\n",
       "      <td>0.0</td>\n",
       "      <td>0.0</td>\n",
       "    </tr>\n",
       "    <tr>\n",
       "      <th>3</th>\n",
       "      <td>3</td>\n",
       "      <td>30</td>\n",
       "      <td>8</td>\n",
       "      <td>0.0</td>\n",
       "      <td>4.0</td>\n",
       "      <td>5.0</td>\n",
       "      <td>2.0</td>\n",
       "      <td>2.0</td>\n",
       "      <td>1.0</td>\n",
       "      <td>0.0</td>\n",
       "      <td>...</td>\n",
       "      <td>0.0</td>\n",
       "      <td>0.0</td>\n",
       "      <td>0.0</td>\n",
       "      <td>0.0</td>\n",
       "      <td>0.0</td>\n",
       "      <td>0.0</td>\n",
       "      <td>1.0</td>\n",
       "      <td>0.0</td>\n",
       "      <td>0.0</td>\n",
       "      <td>0.0</td>\n",
       "    </tr>\n",
       "    <tr>\n",
       "      <th>4</th>\n",
       "      <td>4</td>\n",
       "      <td>30</td>\n",
       "      <td>8</td>\n",
       "      <td>0.0</td>\n",
       "      <td>7.0</td>\n",
       "      <td>3.0</td>\n",
       "      <td>0.0</td>\n",
       "      <td>0.0</td>\n",
       "      <td>0.0</td>\n",
       "      <td>0.0</td>\n",
       "      <td>...</td>\n",
       "      <td>0.0</td>\n",
       "      <td>0.0</td>\n",
       "      <td>0.0</td>\n",
       "      <td>0.0</td>\n",
       "      <td>0.0</td>\n",
       "      <td>0.0</td>\n",
       "      <td>0.0</td>\n",
       "      <td>0.0</td>\n",
       "      <td>0.0</td>\n",
       "      <td>0.0</td>\n",
       "    </tr>\n",
       "  </tbody>\n",
       "</table>\n",
       "<p>5 rows × 37 columns</p>\n",
       "</div>"
      ],
      "text/plain": [
       "   shop_id  item_id  category    0     1    2    3    4    5    6  ...   24  \\\n",
       "0        0       30         8  0.0  31.0  0.0  0.0  0.0  0.0  0.0  ...  0.0   \n",
       "1        1       30         8  0.0  10.0  0.0  0.0  0.0  0.0  0.0  ...  0.0   \n",
       "2        2       30         8  0.0   0.0  1.0  0.0  0.0  1.0  0.0  ...  0.0   \n",
       "3        3       30         8  0.0   4.0  5.0  2.0  2.0  1.0  0.0  ...  0.0   \n",
       "4        4       30         8  0.0   7.0  3.0  0.0  0.0  0.0  0.0  ...  0.0   \n",
       "\n",
       "    25   26   27   28   29   30   31   32   33  \n",
       "0  0.0  0.0  0.0  0.0  0.0  0.0  0.0  0.0  0.0  \n",
       "1  0.0  0.0  0.0  0.0  0.0  0.0  0.0  0.0  0.0  \n",
       "2  0.0  0.0  0.0  0.0  0.0  0.0  0.0  0.0  0.0  \n",
       "3  0.0  0.0  0.0  0.0  0.0  1.0  0.0  0.0  0.0  \n",
       "4  0.0  0.0  0.0  0.0  0.0  0.0  0.0  0.0  0.0  \n",
       "\n",
       "[5 rows x 37 columns]"
      ]
     },
     "execution_count": 30,
     "metadata": {},
     "output_type": "execute_result"
    }
   ],
   "source": [
    "number = preprocessing.LabelEncoder()\n",
    "train_cleaned[['category']] = number.fit_transform(train_cleaned.category)\n",
    "train_cleaned = train_cleaned[['shop_id', 'item_id', 'category'] + list(range(34))]\n",
    "train_cleaned.head()"
   ]
  },
  {
   "cell_type": "markdown",
   "metadata": {},
   "source": [
    "# 6. Построение моделей"
   ]
  },
  {
   "cell_type": "markdown",
   "metadata": {},
   "source": [
    "Проверка итогового набора данных"
   ]
  },
  {
   "cell_type": "code",
   "execution_count": 31,
   "metadata": {
    "scrolled": true
   },
   "outputs": [
    {
     "name": "stdout",
     "output_type": "stream",
     "text": [
      "-----------------Первые 7 записей----------------------\n",
      "   shop_id  item_id  category    0     1     2    3    4    5    6  ...   24  \\\n",
      "0        0       30         8  0.0  31.0   0.0  0.0  0.0  0.0  0.0  ...  0.0   \n",
      "1        1       30         8  0.0  10.0   0.0  0.0  0.0  0.0  0.0  ...  0.0   \n",
      "2        2       30         8  0.0   0.0   1.0  0.0  0.0  1.0  0.0  ...  0.0   \n",
      "3        3       30         8  0.0   4.0   5.0  2.0  2.0  1.0  0.0  ...  0.0   \n",
      "4        4       30         8  0.0   7.0   3.0  0.0  0.0  0.0  0.0  ...  0.0   \n",
      "5        5       30         8  0.0   5.0   7.0  1.0  0.0  0.0  0.0  ...  0.0   \n",
      "6        6       30         8  0.0  28.0  10.0  4.0  0.0  1.0  0.0  ...  1.0   \n",
      "\n",
      "    25   26   27   28   29   30   31   32   33  \n",
      "0  0.0  0.0  0.0  0.0  0.0  0.0  0.0  0.0  0.0  \n",
      "1  0.0  0.0  0.0  0.0  0.0  0.0  0.0  0.0  0.0  \n",
      "2  0.0  0.0  0.0  0.0  0.0  0.0  0.0  0.0  0.0  \n",
      "3  0.0  0.0  0.0  0.0  0.0  1.0  0.0  0.0  0.0  \n",
      "4  0.0  0.0  0.0  0.0  0.0  0.0  0.0  0.0  0.0  \n",
      "5  0.0  0.0  0.0  0.0  0.0  0.0  1.0  0.0  0.0  \n",
      "6  0.0  0.0  0.0  0.0  0.0  0.0  0.0  1.0  0.0  \n",
      "\n",
      "[7 rows x 37 columns]\n",
      "-------------------Типы данных-------------------------\n",
      "shop_id       int64\n",
      "item_id       int64\n",
      "category      int32\n",
      "0           float64\n",
      "1           float64\n",
      "2           float64\n",
      "3           float64\n",
      "4           float64\n",
      "5           float64\n",
      "6           float64\n",
      "7           float64\n",
      "8           float64\n",
      "9           float64\n",
      "10          float64\n",
      "11          float64\n",
      "12          float64\n",
      "13          float64\n",
      "14          float64\n",
      "15          float64\n",
      "16          float64\n",
      "17          float64\n",
      "18          float64\n",
      "19          float64\n",
      "20          float64\n",
      "21          float64\n",
      "22          float64\n",
      "23          float64\n",
      "24          float64\n",
      "25          float64\n",
      "26          float64\n",
      "27          float64\n",
      "28          float64\n",
      "29          float64\n",
      "30          float64\n",
      "31          float64\n",
      "32          float64\n",
      "33          float64\n",
      "dtype: object\n",
      "--------------------Значнеия NULL---------------------------\n",
      "shop_id     0\n",
      "item_id     0\n",
      "category    0\n",
      "0           0\n",
      "1           0\n",
      "2           0\n",
      "3           0\n",
      "4           0\n",
      "5           0\n",
      "6           0\n",
      "7           0\n",
      "8           0\n",
      "9           0\n",
      "10          0\n",
      "11          0\n",
      "12          0\n",
      "13          0\n",
      "14          0\n",
      "15          0\n",
      "16          0\n",
      "17          0\n",
      "18          0\n",
      "19          0\n",
      "20          0\n",
      "21          0\n",
      "22          0\n",
      "23          0\n",
      "24          0\n",
      "25          0\n",
      "26          0\n",
      "27          0\n",
      "28          0\n",
      "29          0\n",
      "30          0\n",
      "31          0\n",
      "32          0\n",
      "33          0\n",
      "dtype: int64\n",
      "-----------------Значнеия NAN-------------------------\n",
      "shop_id     0\n",
      "item_id     0\n",
      "category    0\n",
      "0           0\n",
      "1           0\n",
      "2           0\n",
      "3           0\n",
      "4           0\n",
      "5           0\n",
      "6           0\n",
      "7           0\n",
      "8           0\n",
      "9           0\n",
      "10          0\n",
      "11          0\n",
      "12          0\n",
      "13          0\n",
      "14          0\n",
      "15          0\n",
      "16          0\n",
      "17          0\n",
      "18          0\n",
      "19          0\n",
      "20          0\n",
      "21          0\n",
      "22          0\n",
      "23          0\n",
      "24          0\n",
      "25          0\n",
      "26          0\n",
      "27          0\n",
      "28          0\n",
      "29          0\n",
      "30          0\n",
      "31          0\n",
      "32          0\n",
      "33          0\n",
      "dtype: int64\n",
      "----------------Форма данных---------------------------\n",
      "(423589, 37)\n"
     ]
    }
   ],
   "source": [
    "print(\"-----------------Первые 7 записей----------------------\")\n",
    "print(train_cleaned.head(7))\n",
    "print(\"-------------------Типы данных-------------------------\")\n",
    "print(train_cleaned.dtypes)\n",
    "print(\"--------------------Значнеия NULL---------------------------\")\n",
    "print(train_cleaned.isnull().sum())\n",
    "print(\"-----------------Значнеия NAN-------------------------\")\n",
    "print(train_cleaned.isna().sum())\n",
    "print(\"----------------Форма данных---------------------------\")\n",
    "print(train_cleaned.shape)"
   ]
  },
  {
   "cell_type": "markdown",
   "metadata": {},
   "source": [
    "Разделение выборок"
   ]
  },
  {
   "cell_type": "code",
   "execution_count": 32,
   "metadata": {
    "scrolled": true
   },
   "outputs": [
    {
     "name": "stdout",
     "output_type": "stream",
     "text": [
      "(423589, 36)\n",
      "(423589,)\n"
     ]
    }
   ],
   "source": [
    "X_train = train_cleaned.drop(33, 1)\n",
    "y_train = train_cleaned[33]\n",
    "print(X_train.shape)\n",
    "print(y_train.shape)"
   ]
  },
  {
   "cell_type": "code",
   "execution_count": 33,
   "metadata": {
    "scrolled": false
   },
   "outputs": [
    {
     "name": "stdout",
     "output_type": "stream",
     "text": [
      "(296512, 36) (296512,)\n",
      "(127077, 36) (127077,)\n"
     ]
    }
   ],
   "source": [
    "X_train, X_test, y_train, y_test = train_test_split(X_train, y_train, test_size=0.3, random_state=42)\n",
    "print (X_train.shape,  y_train.shape)\n",
    "print (X_test.shape,  y_test.shape)"
   ]
  },
  {
   "cell_type": "code",
   "execution_count": 34,
   "metadata": {
    "scrolled": true
   },
   "outputs": [
    {
     "data": {
      "text/html": [
       "<div>\n",
       "<style scoped>\n",
       "    .dataframe tbody tr th:only-of-type {\n",
       "        vertical-align: middle;\n",
       "    }\n",
       "\n",
       "    .dataframe tbody tr th {\n",
       "        vertical-align: top;\n",
       "    }\n",
       "\n",
       "    .dataframe thead th {\n",
       "        text-align: right;\n",
       "    }\n",
       "</style>\n",
       "<table border=\"1\" class=\"dataframe\">\n",
       "  <thead>\n",
       "    <tr style=\"text-align: right;\">\n",
       "      <th></th>\n",
       "      <th>ID</th>\n",
       "      <th>shop_id</th>\n",
       "      <th>item_id</th>\n",
       "      <th>category</th>\n",
       "      <th>0</th>\n",
       "      <th>1</th>\n",
       "      <th>2</th>\n",
       "      <th>3</th>\n",
       "      <th>4</th>\n",
       "      <th>5</th>\n",
       "      <th>...</th>\n",
       "      <th>24</th>\n",
       "      <th>25</th>\n",
       "      <th>26</th>\n",
       "      <th>27</th>\n",
       "      <th>28</th>\n",
       "      <th>29</th>\n",
       "      <th>30</th>\n",
       "      <th>31</th>\n",
       "      <th>32</th>\n",
       "      <th>33</th>\n",
       "    </tr>\n",
       "  </thead>\n",
       "  <tbody>\n",
       "    <tr>\n",
       "      <th>0</th>\n",
       "      <td>0</td>\n",
       "      <td>5</td>\n",
       "      <td>5037</td>\n",
       "      <td>6.0</td>\n",
       "      <td>0.0</td>\n",
       "      <td>0.0</td>\n",
       "      <td>0.0</td>\n",
       "      <td>0.0</td>\n",
       "      <td>0.0</td>\n",
       "      <td>0.0</td>\n",
       "      <td>...</td>\n",
       "      <td>2.0</td>\n",
       "      <td>0.0</td>\n",
       "      <td>0.0</td>\n",
       "      <td>0.0</td>\n",
       "      <td>1.0</td>\n",
       "      <td>1.0</td>\n",
       "      <td>1.0</td>\n",
       "      <td>3.0</td>\n",
       "      <td>1.0</td>\n",
       "      <td>0.0</td>\n",
       "    </tr>\n",
       "    <tr>\n",
       "      <th>1</th>\n",
       "      <td>1</td>\n",
       "      <td>5</td>\n",
       "      <td>5320</td>\n",
       "      <td>0.0</td>\n",
       "      <td>0.0</td>\n",
       "      <td>0.0</td>\n",
       "      <td>0.0</td>\n",
       "      <td>0.0</td>\n",
       "      <td>0.0</td>\n",
       "      <td>0.0</td>\n",
       "      <td>...</td>\n",
       "      <td>0.0</td>\n",
       "      <td>0.0</td>\n",
       "      <td>0.0</td>\n",
       "      <td>0.0</td>\n",
       "      <td>0.0</td>\n",
       "      <td>0.0</td>\n",
       "      <td>0.0</td>\n",
       "      <td>0.0</td>\n",
       "      <td>0.0</td>\n",
       "      <td>0.0</td>\n",
       "    </tr>\n",
       "    <tr>\n",
       "      <th>2</th>\n",
       "      <td>2</td>\n",
       "      <td>5</td>\n",
       "      <td>5233</td>\n",
       "      <td>6.0</td>\n",
       "      <td>0.0</td>\n",
       "      <td>0.0</td>\n",
       "      <td>0.0</td>\n",
       "      <td>0.0</td>\n",
       "      <td>0.0</td>\n",
       "      <td>0.0</td>\n",
       "      <td>...</td>\n",
       "      <td>0.0</td>\n",
       "      <td>0.0</td>\n",
       "      <td>0.0</td>\n",
       "      <td>0.0</td>\n",
       "      <td>3.0</td>\n",
       "      <td>2.0</td>\n",
       "      <td>0.0</td>\n",
       "      <td>1.0</td>\n",
       "      <td>3.0</td>\n",
       "      <td>1.0</td>\n",
       "    </tr>\n",
       "    <tr>\n",
       "      <th>3</th>\n",
       "      <td>3</td>\n",
       "      <td>5</td>\n",
       "      <td>5232</td>\n",
       "      <td>6.0</td>\n",
       "      <td>0.0</td>\n",
       "      <td>0.0</td>\n",
       "      <td>0.0</td>\n",
       "      <td>0.0</td>\n",
       "      <td>0.0</td>\n",
       "      <td>0.0</td>\n",
       "      <td>...</td>\n",
       "      <td>0.0</td>\n",
       "      <td>0.0</td>\n",
       "      <td>0.0</td>\n",
       "      <td>0.0</td>\n",
       "      <td>0.0</td>\n",
       "      <td>0.0</td>\n",
       "      <td>0.0</td>\n",
       "      <td>1.0</td>\n",
       "      <td>0.0</td>\n",
       "      <td>0.0</td>\n",
       "    </tr>\n",
       "    <tr>\n",
       "      <th>4</th>\n",
       "      <td>4</td>\n",
       "      <td>5</td>\n",
       "      <td>5268</td>\n",
       "      <td>0.0</td>\n",
       "      <td>0.0</td>\n",
       "      <td>0.0</td>\n",
       "      <td>0.0</td>\n",
       "      <td>0.0</td>\n",
       "      <td>0.0</td>\n",
       "      <td>0.0</td>\n",
       "      <td>...</td>\n",
       "      <td>0.0</td>\n",
       "      <td>0.0</td>\n",
       "      <td>0.0</td>\n",
       "      <td>0.0</td>\n",
       "      <td>0.0</td>\n",
       "      <td>0.0</td>\n",
       "      <td>0.0</td>\n",
       "      <td>0.0</td>\n",
       "      <td>0.0</td>\n",
       "      <td>0.0</td>\n",
       "    </tr>\n",
       "  </tbody>\n",
       "</table>\n",
       "<p>5 rows × 38 columns</p>\n",
       "</div>"
      ],
      "text/plain": [
       "   ID  shop_id  item_id  category    0    1    2    3    4    5  ...   24  \\\n",
       "0   0        5     5037       6.0  0.0  0.0  0.0  0.0  0.0  0.0  ...  2.0   \n",
       "1   1        5     5320       0.0  0.0  0.0  0.0  0.0  0.0  0.0  ...  0.0   \n",
       "2   2        5     5233       6.0  0.0  0.0  0.0  0.0  0.0  0.0  ...  0.0   \n",
       "3   3        5     5232       6.0  0.0  0.0  0.0  0.0  0.0  0.0  ...  0.0   \n",
       "4   4        5     5268       0.0  0.0  0.0  0.0  0.0  0.0  0.0  ...  0.0   \n",
       "\n",
       "    25   26   27   28   29   30   31   32   33  \n",
       "0  0.0  0.0  0.0  1.0  1.0  1.0  3.0  1.0  0.0  \n",
       "1  0.0  0.0  0.0  0.0  0.0  0.0  0.0  0.0  0.0  \n",
       "2  0.0  0.0  0.0  3.0  2.0  0.0  1.0  3.0  1.0  \n",
       "3  0.0  0.0  0.0  0.0  0.0  0.0  1.0  0.0  0.0  \n",
       "4  0.0  0.0  0.0  0.0  0.0  0.0  0.0  0.0  0.0  \n",
       "\n",
       "[5 rows x 38 columns]"
      ]
     },
     "execution_count": 34,
     "metadata": {},
     "output_type": "execute_result"
    }
   ],
   "source": [
    "real_to_predict = test\n",
    "real_to_predict = test.merge(train_cleaned, how = \"left\", on = [\"shop_id\", \"item_id\"]).fillna(0.0)\n",
    "real_to_predict.head()"
   ]
  },
  {
   "cell_type": "markdown",
   "metadata": {},
   "source": [
    "Переход на один месяц вперед"
   ]
  },
  {
   "cell_type": "code",
   "execution_count": 35,
   "metadata": {},
   "outputs": [],
   "source": [
    "d = dict(zip(real_to_predict.columns[4:],list(np.array(list(real_to_predict.columns[4:])) - 1)))\n",
    "\n",
    "real_to_predict  = real_to_predict.rename(d, axis = 1)"
   ]
  },
  {
   "cell_type": "markdown",
   "metadata": {},
   "source": [
    "## 6.1  Модель RandomForestRegressor"
   ]
  },
  {
   "cell_type": "code",
   "execution_count": 36,
   "metadata": {},
   "outputs": [],
   "source": [
    "model_rfr = RandomForestRegressor().fit(X_train, y_train)"
   ]
  },
  {
   "cell_type": "markdown",
   "metadata": {},
   "source": [
    " Оценка качества модели по метрикам"
   ]
  },
  {
   "cell_type": "code",
   "execution_count": 37,
   "metadata": {},
   "outputs": [
    {
     "name": "stdout",
     "output_type": "stream",
     "text": [
      "MSE: 3.147700084987842\n",
      "RMSE: 1.7741758889658719\n",
      "MAE: 0.1705561982105338\n",
      "Коэффициент детерминации: 0.4611774213409018\n"
     ]
    }
   ],
   "source": [
    "y_pred_rfr = model_rfr.predict(X_test)\n",
    "show_metrics(y_test, y_pred_rfr)"
   ]
  },
  {
   "cell_type": "markdown",
   "metadata": {},
   "source": [
    " Визуализация реальных и предсказанных значений"
   ]
  },
  {
   "cell_type": "code",
   "execution_count": 38,
   "metadata": {
    "scrolled": false
   },
   "outputs": [
    {
     "data": {
      "image/png": "[encoded data removed]",
      "text/plain": [
       "<Figure size 1080x864 with 1 Axes>"
      ]
     },
     "metadata": {
      "needs_background": "light"
     },
     "output_type": "display_data"
    }
   ],
   "source": [
    "plot_model_results('RandomForestRegressor', y_test, y_pred_rfr)"
   ]
  },
  {
   "cell_type": "markdown",
   "metadata": {},
   "source": [
    "Предсказания для тестовой выборки"
   ]
  },
  {
   "cell_type": "code",
   "execution_count": 39,
   "metadata": {},
   "outputs": [],
   "source": [
    "predict_rfr = model_rfr.predict(real_to_predict.iloc[:, (real_to_predict.columns != 'ID') \n",
    "                                                     & (real_to_predict.columns != -1)].values)"
   ]
  },
  {
   "cell_type": "markdown",
   "metadata": {},
   "source": [
    "Нормализуем наш прогноз в пределах [0-20]"
   ]
  },
  {
   "cell_type": "code",
   "execution_count": 40,
   "metadata": {},
   "outputs": [
    {
     "data": {
      "text/html": [
       "<div>\n",
       "<style scoped>\n",
       "    .dataframe tbody tr th:only-of-type {\n",
       "        vertical-align: middle;\n",
       "    }\n",
       "\n",
       "    .dataframe tbody tr th {\n",
       "        vertical-align: top;\n",
       "    }\n",
       "\n",
       "    .dataframe thead th {\n",
       "        text-align: right;\n",
       "    }\n",
       "</style>\n",
       "<table border=\"1\" class=\"dataframe\">\n",
       "  <thead>\n",
       "    <tr style=\"text-align: right;\">\n",
       "      <th></th>\n",
       "      <th>ID</th>\n",
       "      <th>item_cnt_month</th>\n",
       "    </tr>\n",
       "  </thead>\n",
       "  <tbody>\n",
       "    <tr>\n",
       "      <th>0</th>\n",
       "      <td>0</td>\n",
       "      <td>0.23</td>\n",
       "    </tr>\n",
       "    <tr>\n",
       "      <th>1</th>\n",
       "      <td>1</td>\n",
       "      <td>0.00</td>\n",
       "    </tr>\n",
       "    <tr>\n",
       "      <th>2</th>\n",
       "      <td>2</td>\n",
       "      <td>0.45</td>\n",
       "    </tr>\n",
       "    <tr>\n",
       "      <th>3</th>\n",
       "      <td>3</td>\n",
       "      <td>0.04</td>\n",
       "    </tr>\n",
       "    <tr>\n",
       "      <th>4</th>\n",
       "      <td>4</td>\n",
       "      <td>0.02</td>\n",
       "    </tr>\n",
       "  </tbody>\n",
       "</table>\n",
       "</div>"
      ],
      "text/plain": [
       "   ID  item_cnt_month\n",
       "0   0            0.23\n",
       "1   1            0.00\n",
       "2   2            0.45\n",
       "3   3            0.04\n",
       "4   4            0.02"
      ]
     },
     "execution_count": 40,
     "metadata": {},
     "output_type": "execute_result"
    }
   ],
   "source": [
    "predicted_rfr = pd.DataFrame({'ID':real_to_predict.ID,'item_cnt_month':list(map(lambda x: min(20,max(x,0)),\n",
    "                                                                                list(predict_rfr)))})\n",
    "predicted_rfr.head()"
   ]
  },
  {
   "cell_type": "markdown",
   "metadata": {},
   "source": [
    "Запись результатов в файл для их отправки"
   ]
  },
  {
   "cell_type": "code",
   "execution_count": 41,
   "metadata": {},
   "outputs": [],
   "source": [
    "predicted_rfr.to_csv('results/Predict_Sales_rfr.csv',index=False)"
   ]
  },
  {
   "cell_type": "markdown",
   "metadata": {},
   "source": [
    "Сериализация модели"
   ]
  },
  {
   "cell_type": "code",
   "execution_count": 47,
   "metadata": {},
   "outputs": [
    {
     "data": {
      "text/plain": [
       "['rfr.joblib']"
      ]
     },
     "execution_count": 47,
     "metadata": {},
     "output_type": "execute_result"
    }
   ],
   "source": [
    "from joblib import dump\n",
    "dump(model_rfr, 'rfr.joblib')"
   ]
  },
  {
   "cell_type": "markdown",
   "metadata": {},
   "source": [
    "## 6.2 XGBRegressor"
   ]
  },
  {
   "cell_type": "code",
   "execution_count": 91,
   "metadata": {},
   "outputs": [],
   "source": [
    "model_xgb = xgb.XGBRegressor().fit(X_train, y_train)"
   ]
  },
  {
   "cell_type": "markdown",
   "metadata": {},
   "source": [
    "Оценка качества модели по метрикам"
   ]
  },
  {
   "cell_type": "code",
   "execution_count": 92,
   "metadata": {
    "scrolled": true
   },
   "outputs": [
    {
     "name": "stdout",
     "output_type": "stream",
     "text": [
      "MSE: 3.428920817891728\n",
      "RMSE: 1.851734543041126\n",
      "MAE: 0.19768889663244066\n",
      "Коэффициент детерминации: 0.41303812077718294\n"
     ]
    }
   ],
   "source": [
    "y_pred_xgb = model_xgb.predict(X_test)\n",
    "show_metrics(y_test, y_pred_xgb)"
   ]
  },
  {
   "cell_type": "markdown",
   "metadata": {},
   "source": [
    " Визуализация реальных и предсказанных значений"
   ]
  },
  {
   "cell_type": "code",
   "execution_count": 113,
   "metadata": {},
   "outputs": [
    {
     "data": {
      "image/png": "[encoded data removed]",
      "text/plain": [
       "<Figure size 1080x864 with 1 Axes>"
      ]
     },
     "metadata": {
      "needs_background": "light"
     },
     "output_type": "display_data"
    }
   ],
   "source": [
    "plot_model_results('XGBRegressor', y_test, y_pred_xgb)"
   ]
  },
  {
   "cell_type": "markdown",
   "metadata": {},
   "source": [
    "Предсказания для тестовой выборки"
   ]
  },
  {
   "cell_type": "code",
   "execution_count": 94,
   "metadata": {},
   "outputs": [],
   "source": [
    "predict_xgb = model_xgb.predict(real_to_predict.iloc[:, (real_to_predict.columns != 'ID') & (\n",
    "    real_to_predict.columns != -1)].values)"
   ]
  },
  {
   "cell_type": "markdown",
   "metadata": {},
   "source": [
    "Нормализуем наш прогноз в пределах [0-20]"
   ]
  },
  {
   "cell_type": "code",
   "execution_count": 95,
   "metadata": {},
   "outputs": [
    {
     "data": {
      "text/html": [
       "<div>\n",
       "<style scoped>\n",
       "    .dataframe tbody tr th:only-of-type {\n",
       "        vertical-align: middle;\n",
       "    }\n",
       "\n",
       "    .dataframe tbody tr th {\n",
       "        vertical-align: top;\n",
       "    }\n",
       "\n",
       "    .dataframe thead th {\n",
       "        text-align: right;\n",
       "    }\n",
       "</style>\n",
       "<table border=\"1\" class=\"dataframe\">\n",
       "  <thead>\n",
       "    <tr style=\"text-align: right;\">\n",
       "      <th></th>\n",
       "      <th>ID</th>\n",
       "      <th>item_cnt_month</th>\n",
       "    </tr>\n",
       "  </thead>\n",
       "  <tbody>\n",
       "    <tr>\n",
       "      <th>0</th>\n",
       "      <td>0</td>\n",
       "      <td>0.340111</td>\n",
       "    </tr>\n",
       "    <tr>\n",
       "      <th>1</th>\n",
       "      <td>1</td>\n",
       "      <td>0.098882</td>\n",
       "    </tr>\n",
       "    <tr>\n",
       "      <th>2</th>\n",
       "      <td>2</td>\n",
       "      <td>0.606657</td>\n",
       "    </tr>\n",
       "    <tr>\n",
       "      <th>3</th>\n",
       "      <td>3</td>\n",
       "      <td>0.125540</td>\n",
       "    </tr>\n",
       "    <tr>\n",
       "      <th>4</th>\n",
       "      <td>4</td>\n",
       "      <td>0.098882</td>\n",
       "    </tr>\n",
       "  </tbody>\n",
       "</table>\n",
       "</div>"
      ],
      "text/plain": [
       "   ID  item_cnt_month\n",
       "0   0        0.340111\n",
       "1   1        0.098882\n",
       "2   2        0.606657\n",
       "3   3        0.125540\n",
       "4   4        0.098882"
      ]
     },
     "execution_count": 95,
     "metadata": {},
     "output_type": "execute_result"
    }
   ],
   "source": [
    "predicted_xgb = pd.DataFrame({'ID':real_to_predict.ID,'item_cnt_month':list(map(lambda x: min(20,max(x,0)), \n",
    "                                                                                list(predict_xgb))) })\n",
    "predicted_xgb.head()"
   ]
  },
  {
   "cell_type": "markdown",
   "metadata": {},
   "source": [
    "Запись результатов в файл для их отправки"
   ]
  },
  {
   "cell_type": "code",
   "execution_count": 96,
   "metadata": {},
   "outputs": [],
   "source": [
    "predicted_xgb.to_csv('results/Predict_Sales_xgb.csv',index=False)"
   ]
  },
  {
   "cell_type": "markdown",
   "metadata": {},
   "source": [
    "## 6.3 GradientBoostingRegressor"
   ]
  },
  {
   "cell_type": "code",
   "execution_count": 97,
   "metadata": {},
   "outputs": [],
   "source": [
    "model_gbr = GradientBoostingRegressor().fit(X_train, y_train)"
   ]
  },
  {
   "cell_type": "markdown",
   "metadata": {},
   "source": [
    " Оценка качества модели по метрикам"
   ]
  },
  {
   "cell_type": "code",
   "execution_count": 98,
   "metadata": {
    "scrolled": true
   },
   "outputs": [
    {
     "name": "stdout",
     "output_type": "stream",
     "text": [
      "MSE: 3.2962795773496163\n",
      "RMSE: 1.815565911045263\n",
      "MAE: 0.22538396318621315\n",
      "Коэффициент детерминации: 0.43574361791342553\n"
     ]
    }
   ],
   "source": [
    "y_pred_gbr = model_gbr.predict(X_test)\n",
    "show_metrics(y_test, y_pred_gbr)"
   ]
  },
  {
   "cell_type": "markdown",
   "metadata": {},
   "source": [
    "Визуализация реальных и предсказанных значений"
   ]
  },
  {
   "cell_type": "code",
   "execution_count": 112,
   "metadata": {
    "scrolled": false
   },
   "outputs": [
    {
     "data": {
      "image/png": "[encoded data removed]",
      "text/plain": [
       "<Figure size 1080x864 with 1 Axes>"
      ]
     },
     "metadata": {
      "needs_background": "light"
     },
     "output_type": "display_data"
    }
   ],
   "source": [
    "plot_model_results('GradientBoostingRegressor', y_test, y_pred_gbr)"
   ]
  },
  {
   "cell_type": "markdown",
   "metadata": {},
   "source": [
    "Предсказания для тестовой выборки"
   ]
  },
  {
   "cell_type": "code",
   "execution_count": 100,
   "metadata": {},
   "outputs": [],
   "source": [
    "predict_gbr = model_gbr.predict(real_to_predict.iloc[:, (real_to_predict.columns != 'ID') & \n",
    "                                                     (real_to_predict.columns != -1)].values)"
   ]
  },
  {
   "cell_type": "markdown",
   "metadata": {},
   "source": [
    "Нормализуем наш прогноз в пределах [0-20]"
   ]
  },
  {
   "cell_type": "code",
   "execution_count": 101,
   "metadata": {},
   "outputs": [
    {
     "data": {
      "text/html": [
       "<div>\n",
       "<style scoped>\n",
       "    .dataframe tbody tr th:only-of-type {\n",
       "        vertical-align: middle;\n",
       "    }\n",
       "\n",
       "    .dataframe tbody tr th {\n",
       "        vertical-align: top;\n",
       "    }\n",
       "\n",
       "    .dataframe thead th {\n",
       "        text-align: right;\n",
       "    }\n",
       "</style>\n",
       "<table border=\"1\" class=\"dataframe\">\n",
       "  <thead>\n",
       "    <tr style=\"text-align: right;\">\n",
       "      <th></th>\n",
       "      <th>ID</th>\n",
       "      <th>item_cnt_month</th>\n",
       "    </tr>\n",
       "  </thead>\n",
       "  <tbody>\n",
       "    <tr>\n",
       "      <th>0</th>\n",
       "      <td>0</td>\n",
       "      <td>0.357401</td>\n",
       "    </tr>\n",
       "    <tr>\n",
       "      <th>1</th>\n",
       "      <td>1</td>\n",
       "      <td>0.105804</td>\n",
       "    </tr>\n",
       "    <tr>\n",
       "      <th>2</th>\n",
       "      <td>2</td>\n",
       "      <td>0.863977</td>\n",
       "    </tr>\n",
       "    <tr>\n",
       "      <th>3</th>\n",
       "      <td>3</td>\n",
       "      <td>0.136400</td>\n",
       "    </tr>\n",
       "    <tr>\n",
       "      <th>4</th>\n",
       "      <td>4</td>\n",
       "      <td>0.105804</td>\n",
       "    </tr>\n",
       "  </tbody>\n",
       "</table>\n",
       "</div>"
      ],
      "text/plain": [
       "   ID  item_cnt_month\n",
       "0   0        0.357401\n",
       "1   1        0.105804\n",
       "2   2        0.863977\n",
       "3   3        0.136400\n",
       "4   4        0.105804"
      ]
     },
     "execution_count": 101,
     "metadata": {},
     "output_type": "execute_result"
    }
   ],
   "source": [
    "predicted_gbr = pd.DataFrame({'ID':real_to_predict.ID,'item_cnt_month':list(map(lambda x: min(20,max(x,0)), \n",
    "                                                                                list(predict_gbr)))})\n",
    "predicted_gbr.head()"
   ]
  },
  {
   "cell_type": "markdown",
   "metadata": {},
   "source": [
    "Запись результатов в файл для их отправки"
   ]
  },
  {
   "cell_type": "code",
   "execution_count": 102,
   "metadata": {},
   "outputs": [],
   "source": [
    "predicted_gbr.to_csv('results/Predict_Sales_gbr.csv',index=False)"
   ]
  },
  {
   "cell_type": "markdown",
   "metadata": {},
   "source": [
    "## 6.4 CatBoostRegressor"
   ]
  },
  {
   "cell_type": "code",
   "execution_count": 48,
   "metadata": {},
   "outputs": [],
   "source": [
    "model_cbr = CatBoostRegressor(verbose=False).fit(X_train, y_train)"
   ]
  },
  {
   "cell_type": "markdown",
   "metadata": {},
   "source": [
    "Оценка качества модели по метрикам"
   ]
  },
  {
   "cell_type": "code",
   "execution_count": 49,
   "metadata": {
    "scrolled": true
   },
   "outputs": [
    {
     "name": "stdout",
     "output_type": "stream",
     "text": [
      "MSE: 3.760027391281701\n",
      "RMSE: 1.9390790059411454\n",
      "MAE: 0.21509148364820405\n",
      "Коэффициент детерминации: 0.3563593734798043\n"
     ]
    }
   ],
   "source": [
    "y_pred_cbr = model_cbr.predict(X_test)\n",
    "show_metrics(y_test, y_pred_cbr)"
   ]
  },
  {
   "cell_type": "markdown",
   "metadata": {},
   "source": [
    " Визуализация реальных и предсказанных значений"
   ]
  },
  {
   "cell_type": "code",
   "execution_count": 50,
   "metadata": {},
   "outputs": [
    {
     "data": {
      "image/png": "[encoded data removed]",
      "text/plain": [
       "<Figure size 1080x864 with 1 Axes>"
      ]
     },
     "metadata": {
      "needs_background": "light"
     },
     "output_type": "display_data"
    }
   ],
   "source": [
    "plot_model_results('CatBoostRegressor', y_test, y_pred_cbr)"
   ]
  },
  {
   "cell_type": "markdown",
   "metadata": {},
   "source": [
    "Предсказания для тестовой выборки"
   ]
  },
  {
   "cell_type": "code",
   "execution_count": 51,
   "metadata": {},
   "outputs": [],
   "source": [
    "predict_cbr = model_cbr.predict(real_to_predict.iloc[:, (real_to_predict.columns != 'ID') \n",
    "                                                     & (real_to_predict.columns != -1)].values)"
   ]
  },
  {
   "cell_type": "markdown",
   "metadata": {},
   "source": [
    "Нормализуем наш прогноз в пределах [0-20]"
   ]
  },
  {
   "cell_type": "code",
   "execution_count": 52,
   "metadata": {},
   "outputs": [
    {
     "data": {
      "text/html": [
       "<div>\n",
       "<style scoped>\n",
       "    .dataframe tbody tr th:only-of-type {\n",
       "        vertical-align: middle;\n",
       "    }\n",
       "\n",
       "    .dataframe tbody tr th {\n",
       "        vertical-align: top;\n",
       "    }\n",
       "\n",
       "    .dataframe thead th {\n",
       "        text-align: right;\n",
       "    }\n",
       "</style>\n",
       "<table border=\"1\" class=\"dataframe\">\n",
       "  <thead>\n",
       "    <tr style=\"text-align: right;\">\n",
       "      <th></th>\n",
       "      <th>ID</th>\n",
       "      <th>item_cnt_month</th>\n",
       "    </tr>\n",
       "  </thead>\n",
       "  <tbody>\n",
       "    <tr>\n",
       "      <th>0</th>\n",
       "      <td>0</td>\n",
       "      <td>0.381607</td>\n",
       "    </tr>\n",
       "    <tr>\n",
       "      <th>1</th>\n",
       "      <td>1</td>\n",
       "      <td>0.153402</td>\n",
       "    </tr>\n",
       "    <tr>\n",
       "      <th>2</th>\n",
       "      <td>2</td>\n",
       "      <td>0.655837</td>\n",
       "    </tr>\n",
       "    <tr>\n",
       "      <th>3</th>\n",
       "      <td>3</td>\n",
       "      <td>0.169866</td>\n",
       "    </tr>\n",
       "    <tr>\n",
       "      <th>4</th>\n",
       "      <td>4</td>\n",
       "      <td>0.153402</td>\n",
       "    </tr>\n",
       "  </tbody>\n",
       "</table>\n",
       "</div>"
      ],
      "text/plain": [
       "   ID  item_cnt_month\n",
       "0   0        0.381607\n",
       "1   1        0.153402\n",
       "2   2        0.655837\n",
       "3   3        0.169866\n",
       "4   4        0.153402"
      ]
     },
     "execution_count": 52,
     "metadata": {},
     "output_type": "execute_result"
    }
   ],
   "source": [
    "predicted_cbr = pd.DataFrame({'ID':real_to_predict.ID,'item_cnt_month':list(map(lambda x: min(20,max(x,0)), \n",
    "                                                                                list(predict_cbr)))})\n",
    "predicted_cbr.head()"
   ]
  },
  {
   "cell_type": "markdown",
   "metadata": {},
   "source": [
    "Запись результатов в файл для их отправки"
   ]
  },
  {
   "cell_type": "code",
   "execution_count": 53,
   "metadata": {},
   "outputs": [],
   "source": [
    "predicted_cbr.to_csv('results/Predict_Sales_cbr.csv',index=False)"
   ]
  },
  {
   "cell_type": "code",
   "execution_count": 54,
   "metadata": {},
   "outputs": [],
   "source": [
    "model_cbr.save_model(\"catboots\")"
   ]
  },
  {
   "cell_type": "code",
   "execution_count": null,
   "metadata": {},
   "outputs": [],
   "source": []
  }
 ],
 "metadata": {
  "kernelspec": {
   "display_name": "Python 3",
   "language": "python",
   "name": "python3"
  },
  "language_info": {
   "codemirror_mode": {
    "name": "ipython",
    "version": 3
   },
   "file_extension": ".py",
   "mimetype": "text/x-python",
   "name": "python",
   "nbconvert_exporter": "python",
   "pygments_lexer": "ipython3",
   "version": "3.8.5"
  }
 },
 "nbformat": 4,
 "nbformat_minor": 4
}
